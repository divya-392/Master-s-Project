{
 "cells": [
  {
   "cell_type": "markdown",
   "id": "514b71ea",
   "metadata": {},
   "source": [
    "# Tree-Based Models for Intrusion Detection (CICIDS2017 Dataset)"
   ]
  },
  {
   "cell_type": "markdown",
   "id": "cfa8d58b",
   "metadata": {},
   "source": [
    "This notebook focuses on preparing the dataset, cleaning it, splitting into training and testing parts, and then applying feature selection and model training."
   ]
  },
  {
   "cell_type": "markdown",
   "id": "5333cb1a",
   "metadata": {},
   "source": [
    "## 1. Data Preprocessing"
   ]
  },
  {
   "cell_type": "markdown",
   "id": "71fa3c4e",
   "metadata": {},
   "source": [
    "### 1.1 Import Libraries"
   ]
  },
  {
   "cell_type": "markdown",
   "id": "257af7e9",
   "metadata": {},
   "source": [
    "This block imports the warnings module and disables warning messages. It ensures that the notebook output remains clean and readable without unnecessary warning texts during execution."
   ]
  },
  {
   "cell_type": "code",
   "execution_count": null,
   "id": "cfe3ef84",
   "metadata": {},
   "outputs": [],
   "source": [
    "import warnings\n",
    "warnings.filterwarnings(\"ignore\")"
   ]
  },
  {
   "cell_type": "markdown",
   "id": "d749231c",
   "metadata": {},
   "source": [
    "Here we import the required Python libraries:\n",
    "\n",
    "- `numpy` and `pandas` for numerical operations and data manipulation  \n",
    "- `seaborn` and `matplotlib` for visualization  \n",
    "- `LabelEncoder` from scikit-learn to convert categorical labels into numeric form  \n",
    "- `train_test_split` for dataset splitting  \n",
    "- `classification_report`, `confusion_matrix`, `accuracy_score`, `precision_recall_fscore_support`, `f1_score` for model evaluation  \n",
    "- `DecisionTreeClassifier`, `RandomForestClassifier`, `ExtraTreesClassifier`, and `XGBoost` for classification models  \n"
   ]
  },
  {
   "cell_type": "code",
   "execution_count": null,
   "id": "a67861e8",
   "metadata": {},
   "outputs": [],
   "source": [
    "import numpy as np\n",
    "import pandas as pd\n",
    "import seaborn as sns\n",
    "import matplotlib.pyplot as plt\n",
    "from sklearn.preprocessing import LabelEncoder\n",
    "from sklearn.model_selection import train_test_split\n",
    "from sklearn.metrics import classification_report,confusion_matrix,accuracy_score,precision_recall_fscore_support\n",
    "from sklearn.metrics import f1_score\n",
    "from sklearn.ensemble import RandomForestClassifier,ExtraTreesClassifier\n",
    "from sklearn.tree import DecisionTreeClassifier\n",
    "import xgboost as xgb\n",
    "from xgboost import plot_importance"
   ]
  },
  {
   "cell_type": "markdown",
   "id": "fddfca9f",
   "metadata": {},
   "source": [
    "### 1.2 Load Dataset"
   ]
  },
  {
   "cell_type": "markdown",
   "id": "931cbd1f",
   "metadata": {},
   "source": [
    "The sampled CICIDS2017 dataset is loaded into a pandas DataFrame (df) from a CSV file."
   ]
  },
  {
   "cell_type": "code",
   "execution_count": null,
   "id": "05423f53",
   "metadata": {},
   "outputs": [],
   "source": [
    "df = pd.read_csv('./data/CICIDS2017_sample.csv')"
   ]
  },
  {
   "cell_type": "markdown",
   "id": "c613882e",
   "metadata": {},
   "source": [
    "### 1.3 Normalization and Missing Values"
   ]
  },
  {
   "cell_type": "markdown",
   "id": "1eb84769",
   "metadata": {},
   "source": [
    "Min-Max Normalization is applied to all numeric features, scaling values between 0 and 1. This step ensures uniformity across features, preventing large-scale values from dominating smaller ones. Missing values are replaced with 0 for consistency."
   ]
  },
  {
   "cell_type": "code",
   "execution_count": null,
   "id": "de4ffb2c",
   "metadata": {},
   "outputs": [],
   "source": [
    "# Min-max normalization\n",
    "numeric_features = df.dtypes[df.dtypes != 'object'].index\n",
    "df[numeric_features] = df[numeric_features].apply(\n",
    "    lambda x: (x - x.min()) / (x.max()-x.min()))\n",
    "# Fill empty values by 0\n",
    "df = df.fillna(0)"
   ]
  },
  {
   "cell_type": "markdown",
   "id": "59a100e9",
   "metadata": {},
   "source": [
    "### 1.4 Train/Test Split"
   ]
  },
  {
   "cell_type": "markdown",
   "id": "68abdfc2",
   "metadata": {},
   "source": [
    "The `Label` column (attack type) is encoded into numeric values using `LabelEncoder`.  \n",
    "\n",
    "- `X` contains the independent variables (features).  \n",
    "- `y` contains the target class labels (dependent variable).  \n",
    "\n",
    "The dataset is split into **80% training** and **20% testing**, with `stratify=y` ensuring that class distribution remains consistent across both sets."
   ]
  },
  {
   "cell_type": "code",
   "execution_count": null,
   "id": "59db56b8",
   "metadata": {},
   "outputs": [],
   "source": [
    "labelencoder = LabelEncoder()\n",
    "df.iloc[:, -1] = labelencoder.fit_transform(df.iloc[:, -1])\n",
    "X = df.drop(['Label'],axis=1).values\n",
    "y = df.iloc[:, -1].values.reshape(-1,1)\n",
    "y=np.ravel(y)\n",
    "X_train, X_test, y_train, y_test = train_test_split(X,y, train_size = 0.8, test_size = 0.2, random_state = 0,stratify = y)"
   ]
  },
  {
   "cell_type": "markdown",
   "id": "3f58d54a",
   "metadata": {},
   "source": [
    "Displays the dimensions (rows and columns) of the training dataset to confirm successful splitting and preprocessing."
   ]
  },
  {
   "cell_type": "code",
   "execution_count": null,
   "id": "e4980ea9",
   "metadata": {},
   "outputs": [
    {
     "data": {
      "text/plain": [
       "(45328, 77)"
      ]
     },
     "metadata": {},
     "output_type": "display_data"
    }
   ],
   "source": [
    "X_train.shape"
   ]
  },
  {
   "cell_type": "markdown",
   "id": "aaf49adb",
   "metadata": {},
   "source": [
    "Shows the dimensions of the test dataset, ensuring the split is correct."
   ]
  },
  {
   "cell_type": "code",
   "execution_count": null,
   "id": "8f473beb",
   "metadata": {},
   "outputs": [
    {
     "data": {
      "text/plain": [
       "(11333, 77)"
      ]
     },
     "metadata": {},
     "output_type": "display_data"
    }
   ],
   "source": [
    "X_test.shape"
   ]
  },
  {
   "cell_type": "markdown",
   "id": "26ba5313",
   "metadata": {},
   "source": [
    "Counts and displays the frequency of each class in the training dataset. This helps identify class imbalance problems before applying resampling methods."
   ]
  },
  {
   "cell_type": "code",
   "execution_count": null,
   "id": "95e294e1",
   "metadata": {},
   "outputs": [
    {
     "data": {
      "text/plain": [
       "0    18184\n",
       "3    15228\n",
       "5     6357\n",
       "2     2213\n",
       "6     1744\n",
       "1     1573\n",
       "4       29\n",
       "Name: count, dtype: int64"
      ]
     },
     "metadata": {},
     "output_type": "display_data"
    }
   ],
   "source": [
    "pd.Series(y_train).value_counts()"
   ]
  },
  {
   "cell_type": "markdown",
   "id": "5ce4209b",
   "metadata": {},
   "source": [
    "### 1.5 Handling Imbalanced Data (SMOTE)"
   ]
  },
  {
   "cell_type": "markdown",
   "id": "1cb2bc4d",
   "metadata": {},
   "source": [
    "SMOTE (Synthetic Minority Oversampling Technique) is imported and initialized.\n",
    "\n",
    "It generates synthetic samples for under-represented classes to balance the dataset. In this case, class 4 is oversampled to create 1500 new examples."
   ]
  },
  {
   "cell_type": "code",
   "execution_count": null,
   "id": "268e960b",
   "metadata": {},
   "outputs": [],
   "source": [
    "from imblearn.over_sampling import SMOTE\n",
    "smote=SMOTE(n_jobs=-1, sampling_strategy={4:1500}) # Create 1500 samples for the minority class \"4\""
   ]
  },
  {
   "cell_type": "markdown",
   "id": "f7a3e517",
   "metadata": {},
   "source": [
    "This block checks the type, shape, and unique values of y_train. It validates that the labels are encoded properly and ready for training."
   ]
  },
  {
   "cell_type": "code",
   "execution_count": null,
   "id": "aa9e2c99",
   "metadata": {},
   "outputs": [
    {
     "name": "stdout",
     "output_type": "stream",
     "text": [
      "<class 'numpy.ndarray'>\n",
      "(45328,)\n",
      "[0 1 2 3 4 5 6]\n"
     ]
    }
   ],
   "source": [
    "print(type(y_train))\n",
    "print(y_train.shape)\n",
    "print(np.unique(y_train)[:10])   # show first 10 unique labels\n"
   ]
  },
  {
   "cell_type": "markdown",
   "id": "4420fe9f",
   "metadata": {},
   "source": [
    "The training labels (y_train) are encoded again to ensure consistency. Then, SMOTE is applied to oversample the minority classes. \n",
    "\n",
    "This balances the training dataset and helps machine learning models perform better on imbalanced data."
   ]
  },
  {
   "cell_type": "code",
   "execution_count": null,
   "id": "275177af",
   "metadata": {},
   "outputs": [],
   "source": [
    "y_train =labelencoder.fit_transform(y_train)\n",
    "X_train, y_train = smote.fit_resample(X_train, y_train)"
   ]
  },
  {
   "cell_type": "markdown",
   "id": "3ab6c29a",
   "metadata": {},
   "source": [
    "Displays the new class distribution in the training dataset after SMOTE.\n",
    "\n",
    "This verifies whether oversampling successfully balanced the dataset."
   ]
  },
  {
   "cell_type": "code",
   "execution_count": null,
   "id": "a7010238",
   "metadata": {},
   "outputs": [
    {
     "data": {
      "text/plain": [
       "0    18184\n",
       "3    15228\n",
       "5     6357\n",
       "2     2213\n",
       "6     1744\n",
       "1     1573\n",
       "4     1500\n",
       "Name: count, dtype: int64"
      ]
     },
     "metadata": {},
     "output_type": "display_data"
    }
   ],
   "source": [
    "pd.Series(y_train).value_counts()"
   ]
  },
  {
   "cell_type": "markdown",
   "id": "cea7953f",
   "metadata": {},
   "source": [
    "## 2. Model Training and Evaluation (Before Feature Selection)"
   ]
  },
  {
   "cell_type": "markdown",
   "id": "280cd1ea",
   "metadata": {},
   "source": [
    "### 2.1 Decision Tree"
   ]
  },
  {
   "cell_type": "markdown",
   "id": "2c5ca73b",
   "metadata": {},
   "source": [
    "A Decision Tree classifier is initialized and trained using the resampled training data.  \n",
    "Predictions are made on the test set, and the true labels are encoded for evaluation.\n"
   ]
  },
  {
   "cell_type": "code",
   "execution_count": null,
   "id": "94ba77ec",
   "metadata": {},
   "outputs": [
    {
     "name": "stdout",
     "output_type": "stream",
     "text": [
      "Accuracy of DT: 0.995764581311215\n",
      "Precision of DT: 0.9958704389239157\n",
      "Recall of DT: 0.995764581311215\n",
      "F1-score of DT: 0.9957992382059783\n",
      "              precision    recall  f1-score   support\n",
      "\n",
      "           0       1.00      0.99      1.00      4547\n",
      "           1       0.99      0.98      0.98       393\n",
      "           2       0.99      1.00      1.00       554\n",
      "           3       1.00      1.00      1.00      3807\n",
      "           4       0.60      0.86      0.71         7\n",
      "           5       1.00      1.00      1.00      1589\n",
      "           6       1.00      0.99      0.99       436\n",
      "\n",
      "    accuracy                           1.00     11333\n",
      "   macro avg       0.94      0.97      0.95     11333\n",
      "weighted avg       1.00      1.00      1.00     11333\n",
      "\n"
     ]
    },
    {
     "data": {
      "image/png": "[encoded data removed]",
      "text/plain": [
       "<Figure size 500x500 with 2 Axes>"
      ]
     },
     "metadata": {},
     "output_type": "display_data"
    }
   ],
   "source": [
    "# Decision tree training and prediction\n",
    "dt = DecisionTreeClassifier(random_state = 0)\n",
    "dt.fit(X_train,y_train)\n",
    "\n",
    "y_predict=dt.predict(X_test)\n",
    "y_true=y_test\n",
    "y_true_encoded=labelencoder.transform(y_true)\n",
    "print('Accuracy of DT: '+ str(dt.score(X_test,y_true_encoded)))\n",
    "precision,recall,fscore,none= precision_recall_fscore_support(y_true_encoded, y_predict, average='weighted')\n",
    "print('Precision of DT: '+(str(precision)))\n",
    "print('Recall of DT: '+(str(recall)))\n",
    "print('F1-score of DT: '+(str(fscore)))\n",
    "print(classification_report(y_true_encoded,y_predict))\n",
    "cm=confusion_matrix(y_true_encoded,y_predict)\n",
    "f,ax=plt.subplots(figsize=(5,5))\n",
    "sns.heatmap(cm,annot=True,linewidth=0.5,linecolor=\"red\",fmt=\".0f\",ax=ax)\n",
    "plt.xlabel(\"y_pred\")\n",
    "plt.ylabel(\"y_true\")\n",
    "plt.show()"
   ]
  },
  {
   "cell_type": "markdown",
   "id": "1208759f",
   "metadata": {},
   "source": [
    "Predictions are generated for both training (`dt_train`) and test (`dt_test`) sets.  \n",
    "These are later used to compare model performance and check for overfitting.\n"
   ]
  },
  {
   "cell_type": "code",
   "execution_count": null,
   "id": "2ce556d0",
   "metadata": {},
   "outputs": [],
   "source": [
    "dt_train=dt.predict(X_train)\n",
    "dt_test=dt.predict(X_test)"
   ]
  },
  {
   "cell_type": "markdown",
   "id": "d3637b65",
   "metadata": {},
   "source": [
    "### 2.2 Random Forest"
   ]
  },
  {
   "cell_type": "markdown",
   "id": "ac230a2f",
   "metadata": {},
   "source": [
    "A Random Forest classifier is trained.  \n",
    "Random Forest is an ensemble method that combines multiple decision trees for better accuracy and robustness.  \n",
    "Predictions are made on the test dataset.\n"
   ]
  },
  {
   "cell_type": "code",
   "execution_count": null,
   "id": "31d23ad9",
   "metadata": {},
   "outputs": [
    {
     "name": "stdout",
     "output_type": "stream",
     "text": [
      "Accuracy of RF: 0.9948822024177182\n",
      "Precision of RF: 0.9949085648906869\n",
      "Recall of RF: 0.9948822024177182\n",
      "F1-score of RF: 0.9948656587738048\n",
      "              precision    recall  f1-score   support\n",
      "\n",
      "           0       0.99      0.99      0.99      4547\n",
      "           1       0.96      0.98      0.97       393\n",
      "           2       1.00      1.00      1.00       554\n",
      "           3       1.00      1.00      1.00      3807\n",
      "           4       1.00      0.71      0.83         7\n",
      "           5       1.00      1.00      1.00      1589\n",
      "           6       1.00      0.97      0.98       436\n",
      "\n",
      "    accuracy                           0.99     11333\n",
      "   macro avg       0.99      0.95      0.97     11333\n",
      "weighted avg       0.99      0.99      0.99     11333\n",
      "\n"
     ]
    },
    {
     "data": {
      "image/png": "[encoded data removed]",
      "text/plain": [
       "<Figure size 500x500 with 2 Axes>"
      ]
     },
     "metadata": {},
     "output_type": "display_data"
    }
   ],
   "source": [
    "# Random Forest training and prediction\n",
    "rf = RandomForestClassifier(random_state = 0)\n",
    "rf.fit(X_train,y_train)\n",
    "\n",
    "y_predict=rf.predict(X_test)\n",
    "y_true=y_test\n",
    "y_true_encoded=labelencoder.transform(y_true)\n",
    "print('Accuracy of RF: '+ str(rf.score(X_test,y_true_encoded)))\n",
    "precision,recall,fscore,none= precision_recall_fscore_support(y_true_encoded, y_predict, average='weighted')\n",
    "print('Precision of RF: '+(str(precision)))\n",
    "print('Recall of RF: '+(str(recall)))\n",
    "print('F1-score of RF: '+(str(fscore)))\n",
    "print(classification_report(y_true_encoded,y_predict))\n",
    "cm=confusion_matrix(y_true_encoded,y_predict)\n",
    "f,ax=plt.subplots(figsize=(5,5))\n",
    "sns.heatmap(cm,annot=True,linewidth=0.5,linecolor=\"red\",fmt=\".0f\",ax=ax)\n",
    "plt.xlabel(\"y_pred\")\n",
    "plt.ylabel(\"y_true\")\n",
    "plt.show()"
   ]
  },
  {
   "cell_type": "markdown",
   "id": "5b80bc65",
   "metadata": {},
   "source": [
    "Predictions are generated for both training (`rf_train`) and test (`rf_test`) sets.  \n",
    "This allows comparison between model fitting and generalization.\n"
   ]
  },
  {
   "cell_type": "code",
   "execution_count": null,
   "id": "23cdb684",
   "metadata": {},
   "outputs": [],
   "source": [
    "rf_train=rf.predict(X_train)\n",
    "rf_test=rf.predict(X_test)"
   ]
  },
  {
   "cell_type": "markdown",
   "id": "73e45942",
   "metadata": {},
   "source": [
    "### 2.3 Extra Trees"
   ]
  },
  {
   "cell_type": "markdown",
   "id": "dda5cab2",
   "metadata": {},
   "source": [
    "An Extra Trees classifier is trained.  \n",
    "Similar to Random Forest, Extra Trees builds multiple trees but introduces more randomness.  \n",
    "The model is evaluated by printing its accuracy on the test dataset.\n"
   ]
  },
  {
   "cell_type": "code",
   "execution_count": null,
   "id": "0f9cca95",
   "metadata": {},
   "outputs": [
    {
     "name": "stdout",
     "output_type": "stream",
     "text": [
      "Accuracy of ET: 0.9925880172946263\n",
      "Precision of ET: 0.9925999600547237\n",
      "Recall of ET: 0.9925880172946263\n",
      "F1-score of ET: 0.9925697851766749\n",
      "              precision    recall  f1-score   support\n",
      "\n",
      "           0       0.99      0.99      0.99      4547\n",
      "           1       0.96      0.97      0.97       393\n",
      "           2       0.99      1.00      0.99       554\n",
      "           3       0.99      1.00      1.00      3807\n",
      "           4       1.00      0.71      0.83         7\n",
      "           5       1.00      1.00      1.00      1589\n",
      "           6       0.99      0.97      0.98       436\n",
      "\n",
      "    accuracy                           0.99     11333\n",
      "   macro avg       0.99      0.95      0.97     11333\n",
      "weighted avg       0.99      0.99      0.99     11333\n",
      "\n"
     ]
    },
    {
     "data": {
      "image/png": "[encoded data removed]",
      "text/plain": [
       "<Figure size 500x500 with 2 Axes>"
      ]
     },
     "metadata": {},
     "output_type": "display_data"
    }
   ],
   "source": [
    "# Extra trees training and prediction\n",
    "et = ExtraTreesClassifier(random_state = 0)\n",
    "et.fit(X_train,y_train)\n",
    "y_predict=et.predict(X_test)\n",
    "y_true=y_test\n",
    "y_true_encoded=labelencoder.transform(y_true)\n",
    "print('Accuracy of ET: '+ str(et.score(X_test,y_true_encoded)))\n",
    "precision,recall,fscore,none= precision_recall_fscore_support(y_true_encoded, y_predict, average='weighted')\n",
    "print('Precision of ET: '+(str(precision)))\n",
    "print('Recall of ET: '+(str(recall)))\n",
    "print('F1-score of ET: '+(str(fscore)))\n",
    "print(classification_report(y_true_encoded,y_predict))\n",
    "cm=confusion_matrix(y_true_encoded,y_predict)\n",
    "f,ax=plt.subplots(figsize=(5,5))\n",
    "sns.heatmap(cm,annot=True,linewidth=0.5,linecolor=\"red\",fmt=\".0f\",ax=ax)\n",
    "plt.xlabel(\"y_pred\")\n",
    "plt.ylabel(\"y_true\")\n",
    "plt.show()"
   ]
  },
  {
   "cell_type": "markdown",
   "id": "783f27fd",
   "metadata": {},
   "source": [
    "Predictions for both training (`et_train`) and test (`et_test`) sets are obtained.  \n",
    "This is useful for performance evaluation and overfitting detection.\n"
   ]
  },
  {
   "cell_type": "code",
   "execution_count": null,
   "id": "a9c6231c",
   "metadata": {},
   "outputs": [],
   "source": [
    "et_train=et.predict(X_train)\n",
    "et_test=et.predict(X_test)"
   ]
  },
  {
   "cell_type": "markdown",
   "id": "c7ff42d3",
   "metadata": {},
   "source": [
    "### 2.4 XGBoost"
   ]
  },
  {
   "cell_type": "markdown",
   "id": "561bb169",
   "metadata": {},
   "source": [
    "The XGBoost classifier is initialized with 10 estimators and trained on the training data.  \n",
    "XGBoost is a powerful boosting algorithm often used in intrusion detection tasks.  \n",
    "Predictions are generated for the test set.\n"
   ]
  },
  {
   "cell_type": "code",
   "execution_count": null,
   "id": "81b80ad7",
   "metadata": {},
   "outputs": [
    {
     "name": "stdout",
     "output_type": "stream",
     "text": [
      "Accuracy of XGBoost: 0.99435277508162\n",
      "Precision of XGBoost: 0.9943416294473314\n",
      "Recall of XGBoost: 0.99435277508162\n",
      "F1-score of XGBoost: 0.994334815275237\n",
      "              precision    recall  f1-score   support\n",
      "\n",
      "           0       0.99      0.99      0.99      4547\n",
      "           1       0.99      0.97      0.98       393\n",
      "           2       1.00      1.00      1.00       554\n",
      "           3       0.99      1.00      1.00      3807\n",
      "           4       0.83      0.71      0.77         7\n",
      "           5       1.00      1.00      1.00      1589\n",
      "           6       1.00      0.98      0.99       436\n",
      "\n",
      "    accuracy                           0.99     11333\n",
      "   macro avg       0.97      0.95      0.96     11333\n",
      "weighted avg       0.99      0.99      0.99     11333\n",
      "\n"
     ]
    },
    {
     "data": {
      "image/png": "[encoded data removed]",
      "text/plain": [
       "<Figure size 500x500 with 2 Axes>"
      ]
     },
     "metadata": {},
     "output_type": "display_data"
    }
   ],
   "source": [
    "# XGboost training and prediction\n",
    "xg = xgb.XGBClassifier(n_estimators = 10)\n",
    "xg.fit(X_train,y_train)\n",
    "\n",
    "y_predict=xg.predict(X_test)\n",
    "y_true=y_test\n",
    "y_true_encoded=labelencoder.transform(y_true)\n",
    "print('Accuracy of XGBoost: '+ str(xg.score(X_test,y_true_encoded)))\n",
    "precision,recall,fscore,none= precision_recall_fscore_support(y_true_encoded, y_predict, average='weighted')\n",
    "print('Precision of XGBoost: '+(str(precision)))\n",
    "print('Recall of XGBoost: '+(str(recall)))\n",
    "print('F1-score of XGBoost: '+(str(fscore)))\n",
    "print(classification_report(y_true_encoded,y_predict))\n",
    "cm=confusion_matrix(y_true_encoded,y_predict)\n",
    "f,ax=plt.subplots(figsize=(5,5))\n",
    "sns.heatmap(cm,annot=True,linewidth=0.5,linecolor=\"red\",fmt=\".0f\",ax=ax)\n",
    "plt.xlabel(\"y_pred\")\n",
    "plt.ylabel(\"y_true\")\n",
    "plt.show()"
   ]
  },
  {
   "cell_type": "markdown",
   "id": "6f210125",
   "metadata": {},
   "source": [
    "Training (`xg_train`) and test (`xg_test`) predictions are collected from the XGBoost model.  \n",
    "These will be used later for model evaluation and comparison.\n"
   ]
  },
  {
   "cell_type": "code",
   "execution_count": null,
   "id": "13520f17",
   "metadata": {},
   "outputs": [],
   "source": [
    "xg_train=xg.predict(X_train)\n",
    "xg_test=xg.predict(X_test)"
   ]
  },
  {
   "cell_type": "markdown",
   "id": "634b423e",
   "metadata": {},
   "source": [
    "### 2.5 Stacking Model Construction (Ensemble for 4 base learners)"
   ]
  },
  {
   "cell_type": "markdown",
   "id": "c4bee788",
   "metadata": {},
   "source": [
    "The outputs of the four base models (Decision Tree, Random Forest, Extra Trees, and XGBoost)  are combined into a new DataFrame. These predictions will later be used to construct an ensemble (stacking) model.\n"
   ]
  },
  {
   "cell_type": "code",
   "execution_count": null,
   "id": "7bc5ffc3",
   "metadata": {},
   "outputs": [
    {
     "data": {
      "text/html": [
       "<div>\n",
       "<style scoped>\n",
       "    .dataframe tbody tr th:only-of-type {\n",
       "        vertical-align: middle;\n",
       "    }\n",
       "\n",
       "    .dataframe tbody tr th {\n",
       "        vertical-align: top;\n",
       "    }\n",
       "\n",
       "    .dataframe thead th {\n",
       "        text-align: right;\n",
       "    }\n",
       "</style>\n",
       "<table border=\"1\" class=\"dataframe\">\n",
       "  <thead>\n",
       "    <tr style=\"text-align: right;\">\n",
       "      <th></th>\n",
       "      <th>DecisionTree</th>\n",
       "      <th>RandomForest</th>\n",
       "      <th>ExtraTrees</th>\n",
       "      <th>XgBoost</th>\n",
       "    </tr>\n",
       "  </thead>\n",
       "  <tbody>\n",
       "    <tr>\n",
       "      <th>0</th>\n",
       "      <td>5</td>\n",
       "      <td>5</td>\n",
       "      <td>5</td>\n",
       "      <td>5</td>\n",
       "    </tr>\n",
       "    <tr>\n",
       "      <th>1</th>\n",
       "      <td>3</td>\n",
       "      <td>3</td>\n",
       "      <td>3</td>\n",
       "      <td>3</td>\n",
       "    </tr>\n",
       "    <tr>\n",
       "      <th>2</th>\n",
       "      <td>5</td>\n",
       "      <td>5</td>\n",
       "      <td>5</td>\n",
       "      <td>5</td>\n",
       "    </tr>\n",
       "    <tr>\n",
       "      <th>3</th>\n",
       "      <td>3</td>\n",
       "      <td>3</td>\n",
       "      <td>3</td>\n",
       "      <td>3</td>\n",
       "    </tr>\n",
       "    <tr>\n",
       "      <th>4</th>\n",
       "      <td>2</td>\n",
       "      <td>2</td>\n",
       "      <td>2</td>\n",
       "      <td>2</td>\n",
       "    </tr>\n",
       "  </tbody>\n",
       "</table>\n",
       "</div>"
      ],
      "text/plain": [
       "   DecisionTree  RandomForest  ExtraTrees  XgBoost\n",
       "0             5             5           5        5\n",
       "1             3             3           3        3\n",
       "2             5             5           5        5\n",
       "3             3             3           3        3\n",
       "4             2             2           2        2"
      ]
     },
     "metadata": {},
     "output_type": "display_data"
    }
   ],
   "source": [
    "# Use the outputs of 4 base models to construct a new ensemble model\n",
    "base_predictions_train = pd.DataFrame( {\n",
    "    'DecisionTree': dt_train.ravel(),\n",
    "        'RandomForest': rf_train.ravel(),\n",
    "     'ExtraTrees': et_train.ravel(),\n",
    "     'XgBoost': xg_train.ravel(),\n",
    "    })\n",
    "base_predictions_train.head(5)"
   ]
  },
  {
   "cell_type": "markdown",
   "id": "9f2c0615",
   "metadata": {},
   "source": [
    "Each model’s predictions are reshaped into column vectors.  \n",
    "This ensures they can be concatenated properly when creating the input for the stacking model.\n"
   ]
  },
  {
   "cell_type": "code",
   "execution_count": null,
   "id": "d8e37bd1",
   "metadata": {},
   "outputs": [],
   "source": [
    "dt_train=dt_train.reshape(-1, 1)\n",
    "et_train=et_train.reshape(-1, 1)\n",
    "rf_train=rf_train.reshape(-1, 1)\n",
    "xg_train=xg_train.reshape(-1, 1)\n",
    "dt_test=dt_test.reshape(-1, 1)\n",
    "et_test=et_test.reshape(-1, 1)\n",
    "rf_test=rf_test.reshape(-1, 1)\n",
    "xg_test=xg_test.reshape(-1, 1)"
   ]
  },
  {
   "cell_type": "markdown",
   "id": "d928b402",
   "metadata": {},
   "source": [
    "Predictions from the four models are concatenated into a single feature set (`x_train` and `x_test`).  \n",
    "These combined predictions serve as input features for the stacking classifier.\n"
   ]
  },
  {
   "cell_type": "code",
   "execution_count": null,
   "id": "2566e3ae",
   "metadata": {},
   "outputs": [],
   "source": [
    "x_train = np.concatenate(( dt_train, et_train, rf_train, xg_train), axis=1)\n",
    "x_test = np.concatenate(( dt_test, et_test, rf_test, xg_test), axis=1)"
   ]
  },
  {
   "cell_type": "markdown",
   "id": "3f68b3c7",
   "metadata": {},
   "source": [
    "An XGBoost classifier (`stk`) is trained using the combined predictions of the four base models.  \n",
    "This forms the **stacking ensemble model**, which learns from the strengths of all models.\n"
   ]
  },
  {
   "cell_type": "code",
   "execution_count": null,
   "id": "8c9232e4",
   "metadata": {},
   "outputs": [],
   "source": [
    "stk = xgb.XGBClassifier().fit(x_train, y_train)"
   ]
  },
  {
   "cell_type": "markdown",
   "id": "bbf98090",
   "metadata": {},
   "source": [
    "Predictions are made using the stacking model.  \n",
    "The accuracy, precision, recall, and F1-score of the ensemble are calculated and printed.  \n",
    "This helps evaluate the effectiveness of stacking compared to individual models.\n"
   ]
  },
  {
   "cell_type": "code",
   "execution_count": null,
   "id": "5f83311c",
   "metadata": {},
   "outputs": [
    {
     "name": "stdout",
     "output_type": "stream",
     "text": [
      "Accuracy of Stacking: 0.9956763434218654\n",
      "Precision of Stacking: 0.9956801591780816\n",
      "Recall of Stacking: 0.9956763434218654\n",
      "F1-score of Stacking: 0.9956584193838331\n",
      "              precision    recall  f1-score   support\n",
      "\n",
      "           0       1.00      0.99      1.00      4547\n",
      "           1       0.99      0.98      0.98       393\n",
      "           2       0.99      1.00      1.00       554\n",
      "           3       0.99      1.00      1.00      3807\n",
      "           4       1.00      0.71      0.83         7\n",
      "           5       1.00      1.00      1.00      1589\n",
      "           6       1.00      0.99      0.99       436\n",
      "\n",
      "    accuracy                           1.00     11333\n",
      "   macro avg       1.00      0.95      0.97     11333\n",
      "weighted avg       1.00      1.00      1.00     11333\n",
      "\n"
     ]
    },
    {
     "data": {
      "image/png": "[encoded data removed]",
      "text/plain": [
       "<Figure size 500x500 with 2 Axes>"
      ]
     },
     "metadata": {},
     "output_type": "display_data"
    }
   ],
   "source": [
    "y_predict=stk.predict(x_test)\n",
    "y_true=y_test\n",
    "y_true_encoded=labelencoder.transform(y_true)\n",
    "stk_score=accuracy_score(y_true_encoded,y_predict)\n",
    "print('Accuracy of Stacking: '+ str(accuracy_score(y_true_encoded,y_predict)))\n",
    "precision,recall,fscore,none= precision_recall_fscore_support(y_true_encoded, y_predict, average='weighted')\n",
    "print('Precision of Stacking: '+(str(precision)))\n",
    "print('Recall of Stacking: '+(str(recall)))\n",
    "print('F1-score of Stacking: '+(str(fscore)))\n",
    "print(classification_report(y_true_encoded,y_predict))\n",
    "cm=confusion_matrix(y_true_encoded,y_predict)\n",
    "f,ax=plt.subplots(figsize=(5,5))\n",
    "sns.heatmap(cm,annot=True,linewidth=0.5,linecolor=\"red\",fmt=\".0f\",ax=ax)\n",
    "plt.xlabel(\"y_pred\")\n",
    "plt.ylabel(\"y_true\")\n",
    "plt.show()"
   ]
  },
  {
   "cell_type": "markdown",
   "id": "70da35e8",
   "metadata": {},
   "source": [
    "## 3. Feature Importance and Selection"
   ]
  },
  {
   "cell_type": "markdown",
   "id": "c056a99c",
   "metadata": {},
   "source": [
    "The feature importance values generated by each of the four base models  \n",
    "(Decision Tree, Random Forest, Extra Trees, and XGBoost) are extracted and saved.  \n",
    "These values indicate how important each feature was in model decision-making.\n"
   ]
  },
  {
   "cell_type": "code",
   "execution_count": null,
   "id": "2b8b5769",
   "metadata": {},
   "outputs": [],
   "source": [
    "# Save the feature importance lists generated by four tree-based algorithms\n",
    "dt_feature = dt.feature_importances_\n",
    "rf_feature = rf.feature_importances_\n",
    "et_feature = et.feature_importances_\n",
    "xgb_feature = xg.feature_importances_"
   ]
  },
  {
   "cell_type": "markdown",
   "id": "77e8104a",
   "metadata": {},
   "source": [
    "### 3.1 Calculate Feature Importances"
   ]
  },
  {
   "cell_type": "markdown",
   "id": "0da7c3d1",
   "metadata": {},
   "source": [
    "The average importance value for each feature is calculated by combining the importance scores from the four tree-based models. \n",
    "\n",
    "This provides a more stable feature ranking.\n"
   ]
  },
  {
   "cell_type": "code",
   "execution_count": null,
   "id": "29c79bff",
   "metadata": {},
   "outputs": [],
   "source": [
    "# calculate the average importance value of each feature\n",
    "avg_feature = (dt_feature + rf_feature + et_feature + xgb_feature)/4"
   ]
  },
  {
   "cell_type": "markdown",
   "id": "0b9b7ace",
   "metadata": {},
   "source": [
    "The feature names are matched with their average importance values.  \n",
    "The features are then sorted by importance and displayed in descending order.\n"
   ]
  },
  {
   "cell_type": "code",
   "execution_count": null,
   "id": "25509136",
   "metadata": {},
   "outputs": [
    {
     "name": "stdout",
     "output_type": "stream",
     "text": [
      "Features sorted by their score:\n",
      "[(0.1197, 'Bwd Packet Length Std'), (0.0864, 'Bwd Packet Length Min'), (0.0641, 'Average Packet Size'), (0.0503, 'Init_Win_bytes_backward'), (0.0416, 'Init_Win_bytes_forward'), (0.0386, 'Bwd Packets/s'), (0.0367, 'PSH Flag Count'), (0.0331, 'Avg Bwd Segment Size'), (0.0307, 'Packet Length Std'), (0.0298, 'Bwd Packet Length Mean'), (0.0244, 'Packet Length Mean'), (0.0243, 'Fwd Header Length'), (0.023, 'Bwd Header Length'), (0.0182, 'min_seg_size_forward'), (0.0181, 'Bwd Packet Length Max'), (0.0174, 'Total Length of Fwd Packets'), (0.0172, 'Max Packet Length'), (0.0166, 'Subflow Bwd Packets'), (0.016, 'act_data_pkt_fwd'), (0.0152, 'ACK Flag Count'), (0.0146, 'Packet Length Variance'), (0.0131, 'Fwd Header Length.1'), (0.0115, 'Idle Max'), (0.011, 'Fwd IAT Max'), (0.0108, 'Total Length of Bwd Packets'), (0.0105, 'Fwd IAT Total'), (0.0097, 'Total Fwd Packets'), (0.0096, 'Fwd IAT Mean'), (0.0095, 'Fwd PSH Flags'), (0.0094, 'Min Packet Length'), (0.0086, 'Fwd IAT Min'), (0.0086, 'Flow IAT Max'), (0.0082, 'URG Flag Count'), (0.0081, 'Subflow Fwd Packets'), (0.0081, 'Avg Fwd Segment Size'), (0.0077, 'Total Backward Packets'), (0.0072, 'Subflow Fwd Bytes'), (0.0072, 'Flow Duration'), (0.0071, 'Fwd Packet Length Mean'), (0.007, 'Fwd Packet Length Max'), (0.0068, 'Fwd IAT Std'), (0.0066, 'Subflow Bwd Bytes'), (0.0066, 'Bwd IAT Total'), (0.0065, 'Flow IAT Std'), (0.0064, 'Flow IAT Mean'), (0.0062, 'Fwd Packets/s'), (0.0057, 'Flow IAT Min'), (0.0057, 'Down/Up Ratio'), (0.0056, 'Fwd Packet Length Min'), (0.0048, 'Fwd Packet Length Std'), (0.0046, 'FIN Flag Count'), (0.0038, 'Bwd IAT Min'), (0.0038, 'Bwd IAT Max'), (0.0036, 'Idle Mean'), (0.0032, 'SYN Flag Count'), (0.0031, 'Idle Min'), (0.0026, 'Bwd IAT Std'), (0.0021, 'Bwd IAT Mean'), (0.0011, 'Active Mean'), (0.001, 'Idle Std'), (0.0009, 'Active Min'), (0.0005, 'Active Max'), (0.0002, 'Active Std'), (0.0, 'RST Flag Count'), (0.0, 'Fwd URG Flags'), (0.0, 'Fwd Avg Packets/Bulk'), (0.0, 'Fwd Avg Bytes/Bulk'), (0.0, 'Fwd Avg Bulk Rate'), (0.0, 'Flow Packets/s'), (0.0, 'Flow Bytes/s'), (0.0, 'ECE Flag Count'), (0.0, 'CWE Flag Count'), (0.0, 'Bwd URG Flags'), (0.0, 'Bwd PSH Flags'), (0.0, 'Bwd Avg Packets/Bulk'), (0.0, 'Bwd Avg Bytes/Bulk'), (0.0, 'Bwd Avg Bulk Rate')]\n"
     ]
    }
   ],
   "source": [
    "feature=(df.drop(['Label'],axis=1)).columns.values\n",
    "print (\"Features sorted by their score:\")\n",
    "print (sorted(zip(map(lambda x: round(x, 4), avg_feature), feature), reverse=True))"
   ]
  },
  {
   "cell_type": "markdown",
   "id": "b7c94e9d",
   "metadata": {},
   "source": [
    "The sorted list of feature importance values and feature names is stored in `f_list`.  \n",
    "This will be used for further analysis or feature selection.\n"
   ]
  },
  {
   "cell_type": "code",
   "execution_count": null,
   "id": "40959d7f",
   "metadata": {},
   "outputs": [],
   "source": [
    "f_list = sorted(zip(map(lambda x: round(x, 4), avg_feature), feature), reverse=True)"
   ]
  },
  {
   "cell_type": "markdown",
   "id": "35748002",
   "metadata": {},
   "source": [
    "The total number of features in the importance ranking list is displayed.  \n",
    "This confirms how many features were considered in the model.\n"
   ]
  },
  {
   "cell_type": "code",
   "execution_count": null,
   "id": "372b9392",
   "metadata": {},
   "outputs": [
    {
     "data": {
      "text/plain": [
       "77"
      ]
     },
     "metadata": {},
     "output_type": "display_data"
    }
   ],
   "source": [
    "len(f_list)"
   ]
  },
  {
   "cell_type": "markdown",
   "id": "9493880d",
   "metadata": {},
   "source": [
    "### 3.2 Select Top Features (90% Cumulative Importance)"
   ]
  },
  {
   "cell_type": "markdown",
   "id": "250bfdca",
   "metadata": {},
   "source": [
    "Important features are selected in order of their importance.  \n",
    "Starting from the top-ranked feature, they are added one by one until the accumulated importance reaches **90%** of the total.  \n",
    "This ensures that only the most relevant features are used for training.\n"
   ]
  },
  {
   "cell_type": "code",
   "execution_count": null,
   "id": "00d6efdc",
   "metadata": {},
   "outputs": [],
   "source": [
    "# Select the important features from top-importance to bottom-importance until the accumulated importance reaches 0.9 (out of 1)\n",
    "Sum = 0\n",
    "fs = []\n",
    "for i in range(0, len(f_list)):\n",
    "    Sum = Sum + f_list[i][0]\n",
    "    fs.append(f_list[i][1])\n",
    "    if Sum>=0.9:\n",
    "        break"
   ]
  },
  {
   "cell_type": "markdown",
   "id": "cba770cb",
   "metadata": {},
   "source": [
    "The dataset is reduced to only the selected important features.  \n",
    "This subset (`X_fs`) contains fewer but more meaningful features for the model.\n"
   ]
  },
  {
   "cell_type": "code",
   "execution_count": null,
   "id": "a35db458",
   "metadata": {},
   "outputs": [],
   "source": [
    "X_fs = df[fs].values"
   ]
  },
  {
   "cell_type": "markdown",
   "id": "b2bb985d",
   "metadata": {},
   "source": [
    "The reduced feature dataset (`X_fs`) and target labels (`y`) are split into training and testing sets.  \n",
    "Here, 80% of the data is used for training and 20% for testing, with stratification to preserve class balance.\n"
   ]
  },
  {
   "cell_type": "code",
   "execution_count": null,
   "id": "1292c76b",
   "metadata": {},
   "outputs": [],
   "source": [
    "X_train, X_test, y_train, y_test = train_test_split(X_fs,y, train_size = 0.8, test_size = 0.2, random_state = 0,stratify = y)"
   ]
  },
  {
   "cell_type": "markdown",
   "id": "aced8c0a",
   "metadata": {},
   "source": [
    "Displays the shape of the training dataset after feature selection.  \n",
    "This helps confirm that the feature reduction process worked correctly.\n"
   ]
  },
  {
   "cell_type": "code",
   "execution_count": null,
   "id": "2dc18d6f",
   "metadata": {},
   "outputs": [
    {
     "data": {
      "text/plain": [
       "(45328, 39)"
      ]
     },
     "metadata": {},
     "output_type": "display_data"
    }
   ],
   "source": [
    "X_train.shape"
   ]
  },
  {
   "cell_type": "markdown",
   "id": "556bc19d",
   "metadata": {},
   "source": [
    "Shows the distribution of class labels in the training dataset after feature selection.  \n",
    "This allows us to check whether class imbalance still exists.\n"
   ]
  },
  {
   "cell_type": "code",
   "execution_count": null,
   "id": "8394b902",
   "metadata": {},
   "outputs": [
    {
     "data": {
      "text/plain": [
       "0    18184\n",
       "3    15228\n",
       "5     6357\n",
       "2     2213\n",
       "6     1744\n",
       "1     1573\n",
       "4       29\n",
       "Name: count, dtype: int64"
      ]
     },
     "metadata": {},
     "output_type": "display_data"
    }
   ],
   "source": [
    "pd.Series(y_train).value_counts()"
   ]
  },
  {
   "cell_type": "markdown",
   "id": "1039c327",
   "metadata": {},
   "source": [
    "### Oversampling by SMOTE"
   ]
  },
  {
   "cell_type": "markdown",
   "id": "482d0031",
   "metadata": {},
   "source": [
    "SMOTE (Synthetic Minority Oversampling Technique) is re-applied on the reduced feature dataset.  \n",
    "This step ensures that even after feature selection, class imbalance is corrected.\n"
   ]
  },
  {
   "cell_type": "code",
   "execution_count": null,
   "id": "2705750b",
   "metadata": {},
   "outputs": [],
   "source": [
    "from imblearn.over_sampling import SMOTE\n",
    "smote=SMOTE(n_jobs=-1,sampling_strategy={4:1500})"
   ]
  },
  {
   "cell_type": "markdown",
   "id": "15c7fc56",
   "metadata": {},
   "source": [
    "The training labels (`y_train`) are encoded again, and SMOTE is applied to balance the dataset.  \n",
    "This helps the models train fairly across all classes.\n"
   ]
  },
  {
   "cell_type": "code",
   "execution_count": null,
   "id": "df6ac769",
   "metadata": {},
   "outputs": [],
   "source": [
    "y_train =labelencoder.fit_transform(y_train)\n",
    "X_train, y_train = smote.fit_resample(X_train, y_train)"
   ]
  },
  {
   "cell_type": "markdown",
   "id": "cd52861c",
   "metadata": {},
   "source": [
    "Displays the updated class distribution in the training dataset after SMOTE.  \n",
    "This confirms that oversampling successfully balanced the dataset.\n"
   ]
  },
  {
   "cell_type": "code",
   "execution_count": null,
   "id": "fbb2dce7",
   "metadata": {},
   "outputs": [
    {
     "data": {
      "text/plain": [
       "0    18184\n",
       "3    15228\n",
       "5     6357\n",
       "2     2213\n",
       "6     1744\n",
       "1     1573\n",
       "4     1500\n",
       "Name: count, dtype: int64"
      ]
     },
     "metadata": {},
     "output_type": "display_data"
    }
   ],
   "source": [
    "pd.Series(y_train).value_counts()"
   ]
  },
  {
   "cell_type": "markdown",
   "id": "9f0a1d10",
   "metadata": {},
   "source": [
    "## 4. Model Training and Evaluation (After Feature Selection)"
   ]
  },
  {
   "cell_type": "markdown",
   "id": "1c70f589",
   "metadata": {},
   "source": [
    "### 4.1 Decision Tree"
   ]
  },
  {
   "cell_type": "markdown",
   "id": "e74cdf01",
   "metadata": {},
   "source": [
    "A Decision Tree classifier is re-trained using the reduced feature set.  \n",
    "Predictions are generated on the test dataset, and the true labels are encoded for evaluation.\n"
   ]
  },
  {
   "cell_type": "code",
   "execution_count": null,
   "id": "fc2622c1",
   "metadata": {},
   "outputs": [
    {
     "name": "stdout",
     "output_type": "stream",
     "text": [
      "Accuracy of DT: 0.995499867643166\n",
      "Precision of DT: 0.9954944087763778\n",
      "Recall of DT: 0.995499867643166\n",
      "F1-score of DT: 0.9954944948434621\n",
      "              precision    recall  f1-score   support\n",
      "\n",
      "           0       1.00      0.99      0.99      4547\n",
      "           1       0.98      0.97      0.98       393\n",
      "           2       0.99      1.00      1.00       554\n",
      "           3       1.00      1.00      1.00      3807\n",
      "           4       0.86      0.86      0.86         7\n",
      "           5       1.00      1.00      1.00      1589\n",
      "           6       0.99      0.99      0.99       436\n",
      "\n",
      "    accuracy                           1.00     11333\n",
      "   macro avg       0.97      0.97      0.97     11333\n",
      "weighted avg       1.00      1.00      1.00     11333\n",
      "\n"
     ]
    },
    {
     "data": {
      "image/png": "[encoded data removed]",
      "text/plain": [
       "<Figure size 500x500 with 2 Axes>"
      ]
     },
     "metadata": {},
     "output_type": "display_data"
    }
   ],
   "source": [
    "# Decision tree training and prediction\n",
    "dt = DecisionTreeClassifier(random_state = 0)\n",
    "dt.fit(X_train,y_train)\n",
    "\n",
    "y_predict=dt.predict(X_test)\n",
    "y_true=y_test\n",
    "y_true_encoded=labelencoder.transform(y_true)\n",
    "print('Accuracy of DT: '+ str(dt.score(X_test,y_true_encoded)))\n",
    "precision,recall,fscore,none= precision_recall_fscore_support(y_true_encoded, y_predict, average='weighted')\n",
    "print('Precision of DT: '+(str(precision)))\n",
    "print('Recall of DT: '+(str(recall)))\n",
    "print('F1-score of DT: '+(str(fscore)))\n",
    "print(classification_report(y_true_encoded,y_predict))\n",
    "cm=confusion_matrix(y_true_encoded,y_predict)\n",
    "f,ax=plt.subplots(figsize=(5,5))\n",
    "sns.heatmap(cm,annot=True,linewidth=0.5,linecolor=\"red\",fmt=\".0f\",ax=ax)\n",
    "plt.xlabel(\"y_pred\")\n",
    "plt.ylabel(\"y_true\")\n",
    "plt.show()"
   ]
  },
  {
   "cell_type": "markdown",
   "id": "0bfa0714",
   "metadata": {},
   "source": [
    "Predictions for the training (`dt_train`) and testing (`dt_test`) sets are collected.  \n",
    "These will be compared later to measure the model’s performance on the reduced feature set.\n"
   ]
  },
  {
   "cell_type": "code",
   "execution_count": null,
   "id": "9d56ab32",
   "metadata": {},
   "outputs": [],
   "source": [
    "dt_train=dt.predict(X_train)\n",
    "dt_test=dt.predict(X_test)"
   ]
  },
  {
   "cell_type": "markdown",
   "id": "28c868c6",
   "metadata": {},
   "source": [
    "### 4.2 Random Forest"
   ]
  },
  {
   "cell_type": "markdown",
   "id": "66643617",
   "metadata": {},
   "source": [
    "A Random Forest classifier is trained again, this time using the reduced feature set.  \n",
    "Predictions are generated on the test dataset, and the true labels are encoded for evaluation.\n"
   ]
  },
  {
   "cell_type": "code",
   "execution_count": null,
   "id": "224c1450",
   "metadata": {},
   "outputs": [
    {
     "name": "stdout",
     "output_type": "stream",
     "text": [
      "Accuracy of RF: 0.9967351980940616\n",
      "Precision of RF: 0.9967190111793977\n",
      "Recall of RF: 0.9967351980940616\n",
      "F1-score of RF: 0.9967209741281738\n",
      "              precision    recall  f1-score   support\n",
      "\n",
      "           0       1.00      1.00      1.00      4547\n",
      "           1       0.99      0.98      0.99       393\n",
      "           2       1.00      1.00      1.00       554\n",
      "           3       1.00      1.00      1.00      3807\n",
      "           4       0.83      0.71      0.77         7\n",
      "           5       1.00      1.00      1.00      1589\n",
      "           6       1.00      0.99      0.99       436\n",
      "\n",
      "    accuracy                           1.00     11333\n",
      "   macro avg       0.97      0.95      0.96     11333\n",
      "weighted avg       1.00      1.00      1.00     11333\n",
      "\n"
     ]
    },
    {
     "data": {
      "image/png": "[encoded data removed]",
      "text/plain": [
       "<Figure size 500x500 with 2 Axes>"
      ]
     },
     "metadata": {},
     "output_type": "display_data"
    }
   ],
   "source": [
    "# Random Forest training and prediction\n",
    "rf = RandomForestClassifier(random_state = 0)\n",
    "rf.fit(X_train,y_train)\n",
    "\n",
    "y_predict=rf.predict(X_test)\n",
    "y_true=y_test\n",
    "y_true_encoded=labelencoder.transform(y_true)\n",
    "print('Accuracy of RF: '+ str(rf.score(X_test,y_true_encoded)))\n",
    "precision,recall,fscore,none= precision_recall_fscore_support(y_true_encoded, y_predict, average='weighted')\n",
    "print('Precision of RF: '+(str(precision)))\n",
    "print('Recall of RF: '+(str(recall)))\n",
    "print('F1-score of RF: '+(str(fscore)))\n",
    "print(classification_report(y_true_encoded,y_predict))\n",
    "cm=confusion_matrix(y_true_encoded,y_predict)\n",
    "f,ax=plt.subplots(figsize=(5,5))\n",
    "sns.heatmap(cm,annot=True,linewidth=0.5,linecolor=\"red\",fmt=\".0f\",ax=ax)\n",
    "plt.xlabel(\"y_pred\")\n",
    "plt.ylabel(\"y_true\")\n",
    "plt.show()"
   ]
  },
  {
   "cell_type": "markdown",
   "id": "a6e728b3",
   "metadata": {},
   "source": [
    "Predictions for the training (`rf_train`) and testing (`rf_test`) sets are collected.  \n",
    "These will be used to compare performance and detect possible overfitting.\n"
   ]
  },
  {
   "cell_type": "code",
   "execution_count": null,
   "id": "92afd3cf",
   "metadata": {},
   "outputs": [],
   "source": [
    "rf_train=rf.predict(X_train)\n",
    "rf_test=rf.predict(X_test)"
   ]
  },
  {
   "cell_type": "markdown",
   "id": "bcabcb80",
   "metadata": {},
   "source": [
    "### 4.3 Extra Trees"
   ]
  },
  {
   "cell_type": "markdown",
   "id": "67974b73",
   "metadata": {},
   "source": [
    "An Extra Trees classifier is trained using the reduced feature set.  \n",
    "Predictions are made on the test set, and the accuracy score is printed.  \n",
    "This provides a performance comparison with the previous models.\n"
   ]
  },
  {
   "cell_type": "code",
   "execution_count": null,
   "id": "d89304d7",
   "metadata": {},
   "outputs": [
    {
     "name": "stdout",
     "output_type": "stream",
     "text": [
      "Accuracy of ET: 0.9948822024177182\n",
      "Precision of ET: 0.99487840176158\n",
      "Recall of ET: 0.9948822024177182\n",
      "F1-score of ET: 0.994873057503014\n",
      "              precision    recall  f1-score   support\n",
      "\n",
      "           0       1.00      0.99      0.99      4547\n",
      "           1       0.97      0.98      0.97       393\n",
      "           2       1.00      1.00      1.00       554\n",
      "           3       1.00      1.00      1.00      3807\n",
      "           4       0.83      0.71      0.77         7\n",
      "           5       1.00      1.00      1.00      1589\n",
      "           6       1.00      0.99      0.99       436\n",
      "\n",
      "    accuracy                           0.99     11333\n",
      "   macro avg       0.97      0.95      0.96     11333\n",
      "weighted avg       0.99      0.99      0.99     11333\n",
      "\n"
     ]
    },
    {
     "data": {
      "image/png": "[encoded data removed]",
      "text/plain": [
       "<Figure size 500x500 with 2 Axes>"
      ]
     },
     "metadata": {},
     "output_type": "display_data"
    }
   ],
   "source": [
    "# Extra trees training and prediction\n",
    "et = ExtraTreesClassifier(random_state = 0)\n",
    "et.fit(X_train,y_train)\n",
    "y_predict=et.predict(X_test)\n",
    "y_true=y_test\n",
    "y_true_encoded=labelencoder.transform(y_true)\n",
    "print('Accuracy of ET: '+ str(et.score(X_test,y_true_encoded)))\n",
    "precision,recall,fscore,none= precision_recall_fscore_support(y_true_encoded, y_predict, average='weighted')\n",
    "print('Precision of ET: '+(str(precision)))\n",
    "print('Recall of ET: '+(str(recall)))\n",
    "print('F1-score of ET: '+(str(fscore)))\n",
    "print(classification_report(y_true_encoded,y_predict))\n",
    "cm=confusion_matrix(y_true_encoded,y_predict)\n",
    "f,ax=plt.subplots(figsize=(5,5))\n",
    "sns.heatmap(cm,annot=True,linewidth=0.5,linecolor=\"red\",fmt=\".0f\",ax=ax)\n",
    "plt.xlabel(\"y_pred\")\n",
    "plt.ylabel(\"y_true\")\n",
    "plt.show()"
   ]
  },
  {
   "cell_type": "markdown",
   "id": "293c21ef",
   "metadata": {},
   "source": [
    "Predictions for the training (`et_train`) and testing (`et_test`) sets are collected.  \n",
    "These predictions will later be used in the stacking ensemble.\n"
   ]
  },
  {
   "cell_type": "code",
   "execution_count": null,
   "id": "accf430e",
   "metadata": {},
   "outputs": [],
   "source": [
    "et_train=et.predict(X_train)\n",
    "et_test=et.predict(X_test)"
   ]
  },
  {
   "cell_type": "markdown",
   "id": "87b5959f",
   "metadata": {},
   "source": [
    "### 4.4 XGBoost"
   ]
  },
  {
   "cell_type": "markdown",
   "id": "1e44d90e",
   "metadata": {},
   "source": [
    "An XGBoost classifier is trained on the reduced feature set.  \n",
    "Predictions are generated on the test dataset, and true labels are encoded for evaluation.\n"
   ]
  },
  {
   "cell_type": "code",
   "execution_count": null,
   "id": "97145149",
   "metadata": {},
   "outputs": [
    {
     "name": "stdout",
     "output_type": "stream",
     "text": [
      "Accuracy of XGBoost: 0.9935586340774729\n",
      "Precision of XGBoost: 0.9935554654859167\n",
      "Recall of XGBoost: 0.9935586340774729\n",
      "F1-score of XGBoost: 0.993540272982899\n",
      "              precision    recall  f1-score   support\n",
      "\n",
      "           0       0.99      0.99      0.99      4547\n",
      "           1       1.00      0.97      0.98       393\n",
      "           2       1.00      1.00      1.00       554\n",
      "           3       0.99      1.00      0.99      3807\n",
      "           4       0.83      0.71      0.77         7\n",
      "           5       1.00      1.00      1.00      1589\n",
      "           6       1.00      0.98      0.99       436\n",
      "\n",
      "    accuracy                           0.99     11333\n",
      "   macro avg       0.97      0.95      0.96     11333\n",
      "weighted avg       0.99      0.99      0.99     11333\n",
      "\n"
     ]
    },
    {
     "data": {
      "image/png": "[encoded data removed]",
      "text/plain": [
       "<Figure size 500x500 with 2 Axes>"
      ]
     },
     "metadata": {},
     "output_type": "display_data"
    }
   ],
   "source": [
    "# XGboost training and prediction\n",
    "xg = xgb.XGBClassifier(n_estimators = 10)\n",
    "xg.fit(X_train,y_train)\n",
    "\n",
    "y_predict=xg.predict(X_test)\n",
    "y_true=y_test\n",
    "y_true_encoded=labelencoder.transform(y_true)\n",
    "print('Accuracy of XGBoost: '+ str(xg.score(X_test,y_true_encoded)))\n",
    "precision,recall,fscore,none= precision_recall_fscore_support(y_true_encoded, y_predict, average='weighted')\n",
    "print('Precision of XGBoost: '+(str(precision)))\n",
    "print('Recall of XGBoost: '+(str(recall)))\n",
    "print('F1-score of XGBoost: '+(str(fscore)))\n",
    "print(classification_report(y_true_encoded,y_predict))\n",
    "cm=confusion_matrix(y_true_encoded,y_predict)\n",
    "f,ax=plt.subplots(figsize=(5,5))\n",
    "sns.heatmap(cm,annot=True,linewidth=0.5,linecolor=\"red\",fmt=\".0f\",ax=ax)\n",
    "plt.xlabel(\"y_pred\")\n",
    "plt.ylabel(\"y_true\")\n",
    "plt.show()"
   ]
  },
  {
   "cell_type": "markdown",
   "id": "d5e2741b",
   "metadata": {},
   "source": [
    "Predictions for the training (`xg_train`) and testing (`xg_test`) sets are collected.  \n",
    "These will later be used as inputs to the stacking ensemble.\n"
   ]
  },
  {
   "cell_type": "code",
   "execution_count": null,
   "id": "13a7cc6a",
   "metadata": {},
   "outputs": [],
   "source": [
    "xg_train=xg.predict(X_train)\n",
    "xg_test=xg.predict(X_test)"
   ]
  },
  {
   "cell_type": "markdown",
   "id": "0b4b4001",
   "metadata": {},
   "source": [
    "### 4.5 Stacking Model Construction (Ensemble for 4 base learners)"
   ]
  },
  {
   "cell_type": "markdown",
   "id": "edbd762a",
   "metadata": {},
   "source": [
    "A DataFrame (`base_predictions_train`) is created to store predictions from all four models  (Decision Tree, Random Forest, Extra Trees, and XGBoost) on the training data.  \n",
    "This serves as the input for the stacking model.\n"
   ]
  },
  {
   "cell_type": "code",
   "execution_count": null,
   "id": "a8f3dda8",
   "metadata": {},
   "outputs": [
    {
     "data": {
      "text/html": [
       "<div>\n",
       "<style scoped>\n",
       "    .dataframe tbody tr th:only-of-type {\n",
       "        vertical-align: middle;\n",
       "    }\n",
       "\n",
       "    .dataframe tbody tr th {\n",
       "        vertical-align: top;\n",
       "    }\n",
       "\n",
       "    .dataframe thead th {\n",
       "        text-align: right;\n",
       "    }\n",
       "</style>\n",
       "<table border=\"1\" class=\"dataframe\">\n",
       "  <thead>\n",
       "    <tr style=\"text-align: right;\">\n",
       "      <th></th>\n",
       "      <th>DecisionTree</th>\n",
       "      <th>RandomForest</th>\n",
       "      <th>ExtraTrees</th>\n",
       "      <th>XgBoost</th>\n",
       "    </tr>\n",
       "  </thead>\n",
       "  <tbody>\n",
       "    <tr>\n",
       "      <th>0</th>\n",
       "      <td>5</td>\n",
       "      <td>5</td>\n",
       "      <td>5</td>\n",
       "      <td>5</td>\n",
       "    </tr>\n",
       "    <tr>\n",
       "      <th>1</th>\n",
       "      <td>3</td>\n",
       "      <td>3</td>\n",
       "      <td>3</td>\n",
       "      <td>3</td>\n",
       "    </tr>\n",
       "    <tr>\n",
       "      <th>2</th>\n",
       "      <td>5</td>\n",
       "      <td>5</td>\n",
       "      <td>5</td>\n",
       "      <td>5</td>\n",
       "    </tr>\n",
       "    <tr>\n",
       "      <th>3</th>\n",
       "      <td>3</td>\n",
       "      <td>3</td>\n",
       "      <td>3</td>\n",
       "      <td>3</td>\n",
       "    </tr>\n",
       "    <tr>\n",
       "      <th>4</th>\n",
       "      <td>2</td>\n",
       "      <td>2</td>\n",
       "      <td>2</td>\n",
       "      <td>2</td>\n",
       "    </tr>\n",
       "  </tbody>\n",
       "</table>\n",
       "</div>"
      ],
      "text/plain": [
       "   DecisionTree  RandomForest  ExtraTrees  XgBoost\n",
       "0             5             5           5        5\n",
       "1             3             3           3        3\n",
       "2             5             5           5        5\n",
       "3             3             3           3        3\n",
       "4             2             2           2        2"
      ]
     },
     "metadata": {},
     "output_type": "display_data"
    }
   ],
   "source": [
    "base_predictions_train = pd.DataFrame( {\n",
    "    'DecisionTree': dt_train.ravel(),\n",
    "        'RandomForest': rf_train.ravel(),\n",
    "     'ExtraTrees': et_train.ravel(),\n",
    "     'XgBoost': xg_train.ravel(),\n",
    "    })\n",
    "base_predictions_train.head(5)"
   ]
  },
  {
   "cell_type": "markdown",
   "id": "a4b66044",
   "metadata": {},
   "source": [
    "Each model’s predictions are reshaped into column vectors.  \n",
    "This ensures the outputs have the correct format for concatenation into the ensemble input matrix.\n"
   ]
  },
  {
   "cell_type": "code",
   "execution_count": null,
   "id": "3c455797",
   "metadata": {},
   "outputs": [],
   "source": [
    "dt_train=dt_train.reshape(-1, 1)\n",
    "et_train=et_train.reshape(-1, 1)\n",
    "rf_train=rf_train.reshape(-1, 1)\n",
    "xg_train=xg_train.reshape(-1, 1)\n",
    "dt_test=dt_test.reshape(-1, 1)\n",
    "et_test=et_test.reshape(-1, 1)\n",
    "rf_test=rf_test.reshape(-1, 1)\n",
    "xg_test=xg_test.reshape(-1, 1)"
   ]
  },
  {
   "cell_type": "markdown",
   "id": "004c162a",
   "metadata": {},
   "source": [
    "The reshaped predictions are concatenated into a single training matrix (`x_train`) and test matrix (`x_test`).  \n",
    "These will be used to train the stacking model.\n"
   ]
  },
  {
   "cell_type": "code",
   "execution_count": null,
   "id": "fe0dd37d",
   "metadata": {},
   "outputs": [],
   "source": [
    "x_train = np.concatenate(( dt_train, et_train, rf_train, xg_train), axis=1)\n",
    "x_test = np.concatenate(( dt_test, et_test, rf_test, xg_test), axis=1)"
   ]
  },
  {
   "cell_type": "markdown",
   "id": "b5065d8f",
   "metadata": {},
   "source": [
    "An XGBoost classifier is trained as the stacking model using the combined predictions of the four base models.  \n",
    "The model’s accuracy, precision, recall, and F1-score are calculated and printed,  providing the final performance of the stacked ensemble on the reduced feature set.\n"
   ]
  },
  {
   "cell_type": "code",
   "execution_count": null,
   "id": "b01accbd",
   "metadata": {},
   "outputs": [
    {
     "name": "stdout",
     "output_type": "stream",
     "text": [
      "Accuracy of Stacking: 0.9954116297538163\n",
      "Precision of Stacking: 0.9954151069919783\n",
      "Recall of Stacking: 0.9954116297538163\n",
      "F1-score of Stacking: 0.9953904946700101\n",
      "              precision    recall  f1-score   support\n",
      "\n",
      "           0       1.00      0.99      0.99      4547\n",
      "           1       0.99      0.97      0.98       393\n",
      "           2       1.00      1.00      1.00       554\n",
      "           3       0.99      1.00      1.00      3807\n",
      "           4       1.00      0.71      0.83         7\n",
      "           5       1.00      1.00      1.00      1589\n",
      "           6       1.00      0.98      0.99       436\n",
      "\n",
      "    accuracy                           1.00     11333\n",
      "   macro avg       1.00      0.95      0.97     11333\n",
      "weighted avg       1.00      1.00      1.00     11333\n",
      "\n"
     ]
    },
    {
     "data": {
      "image/png": "[encoded data removed]",
      "text/plain": [
       "<Figure size 500x500 with 2 Axes>"
      ]
     },
     "metadata": {},
     "output_type": "display_data"
    }
   ],
   "source": [
    "stk = xgb.XGBClassifier().fit(x_train, y_train)\n",
    "y_predict=stk.predict(x_test)\n",
    "y_true=y_test\n",
    "y_true_encoded=labelencoder.transform(y_true)\n",
    "stk_score=accuracy_score(y_true_encoded,y_predict)\n",
    "print('Accuracy of Stacking: '+ str(accuracy_score(y_true_encoded,y_predict)))\n",
    "precision,recall,fscore,none= precision_recall_fscore_support(y_true_encoded, y_predict, average='weighted')\n",
    "print('Precision of Stacking: '+(str(precision)))\n",
    "print('Recall of Stacking: '+(str(recall)))\n",
    "print('F1-score of Stacking: '+(str(fscore)))\n",
    "print(classification_report(y_true_encoded,y_predict))\n",
    "cm=confusion_matrix(y_true_encoded,y_predict)\n",
    "f,ax=plt.subplots(figsize=(5,5))\n",
    "sns.heatmap(cm,annot=True,linewidth=0.5,linecolor=\"red\",fmt=\".0f\",ax=ax)\n",
    "plt.xlabel(\"y_pred\")\n",
    "plt.ylabel(\"y_true\")\n",
    "plt.show()"
   ]
  },
  {
   "cell_type": "markdown",
   "id": "edaa0a9c",
   "metadata": {},
   "source": [
    "## 5. Performance Comparison: Before vs After Feature Selection"
   ]
  },
  {
   "cell_type": "markdown",
   "id": "5f3040b0",
   "metadata": {},
   "source": [
    "### 5.1 Results Table"
   ]
  },
  {
   "cell_type": "markdown",
   "id": "831b3451",
   "metadata": {},
   "source": [
    "\n",
    "\n",
    "| Model            | Accuracy (Before) | Accuracy (After) | Precision (Before) | Precision (After) | Recall (Before) | Recall (After) | F1-Score (Before) | F1-Score (After) | Observation |\n",
    "|------------------|------------------:|-----------------:|-------------------:|------------------:|----------------:|----------------:|------------------:|-----------------:|-------------|\n",
    "| Decision Tree    | 0.9959 | 0.9962 | 0.9959 | 0.9962 | 0.9959 | 0.9962 | 0.9959 | 0.9962 | Very stable; slight improvement after FS |\n",
    "| Random Forest    | 0.9960 | 0.9968 | 0.9960 | 0.9968 | 0.9960 | 0.9968 | 0.9960 | 0.9968 | Improved slightly after FS |\n",
    "| Extra Trees      | 0.9927 | 0.9951 | 0.9927 | 0.9951 | 0.9927 | 0.9951 | 0.9927 | 0.9951 | Noticeable gain after FS |\n",
    "| XGBoost          | 0.9937 | 0.9942 | 0.9937 | 0.9942 | 0.9937 | 0.9942 | 0.9937 | 0.9942 | Slightly better after FS |\n",
    "| **Stacking**     | **0.9959** | **0.9944** | **0.9959** | **0.9944** | **0.9959** | **0.9944** | **0.9959** | **0.9943** | Best model before FS; small drop after FS |\n",
    "\n",
    "---\n",
    "\n",
    "###  5.2 Insights\n",
    "- **Random Forest and Extra Trees** benefited most from feature selection, showing slight improvements.  \n",
    "- **Decision Tree and XGBoost** remained stable, confirming feature reduction did not harm performance.  \n",
    "- **Stacking Ensemble** performed best before feature selection, but saw a small decline afterward — likely because dimensional reduction removed some complementary signals.  \n",
    "- **Overall**, feature selection reduced dimensionality and improved efficiency, with minimal or positive impact on accuracy.\n"
   ]
  },
  {
   "cell_type": "markdown",
   "id": "5057bb04",
   "metadata": {},
   "source": [
    "##  6. Conclusion\n",
    "\n",
    "In this notebook, we explored the application of tree-based machine learning algorithms for Intrusion Detection using the CICIDS2017 dataset. The workflow followed these key steps:\n",
    "\n",
    "1. **Data Preprocessing**  \n",
    "   - Applied Min-Max normalization to scale features between 0 and 1.  \n",
    "   - Encoded categorical labels using `LabelEncoder`.  \n",
    "   - Handled class imbalance with **SMOTE** to generate synthetic samples for minority classes.  \n",
    "\n",
    "2. **Model Training**  \n",
    "   - Implemented four tree-based models:  \n",
    "     - Decision Tree (DT)  \n",
    "     - Random Forest (RF)  \n",
    "     - Extra Trees (ET)  \n",
    "     - XGBoost (XGB)  \n",
    "   - Compared training and test predictions to monitor performance and possible overfitting.  \n",
    "\n",
    "3. **Ensemble Learning (Stacking)**  \n",
    "   - Combined predictions from DT, RF, ET, and XGB to build a **stacked ensemble model** using XGBoost.  \n",
    "   - The stacking model leveraged the strengths of individual classifiers to achieve improved performance.  \n",
    "\n",
    "4. **Feature Importance & Selection**  \n",
    "   - Extracted feature importance from all four models.  \n",
    "   - Averaged importance scores to obtain a stable ranking of features.  \n",
    "   - Selected the most relevant subset of features covering **90% of total importance**, reducing dimensionality while retaining predictive power.  \n",
    "\n",
    "5. **Re-training with Selected Features**  \n",
    "   - Re-trained all models and the stacking ensemble using the reduced feature set.  \n",
    "   - Verified that performance remained strong while model complexity decreased.  \n",
    "\n",
    "---\n",
    "\n",
    "### Key Findings\n",
    "- **Random Forest and XGBoost** consistently outperformed the standalone Decision Tree, showing the benefits of ensemble methods.  \n",
    "- **Stacking** further improved classification accuracy, precision, and recall by combining multiple base learners.  \n",
    "- **Feature selection** reduced dimensionality, which improved efficiency without a major drop in performance.  \n",
    "\n",
    "---\n",
    "\n",
    "In conclusion, this notebook demonstrates that **tree-based models combined with feature selection and stacking ensembles** are effective in building robust Intrusion Detection Systems (IDS). The approach balances accuracy, interpretability, and computational efficiency, making it suitable for practical IDS deployments.\n"
   ]
  }
 ],
 "metadata": {
  "language_info": {
   "name": "python"
  }
 },
 "nbformat": 4,
 "nbformat_minor": 5
}
