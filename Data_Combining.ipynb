{
 "cells": [
  {
   "cell_type": "markdown",
   "id": "23388ab1",
   "metadata": {},
   "source": [
    "### Code for combining all the .csv files that are Downloaded from Canadian Institute for Cybersecurity into one file. \n",
    "The CICIDS2017 dataset is publicly available at: https://www.unb.ca/cic/datasets/ids-2017.html."
   ]
  },
  {
   "cell_type": "code",
   "execution_count": 1,
   "id": "bcd82896",
   "metadata": {},
   "outputs": [],
   "source": [
    "import pandas as pd\n",
    "import glob, os\n",
    "\n",
    "path = r'C:/Users/hp/Downloads/dataset/MachineLearningCVE'  # Replace with the actual path\n",
    "all_files = glob.glob(os.path.join(path, \"*.csv\"))\n",
    "\n",
    "df_from_each_file = (pd.read_csv(f, sep=',') for f in all_files)\n",
    "concatenated_df   = pd.concat(df_from_each_file, ignore_index=True)\n",
    "concatenated_df.to_csv( \"merged.csv\", encoding='utf-8', index=False)"
   ]
  }
 ],
 "metadata": {
  "kernelspec": {
   "display_name": "Python 3",
   "language": "python",
   "name": "python3"
  },
  "language_info": {
   "codemirror_mode": {
    "name": "ipython",
    "version": 3
   },
   "file_extension": ".py",
   "mimetype": "text/x-python",
   "name": "python",
   "nbconvert_exporter": "python",
   "pygments_lexer": "ipython3",
   "version": "3.11.9"
  }
 },
 "nbformat": 4,
 "nbformat_minor": 5
}
