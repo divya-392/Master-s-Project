{
 "cells": [
  {
   "cell_type": "markdown",
   "id": "e38995e2",
   "metadata": {},
   "source": [
    "# Tree-Based Models for Intrusion Detection (CICIDS2017 Dataset)"
   ]
  },
  {
   "cell_type": "markdown",
   "id": "eb8738a0",
   "metadata": {},
   "source": [
    "This notebook focuses on preparing the dataset, cleaning it, splitting into training and testing parts, and then applying feature selection and model training."
   ]
  },
  {
   "cell_type": "markdown",
   "id": "693dc852",
   "metadata": {},
   "source": [
    "## 1. Data Preprocessing"
   ]
  },
  {
   "cell_type": "markdown",
   "id": "08f3a644",
   "metadata": {},
   "source": [
    "### 1.1 Import Libraries"
   ]
  },
  {
   "cell_type": "markdown",
   "id": "871d3e42",
   "metadata": {},
   "source": [
    "This block imports the warnings module and disables warning messages. It ensures that the notebook output remains clean and readable without unnecessary warning texts during execution."
   ]
  },
  {
   "cell_type": "code",
   "execution_count": null,
   "id": "f24131df",
   "metadata": {},
   "outputs": [],
   "source": [
    "import warnings\n",
    "warnings.filterwarnings(\"ignore\")"
   ]
  },
  {
   "cell_type": "markdown",
   "id": "d764e52f",
   "metadata": {},
   "source": [
    "Here we import the required Python libraries:\n",
    "\n",
    "- `numpy` and `pandas` for numerical operations and data manipulation  \n",
    "- `seaborn` and `matplotlib` for visualization  \n",
    "- `LabelEncoder` from scikit-learn to convert categorical labels into numeric form  \n",
    "- `train_test_split` for dataset splitting  \n",
    "- `classification_report`, `confusion_matrix`, `accuracy_score`, `precision_recall_fscore_support`, `f1_score` for model evaluation  \n",
    "- `DecisionTreeClassifier`, `RandomForestClassifier`, `ExtraTreesClassifier`, and `XGBoost` for classification models  \n"
   ]
  },
  {
   "cell_type": "code",
   "execution_count": null,
   "id": "7daf0599",
   "metadata": {},
   "outputs": [],
   "source": [
    "import numpy as np\n",
    "import pandas as pd\n",
    "import seaborn as sns\n",
    "import matplotlib.pyplot as plt\n",
    "from sklearn.preprocessing import LabelEncoder\n",
    "from sklearn.model_selection import train_test_split\n",
    "from sklearn.metrics import classification_report,confusion_matrix,accuracy_score,precision_recall_fscore_support\n",
    "from sklearn.metrics import f1_score\n",
    "from sklearn.ensemble import RandomForestClassifier,ExtraTreesClassifier\n",
    "from sklearn.tree import DecisionTreeClassifier\n",
    "import xgboost as xgb\n",
    "from xgboost import plot_importance"
   ]
  },
  {
   "cell_type": "markdown",
   "id": "605dfb97",
   "metadata": {},
   "source": [
    "### 1.2 Load Dataset"
   ]
  },
  {
   "cell_type": "markdown",
   "id": "bfa74eab",
   "metadata": {},
   "source": [
    "The sampled CICIDS2017 dataset is loaded into a pandas DataFrame (df) from a CSV file."
   ]
  },
  {
   "cell_type": "code",
   "execution_count": null,
   "id": "76461f47",
   "metadata": {},
   "outputs": [],
   "source": [
    "df = pd.read_csv('C:/Users/hp/Downloads/final/Intelligent Intrusion Detection System/Intrusion Detection system/Intrusion-Detection/data/CICIDS2017_sa.csv')"
   ]
  },
  {
   "cell_type": "markdown",
   "id": "5d1515d1",
   "metadata": {},
   "source": [
    "### 1.3 Normalization and Missing Values"
   ]
  },
  {
   "cell_type": "markdown",
   "id": "4af87daf",
   "metadata": {},
   "source": [
    "Min-Max Normalization is applied to all numeric features, scaling values between 0 and 1. This step ensures uniformity across features, preventing large-scale values from dominating smaller ones. Missing values are replaced with 0 for consistency."
   ]
  },
  {
   "cell_type": "code",
   "execution_count": null,
   "id": "736f1462",
   "metadata": {},
   "outputs": [],
   "source": [
    "# Min-max normalization\n",
    "numeric_features = df.dtypes[df.dtypes != 'object'].index\n",
    "df[numeric_features] = df[numeric_features].apply(\n",
    "    lambda x: (x - x.min()) / (x.max()-x.min()))\n",
    "# Fill empty values by 0\n",
    "df = df.fillna(0)"
   ]
  },
  {
   "cell_type": "markdown",
   "id": "e3c8fb56",
   "metadata": {},
   "source": [
    "### 1.4 Train/Test Split"
   ]
  },
  {
   "cell_type": "markdown",
   "id": "8990f691",
   "metadata": {},
   "source": [
    "The `Label` column (attack type) is encoded into numeric values using `LabelEncoder`.  \n",
    "\n",
    "- `X` contains the independent variables (features).  \n",
    "- `y` contains the target class labels (dependent variable).  \n",
    "\n",
    "The dataset is split into **80% training** and **20% testing**, with `stratify=y` ensuring that class distribution remains consistent across both sets."
   ]
  },
  {
   "cell_type": "code",
   "execution_count": null,
   "id": "ae733f02",
   "metadata": {},
   "outputs": [],
   "source": [
    "labelencoder = LabelEncoder()\n",
    "df.iloc[:, -1] = labelencoder.fit_transform(df.iloc[:, -1])\n",
    "X = df.drop(['Label'],axis=1).values\n",
    "y = df.iloc[:, -1].values.reshape(-1,1)\n",
    "y=np.ravel(y)\n",
    "X_train, X_test, y_train, y_test = train_test_split(X,y, train_size = 0.8, test_size = 0.2, random_state = 0,stratify = y)"
   ]
  },
  {
   "cell_type": "markdown",
   "id": "39dbdf94",
   "metadata": {},
   "source": [
    "Displays the dimensions (rows and columns) of the training dataset to confirm successful splitting and preprocessing."
   ]
  },
  {
   "cell_type": "code",
   "execution_count": null,
   "id": "67c18370",
   "metadata": {},
   "outputs": [
    {
     "data": {
      "text/plain": [
       "(45328, 77)"
      ]
     },
     "metadata": {},
     "output_type": "display_data"
    }
   ],
   "source": [
    "X_train.shape"
   ]
  },
  {
   "cell_type": "markdown",
   "id": "a5736c6d",
   "metadata": {},
   "source": [
    "Shows the dimensions of the test dataset, ensuring the split is correct."
   ]
  },
  {
   "cell_type": "code",
   "execution_count": null,
   "id": "d9a2d489",
   "metadata": {},
   "outputs": [
    {
     "data": {
      "text/plain": [
       "(11333, 77)"
      ]
     },
     "metadata": {},
     "output_type": "display_data"
    }
   ],
   "source": [
    "X_test.shape"
   ]
  },
  {
   "cell_type": "markdown",
   "id": "9c1fc2ab",
   "metadata": {},
   "source": [
    "Counts and displays the frequency of each class in the training dataset. This helps identify class imbalance problems before applying resampling methods."
   ]
  },
  {
   "cell_type": "code",
   "execution_count": null,
   "id": "4ca48805",
   "metadata": {},
   "outputs": [
    {
     "data": {
      "text/plain": [
       "0    18184\n",
       "3    15228\n",
       "5     6357\n",
       "2     2213\n",
       "6     1744\n",
       "1     1573\n",
       "4       29\n",
       "Name: count, dtype: int64"
      ]
     },
     "metadata": {},
     "output_type": "display_data"
    }
   ],
   "source": [
    "pd.Series(y_train).value_counts()"
   ]
  },
  {
   "cell_type": "markdown",
   "id": "e3522b8d",
   "metadata": {},
   "source": [
    "### 1.5 Handling Imbalanced Data (SMOTE)"
   ]
  },
  {
   "cell_type": "markdown",
   "id": "f7f77462",
   "metadata": {},
   "source": [
    "SMOTE (Synthetic Minority Oversampling Technique) is imported and initialized.\n",
    "\n",
    "It generates synthetic samples for under-represented classes to balance the dataset. In this case, class 4 is oversampled to create 1500 new examples."
   ]
  },
  {
   "cell_type": "code",
   "execution_count": null,
   "id": "468f5e5f",
   "metadata": {},
   "outputs": [],
   "source": [
    "from imblearn.over_sampling import SMOTE\n",
    "smote=SMOTE(n_jobs=-1, sampling_strategy={4:1500}) # Create 1500 samples for the minority class \"4\""
   ]
  },
  {
   "cell_type": "markdown",
   "id": "8c8df89d",
   "metadata": {},
   "source": [
    "This block checks the type, shape, and unique values of y_train. It validates that the labels are encoded properly and ready for training."
   ]
  },
  {
   "cell_type": "code",
   "execution_count": null,
   "id": "e2be1a42",
   "metadata": {},
   "outputs": [
    {
     "name": "stdout",
     "output_type": "stream",
     "text": [
      "<class 'numpy.ndarray'>\n",
      "(45328,)\n",
      "[0 1 2 3 4 5 6]\n"
     ]
    }
   ],
   "source": [
    "print(type(y_train))\n",
    "print(y_train.shape)\n",
    "print(np.unique(y_train)[:10])   # show first 10 unique labels\n"
   ]
  },
  {
   "cell_type": "markdown",
   "id": "a31b5c19",
   "metadata": {},
   "source": [
    "The training labels (y_train) are encoded again to ensure consistency. Then, SMOTE is applied to oversample the minority classes. \n",
    "\n",
    "This balances the training dataset and helps machine learning models perform better on imbalanced data."
   ]
  },
  {
   "cell_type": "code",
   "execution_count": null,
   "id": "dc39963d",
   "metadata": {},
   "outputs": [],
   "source": [
    "y_train =labelencoder.fit_transform(y_train)\n",
    "X_train, y_train = smote.fit_resample(X_train, y_train)"
   ]
  },
  {
   "cell_type": "markdown",
   "id": "34b9b816",
   "metadata": {},
   "source": [
    "Displays the new class distribution in the training dataset after SMOTE.\n",
    "\n",
    "This verifies whether oversampling successfully balanced the dataset."
   ]
  },
  {
   "cell_type": "code",
   "execution_count": null,
   "id": "f0c97958",
   "metadata": {},
   "outputs": [
    {
     "data": {
      "text/plain": [
       "0    18184\n",
       "3    15228\n",
       "5     6357\n",
       "2     2213\n",
       "6     1744\n",
       "1     1573\n",
       "4     1500\n",
       "Name: count, dtype: int64"
      ]
     },
     "metadata": {},
     "output_type": "display_data"
    }
   ],
   "source": [
    "pd.Series(y_train).value_counts()"
   ]
  },
  {
   "cell_type": "markdown",
   "id": "00981863",
   "metadata": {},
   "source": [
    "## 2. Model Training and Evaluation (Before Feature Selection)"
   ]
  },
  {
   "cell_type": "markdown",
   "id": "1668ea47",
   "metadata": {},
   "source": [
    "### 2.1 Decision Tree"
   ]
  },
  {
   "cell_type": "markdown",
   "id": "47460d83",
   "metadata": {},
   "source": [
    "A Decision Tree classifier is initialized and trained using the resampled training data.  \n",
    "Predictions are made on the test set, and the true labels are encoded for evaluation.\n"
   ]
  },
  {
   "cell_type": "code",
   "execution_count": null,
   "id": "104ba156",
   "metadata": {},
   "outputs": [
    {
     "name": "stdout",
     "output_type": "stream",
     "text": [
      "Accuracy of DT: 0.995764581311215\n",
      "Precision of DT: 0.9958704389239157\n",
      "Recall of DT: 0.995764581311215\n",
      "F1-score of DT: 0.9957992382059783\n",
      "              precision    recall  f1-score   support\n",
      "\n",
      "           0       1.00      0.99      1.00      4547\n",
      "           1       0.99      0.98      0.98       393\n",
      "           2       0.99      1.00      1.00       554\n",
      "           3       1.00      1.00      1.00      3807\n",
      "           4       0.60      0.86      0.71         7\n",
      "           5       1.00      1.00      1.00      1589\n",
      "           6       1.00      0.99      0.99       436\n",
      "\n",
      "    accuracy                           1.00     11333\n",
      "   macro avg       0.94      0.97      0.95     11333\n",
      "weighted avg       1.00      1.00      1.00     11333\n",
      "\n"
     ]
    },
    {
     "data": {
      "image/png": "[encoded data removed]",
      "text/plain": [
       "<Figure size 500x500 with 2 Axes>"
      ]
     },
     "metadata": {},
     "output_type": "display_data"
    }
   ],
   "source": [
    "# Decision tree training and prediction\n",
    "dt = DecisionTreeClassifier(random_state = 0)\n",
    "dt.fit(X_train,y_train)\n",
    "\n",
    "y_predict=dt.predict(X_test)\n",
    "y_true=y_test\n",
    "y_true_encoded=labelencoder.transform(y_true)\n",
    "print('Accuracy of DT: '+ str(dt.score(X_test,y_true_encoded)))\n",
    "precision,recall,fscore,none= precision_recall_fscore_support(y_true_encoded, y_predict, average='weighted')\n",
    "print('Precision of DT: '+(str(precision)))\n",
    "print('Recall of DT: '+(str(recall)))\n",
    "print('F1-score of DT: '+(str(fscore)))\n",
    "print(classification_report(y_true_encoded,y_predict))\n",
    "cm=confusion_matrix(y_true_encoded,y_predict)\n",
    "f,ax=plt.subplots(figsize=(5,5))\n",
    "sns.heatmap(cm,annot=True,linewidth=0.5,linecolor=\"red\",fmt=\".0f\",ax=ax)\n",
    "plt.xlabel(\"y_pred\")\n",
    "plt.ylabel(\"y_true\")\n",
    "plt.show()"
   ]
  },
  {
   "cell_type": "markdown",
   "id": "fe5ff532",
   "metadata": {},
   "source": [
    "Predictions are generated for both training (`dt_train`) and test (`dt_test`) sets.  \n",
    "These are later used to compare model performance and check for overfitting.\n"
   ]
  },
  {
   "cell_type": "code",
   "execution_count": null,
   "id": "af63600a",
   "metadata": {},
   "outputs": [],
   "source": [
    "dt_train=dt.predict(X_train)\n",
    "dt_test=dt.predict(X_test)"
   ]
  },
  {
   "cell_type": "markdown",
   "id": "140d5ab5",
   "metadata": {},
   "source": [
    "### 2.2 Random Forest"
   ]
  },
  {
   "cell_type": "markdown",
   "id": "e262e2ed",
   "metadata": {},
   "source": [
    "A Random Forest classifier is trained.  \n",
    "Random Forest is an ensemble method that combines multiple decision trees for better accuracy and robustness.  \n",
    "Predictions are made on the test dataset.\n"
   ]
  },
  {
   "cell_type": "code",
   "execution_count": null,
   "id": "3a8fea72",
   "metadata": {},
   "outputs": [
    {
     "name": "stdout",
     "output_type": "stream",
     "text": [
      "Accuracy of RF: 0.9948822024177182\n",
      "Precision of RF: 0.9949085648906869\n",
      "Recall of RF: 0.9948822024177182\n",
      "F1-score of RF: 0.9948656587738048\n",
      "              precision    recall  f1-score   support\n",
      "\n",
      "           0       0.99      0.99      0.99      4547\n",
      "           1       0.96      0.98      0.97       393\n",
      "           2       1.00      1.00      1.00       554\n",
      "           3       1.00      1.00      1.00      3807\n",
      "           4       1.00      0.71      0.83         7\n",
      "           5       1.00      1.00      1.00      1589\n",
      "           6       1.00      0.97      0.98       436\n",
      "\n",
      "    accuracy                           0.99     11333\n",
      "   macro avg       0.99      0.95      0.97     11333\n",
      "weighted avg       0.99      0.99      0.99     11333\n",
      "\n"
     ]
    },
    {
     "data": {
      "image/png": "[encoded data removed]",
      "text/plain": [
       "<Figure size 500x500 with 2 Axes>"
      ]
     },
     "metadata": {},
     "output_type": "display_data"
    }
   ],
   "source": [
    "# Random Forest training and prediction\n",
    "rf = RandomForestClassifier(random_state = 0)\n",
    "rf.fit(X_train,y_train)\n",
    "\n",
    "y_predict=rf.predict(X_test)\n",
    "y_true=y_test\n",
    "y_true_encoded=labelencoder.transform(y_true)\n",
    "print('Accuracy of RF: '+ str(rf.score(X_test,y_true_encoded)))\n",
    "precision,recall,fscore,none= precision_recall_fscore_support(y_true_encoded, y_predict, average='weighted')\n",
    "print('Precision of RF: '+(str(precision)))\n",
    "print('Recall of RF: '+(str(recall)))\n",
    "print('F1-score of RF: '+(str(fscore)))\n",
    "print(classification_report(y_true_encoded,y_predict))\n",
    "cm=confusion_matrix(y_true_encoded,y_predict)\n",
    "f,ax=plt.subplots(figsize=(5,5))\n",
    "sns.heatmap(cm,annot=True,linewidth=0.5,linecolor=\"red\",fmt=\".0f\",ax=ax)\n",
    "plt.xlabel(\"y_pred\")\n",
    "plt.ylabel(\"y_true\")\n",
    "plt.show()"
   ]
  },
  {
   "cell_type": "markdown",
   "id": "b8049099",
   "metadata": {},
   "source": [
    "Predictions are generated for both training (`rf_train`) and test (`rf_test`) sets.  \n",
    "This allows comparison between model fitting and generalization.\n"
   ]
  },
  {
   "cell_type": "code",
   "execution_count": null,
   "id": "c7f92e1a",
   "metadata": {},
   "outputs": [],
   "source": [
    "rf_train=rf.predict(X_train)\n",
    "rf_test=rf.predict(X_test)"
   ]
  },
  {
   "cell_type": "markdown",
   "id": "4ac02347",
   "metadata": {},
   "source": [
    "### 2.3 Extra Trees"
   ]
  },
  {
   "cell_type": "markdown",
   "id": "361fde8e",
   "metadata": {},
   "source": [
    "An Extra Trees classifier is trained.  \n",
    "Similar to Random Forest, Extra Trees builds multiple trees but introduces more randomness.  \n",
    "The model is evaluated by printing its accuracy on the test dataset.\n"
   ]
  },
  {
   "cell_type": "code",
   "execution_count": null,
   "id": "9143cd75",
   "metadata": {},
   "outputs": [
    {
     "name": "stdout",
     "output_type": "stream",
     "text": [
      "Accuracy of ET: 0.9925880172946263\n",
      "Precision of ET: 0.9925999600547237\n",
      "Recall of ET: 0.9925880172946263\n",
      "F1-score of ET: 0.9925697851766749\n",
      "              precision    recall  f1-score   support\n",
      "\n",
      "           0       0.99      0.99      0.99      4547\n",
      "           1       0.96      0.97      0.97       393\n",
      "           2       0.99      1.00      0.99       554\n",
      "           3       0.99      1.00      1.00      3807\n",
      "           4       1.00      0.71      0.83         7\n",
      "           5       1.00      1.00      1.00      1589\n",
      "           6       0.99      0.97      0.98       436\n",
      "\n",
      "    accuracy                           0.99     11333\n",
      "   macro avg       0.99      0.95      0.97     11333\n",
      "weighted avg       0.99      0.99      0.99     11333\n",
      "\n"
     ]
    },
    {
     "data": {
      "image/png": "[encoded data removed]",
      "text/plain": [
       "<Figure size 500x500 with 2 Axes>"
      ]
     },
     "metadata": {},
     "output_type": "display_data"
    }
   ],
   "source": [
    "# Extra trees training and prediction\n",
    "et = ExtraTreesClassifier(random_state = 0)\n",
    "et.fit(X_train,y_train)\n",
    "y_predict=et.predict(X_test)\n",
    "y_true=y_test\n",
    "y_true_encoded=labelencoder.transform(y_true)\n",
    "print('Accuracy of ET: '+ str(et.score(X_test,y_true_encoded)))\n",
    "precision,recall,fscore,none= precision_recall_fscore_support(y_true_encoded, y_predict, average='weighted')\n",
    "print('Precision of ET: '+(str(precision)))\n",
    "print('Recall of ET: '+(str(recall)))\n",
    "print('F1-score of ET: '+(str(fscore)))\n",
    "print(classification_report(y_true_encoded,y_predict))\n",
    "cm=confusion_matrix(y_true_encoded,y_predict)\n",
    "f,ax=plt.subplots(figsize=(5,5))\n",
    "sns.heatmap(cm,annot=True,linewidth=0.5,linecolor=\"red\",fmt=\".0f\",ax=ax)\n",
    "plt.xlabel(\"y_pred\")\n",
    "plt.ylabel(\"y_true\")\n",
    "plt.show()"
   ]
  },
  {
   "cell_type": "markdown",
   "id": "78d9d026",
   "metadata": {},
   "source": [
    "Predictions for both training (`et_train`) and test (`et_test`) sets are obtained.  \n",
    "This is useful for performance evaluation and overfitting detection.\n"
   ]
  },
  {
   "cell_type": "code",
   "execution_count": null,
   "id": "67802f27",
   "metadata": {},
   "outputs": [],
   "source": [
    "et_train=et.predict(X_train)\n",
    "et_test=et.predict(X_test)"
   ]
  },
  {
   "cell_type": "markdown",
   "id": "0e2742ac",
   "metadata": {},
   "source": [
    "### 2.4 XGBoost"
   ]
  },
  {
   "cell_type": "markdown",
   "id": "01ef0c4b",
   "metadata": {},
   "source": [
    "The XGBoost classifier is initialized with 10 estimators and trained on the training data.  \n",
    "XGBoost is a powerful boosting algorithm often used in intrusion detection tasks.  \n",
    "Predictions are generated for the test set.\n"
   ]
  },
  {
   "cell_type": "code",
   "execution_count": null,
   "id": "a933bef5",
   "metadata": {},
   "outputs": [
    {
     "name": "stdout",
     "output_type": "stream",
     "text": [
      "Accuracy of XGBoost: 0.99435277508162\n",
      "Precision of XGBoost: 0.9943416294473314\n",
      "Recall of XGBoost: 0.99435277508162\n",
      "F1-score of XGBoost: 0.994334815275237\n",
      "              precision    recall  f1-score   support\n",
      "\n",
      "           0       0.99      0.99      0.99      4547\n",
      "           1       0.99      0.97      0.98       393\n",
      "           2       1.00      1.00      1.00       554\n",
      "           3       0.99      1.00      1.00      3807\n",
      "           4       0.83      0.71      0.77         7\n",
      "           5       1.00      1.00      1.00      1589\n",
      "           6       1.00      0.98      0.99       436\n",
      "\n",
      "    accuracy                           0.99     11333\n",
      "   macro avg       0.97      0.95      0.96     11333\n",
      "weighted avg       0.99      0.99      0.99     11333\n",
      "\n"
     ]
    },
    {
     "data": {
      "image/png": "[encoded data removed]",
      "text/plain": [
       "<Figure size 500x500 with 2 Axes>"
      ]
     },
     "metadata": {},
     "output_type": "display_data"
    }
   ],
   "source": [
    "# XGboost training and prediction\n",
    "xg = xgb.XGBClassifier(n_estimators = 10)\n",
    "xg.fit(X_train,y_train)\n",
    "\n",
    "y_predict=xg.predict(X_test)\n",
    "y_true=y_test\n",
    "y_true_encoded=labelencoder.transform(y_true)\n",
    "print('Accuracy of XGBoost: '+ str(xg.score(X_test,y_true_encoded)))\n",
    "precision,recall,fscore,none= precision_recall_fscore_support(y_true_encoded, y_predict, average='weighted')\n",
    "print('Precision of XGBoost: '+(str(precision)))\n",
    "print('Recall of XGBoost: '+(str(recall)))\n",
    "print('F1-score of XGBoost: '+(str(fscore)))\n",
    "print(classification_report(y_true_encoded,y_predict))\n",
    "cm=confusion_matrix(y_true_encoded,y_predict)\n",
    "f,ax=plt.subplots(figsize=(5,5))\n",
    "sns.heatmap(cm,annot=True,linewidth=0.5,linecolor=\"red\",fmt=\".0f\",ax=ax)\n",
    "plt.xlabel(\"y_pred\")\n",
    "plt.ylabel(\"y_true\")\n",
    "plt.show()"
   ]
  },
  {
   "cell_type": "markdown",
   "id": "a748cb12",
   "metadata": {},
   "source": [
    "Training (`xg_train`) and test (`xg_test`) predictions are collected from the XGBoost model.  \n",
    "These will be used later for model evaluation and comparison.\n"
   ]
  },
  {
   "cell_type": "code",
   "execution_count": null,
   "id": "9bf2b690",
   "metadata": {},
   "outputs": [],
   "source": [
    "xg_train=xg.predict(X_train)\n",
    "xg_test=xg.predict(X_test)"
   ]
  },
  {
   "cell_type": "markdown",
   "id": "586e5fc4",
   "metadata": {},
   "source": [
    "### 2.5 Stacking Model Construction (Ensemble for 4 base learners)"
   ]
  },
  {
   "cell_type": "markdown",
   "id": "d2d9a3d6",
   "metadata": {},
   "source": [
    "The outputs of the four base models (Decision Tree, Random Forest, Extra Trees, and XGBoost)  are combined into a new DataFrame. These predictions will later be used to construct an ensemble (stacking) model.\n"
   ]
  },
  {
   "cell_type": "code",
   "execution_count": null,
   "id": "b23d1680",
   "metadata": {},
   "outputs": [
    {
     "data": {
      "text/html": [
       "<div>\n",
       "<style scoped>\n",
       "    .dataframe tbody tr th:only-of-type {\n",
       "        vertical-align: middle;\n",
       "    }\n",
       "\n",
       "    .dataframe tbody tr th {\n",
       "        vertical-align: top;\n",
       "    }\n",
       "\n",
       "    .dataframe thead th {\n",
       "        text-align: right;\n",
       "    }\n",
       "</style>\n",
       "<table border=\"1\" class=\"dataframe\">\n",
       "  <thead>\n",
       "    <tr style=\"text-align: right;\">\n",
       "      <th></th>\n",
       "      <th>DecisionTree</th>\n",
       "      <th>RandomForest</th>\n",
       "      <th>ExtraTrees</th>\n",
       "      <th>XgBoost</th>\n",
       "    </tr>\n",
       "  </thead>\n",
       "  <tbody>\n",
       "    <tr>\n",
       "      <th>0</th>\n",
       "      <td>5</td>\n",
       "      <td>5</td>\n",
       "      <td>5</td>\n",
       "      <td>5</td>\n",
       "    </tr>\n",
       "    <tr>\n",
       "      <th>1</th>\n",
       "      <td>3</td>\n",
       "      <td>3</td>\n",
       "      <td>3</td>\n",
       "      <td>3</td>\n",
       "    </tr>\n",
       "    <tr>\n",
       "      <th>2</th>\n",
       "      <td>5</td>\n",
       "      <td>5</td>\n",
       "      <td>5</td>\n",
       "      <td>5</td>\n",
       "    </tr>\n",
       "    <tr>\n",
       "      <th>3</th>\n",
       "      <td>3</td>\n",
       "      <td>3</td>\n",
       "      <td>3</td>\n",
       "      <td>3</td>\n",
       "    </tr>\n",
       "    <tr>\n",
       "      <th>4</th>\n",
       "      <td>2</td>\n",
       "      <td>2</td>\n",
       "      <td>2</td>\n",
       "      <td>2</td>\n",
       "    </tr>\n",
       "  </tbody>\n",
       "</table>\n",
       "</div>"
      ],
      "text/plain": [
       "   DecisionTree  RandomForest  ExtraTrees  XgBoost\n",
       "0             5             5           5        5\n",
       "1             3             3           3        3\n",
       "2             5             5           5        5\n",
       "3             3             3           3        3\n",
       "4             2             2           2        2"
      ]
     },
     "metadata": {},
     "output_type": "display_data"
    }
   ],
   "source": [
    "# Use the outputs of 4 base models to construct a new ensemble model\n",
    "base_predictions_train = pd.DataFrame( {\n",
    "    'DecisionTree': dt_train.ravel(),\n",
    "        'RandomForest': rf_train.ravel(),\n",
    "     'ExtraTrees': et_train.ravel(),\n",
    "     'XgBoost': xg_train.ravel(),\n",
    "    })\n",
    "base_predictions_train.head(5)"
   ]
  },
  {
   "cell_type": "markdown",
   "id": "0cf27ca3",
   "metadata": {},
   "source": [
    "Each model’s predictions are reshaped into column vectors.  \n",
    "This ensures they can be concatenated properly when creating the input for the stacking model.\n"
   ]
  },
  {
   "cell_type": "code",
   "execution_count": null,
   "id": "3bd4d0de",
   "metadata": {},
   "outputs": [],
   "source": [
    "dt_train=dt_train.reshape(-1, 1)\n",
    "et_train=et_train.reshape(-1, 1)\n",
    "rf_train=rf_train.reshape(-1, 1)\n",
    "xg_train=xg_train.reshape(-1, 1)\n",
    "dt_test=dt_test.reshape(-1, 1)\n",
    "et_test=et_test.reshape(-1, 1)\n",
    "rf_test=rf_test.reshape(-1, 1)\n",
    "xg_test=xg_test.reshape(-1, 1)"
   ]
  },
  {
   "cell_type": "markdown",
   "id": "38451483",
   "metadata": {},
   "source": [
    "Predictions from the four models are concatenated into a single feature set (`x_train` and `x_test`).  \n",
    "These combined predictions serve as input features for the stacking classifier.\n"
   ]
  },
  {
   "cell_type": "code",
   "execution_count": null,
   "id": "577eff4e",
   "metadata": {},
   "outputs": [],
   "source": [
    "x_train = np.concatenate(( dt_train, et_train, rf_train, xg_train), axis=1)\n",
    "x_test = np.concatenate(( dt_test, et_test, rf_test, xg_test), axis=1)"
   ]
  },
  {
   "cell_type": "markdown",
   "id": "5cd89ef8",
   "metadata": {},
   "source": [
    "An XGBoost classifier (`stk`) is trained using the combined predictions of the four base models.  \n",
    "This forms the **stacking ensemble model**, which learns from the strengths of all models.\n"
   ]
  },
  {
   "cell_type": "code",
   "execution_count": null,
   "id": "bc38a8d0",
   "metadata": {},
   "outputs": [],
   "source": [
    "stk = xgb.XGBClassifier().fit(x_train, y_train)"
   ]
  },
  {
   "cell_type": "markdown",
   "id": "44b1e140",
   "metadata": {},
   "source": [
    "Predictions are made using the stacking model.  \n",
    "The accuracy, precision, recall, and F1-score of the ensemble are calculated and printed.  \n",
    "This helps evaluate the effectiveness of stacking compared to individual models.\n"
   ]
  },
  {
   "cell_type": "code",
   "execution_count": null,
   "id": "2acdafcd",
   "metadata": {},
   "outputs": [
    {
     "name": "stdout",
     "output_type": "stream",
     "text": [
      "Accuracy of Stacking: 0.9956763434218654\n",
      "Precision of Stacking: 0.9956801591780816\n",
      "Recall of Stacking: 0.9956763434218654\n",
      "F1-score of Stacking: 0.9956584193838331\n",
      "              precision    recall  f1-score   support\n",
      "\n",
      "           0       1.00      0.99      1.00      4547\n",
      "           1       0.99      0.98      0.98       393\n",
      "           2       0.99      1.00      1.00       554\n",
      "           3       0.99      1.00      1.00      3807\n",
      "           4       1.00      0.71      0.83         7\n",
      "           5       1.00      1.00      1.00      1589\n",
      "           6       1.00      0.99      0.99       436\n",
      "\n",
      "    accuracy                           1.00     11333\n",
      "   macro avg       1.00      0.95      0.97     11333\n",
      "weighted avg       1.00      1.00      1.00     11333\n",
      "\n"
     ]
    },
    {
     "data": {
      "image/png": "[encoded data removed]",
      "text/plain": [
       "<Figure size 500x500 with 2 Axes>"
      ]
     },
     "metadata": {},
     "output_type": "display_data"
    }
   ],
   "source": [
    "y_predict=stk.predict(x_test)\n",
    "y_true=y_test\n",
    "y_true_encoded=labelencoder.transform(y_true)\n",
    "stk_score=accuracy_score(y_true_encoded,y_predict)\n",
    "print('Accuracy of Stacking: '+ str(accuracy_score(y_true_encoded,y_predict)))\n",
    "precision,recall,fscore,none= precision_recall_fscore_support(y_true_encoded, y_predict, average='weighted')\n",
    "print('Precision of Stacking: '+(str(precision)))\n",
    "print('Recall of Stacking: '+(str(recall)))\n",
    "print('F1-score of Stacking: '+(str(fscore)))\n",
    "print(classification_report(y_true_encoded,y_predict))\n",
    "cm=confusion_matrix(y_true_encoded,y_predict)\n",
    "f,ax=plt.subplots(figsize=(5,5))\n",
    "sns.heatmap(cm,annot=True,linewidth=0.5,linecolor=\"red\",fmt=\".0f\",ax=ax)\n",
    "plt.xlabel(\"y_pred\")\n",
    "plt.ylabel(\"y_true\")\n",
    "plt.show()"
   ]
  }
 ],
 "metadata": {
  "language_info": {
   "name": "python"
  }
 },
 "nbformat": 4,
 "nbformat_minor": 5
}
