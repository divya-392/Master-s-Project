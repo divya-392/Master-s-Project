{
  "cells": [
    {
      "cell_type": "markdown",
      "metadata": {
        "id": "NAniQ2c7EF2I"
      },
      "source": [
        "## Methodology for IDS"
      ]
    },
    {
      "cell_type": "markdown",
      "metadata": {
        "id": "AW158hB7EF2L"
      },
      "source": [
        "## Import libraries"
      ]
    },
    {
      "cell_type": "code",
      "execution_count": null,
      "metadata": {
        "id": "DiYupXF2EF2M"
      },
      "outputs": [],
      "source": [
        "import warnings\n",
        "warnings.filterwarnings(\"ignore\")"
      ]
    },
    {
      "cell_type": "code",
      "execution_count": null,
      "metadata": {
        "id": "gPV94dOyEF2N"
      },
      "outputs": [],
      "source": [
        "import numpy as np\n",
        "import pandas as pd\n",
        "import seaborn as sns\n",
        "import matplotlib.pyplot as plt\n",
        "from sklearn.preprocessing import LabelEncoder\n",
        "from sklearn.model_selection import train_test_split\n",
        "from sklearn.metrics import classification_report,confusion_matrix,accuracy_score,precision_recall_fscore_support\n",
        "from sklearn.metrics import f1_score,roc_auc_score\n",
        "from sklearn.ensemble import RandomForestClassifier,ExtraTreesClassifier\n",
        "from sklearn.tree import DecisionTreeClassifier\n",
        "import xgboost as xgb\n",
        "from xgboost import plot_importance"
      ]
    },
    {
      "cell_type": "markdown",
      "metadata": {
        "id": "iTP5eilxEF2O"
      },
      "source": [
        "## Read the sampled CICIDS2017 dataset\n",
        "The CICIDS2017 dataset is publicly available at: https://www.unb.ca/cic/datasets/ids-2017.html.\n",
        "\n",
        "Due to the large size of this dataset, sampled subsets of CICIDS2017 are used in this project. These subsets are located in the \"data\" folder.\n",
        "If you wish to apply this code to other datasets (e.g., the CAN-intrusion dataset), simply update the dataset path and follow the same steps. The models implemented in this code are generic and can be applied to any intrusion detection or network traffic dataset."
      ]
    },
    {
      "cell_type": "code",
      "execution_count": null,
      "metadata": {
        "id": "9juLhTc4EF2P"
      },
      "outputs": [],
      "source": [
        "#Read dataset\n",
        "df = pd.read_csv('./data/CICIDS2017.csv')\n"
      ]
    },
    {
      "cell_type": "code",
      "execution_count": null,
      "metadata": {
        "id": "IsnWjwwhEF2Q",
        "outputId": "319bfb7b-c379-4670-c3a4-5646ac158c68"
      },
      "outputs": [
        {
          "data": {
            "text/html": [
              "<div>\n",
              "<style scoped>\n",
              "    .dataframe tbody tr th:only-of-type {\n",
              "        vertical-align: middle;\n",
              "    }\n",
              "\n",
              "    .dataframe tbody tr th {\n",
              "        vertical-align: top;\n",
              "    }\n",
              "\n",
              "    .dataframe thead th {\n",
              "        text-align: right;\n",
              "    }\n",
              "</style>\n",
              "<table border=\"1\" class=\"dataframe\">\n",
              "  <thead>\n",
              "    <tr style=\"text-align: right;\">\n",
              "      <th></th>\n",
              "      <th>Flow Duration</th>\n",
              "      <th>Total Fwd Packets</th>\n",
              "      <th>Total Backward Packets</th>\n",
              "      <th>Total Length of Fwd Packets</th>\n",
              "      <th>Total Length of Bwd Packets</th>\n",
              "      <th>Fwd Packet Length Max</th>\n",
              "      <th>Fwd Packet Length Min</th>\n",
              "      <th>Fwd Packet Length Mean</th>\n",
              "      <th>Fwd Packet Length Std</th>\n",
              "      <th>Bwd Packet Length Max</th>\n",
              "      <th>...</th>\n",
              "      <th>min_seg_size_forward</th>\n",
              "      <th>Active Mean</th>\n",
              "      <th>Active Std</th>\n",
              "      <th>Active Max</th>\n",
              "      <th>Active Min</th>\n",
              "      <th>Idle Mean</th>\n",
              "      <th>Idle Std</th>\n",
              "      <th>Idle Max</th>\n",
              "      <th>Idle Min</th>\n",
              "      <th>Label</th>\n",
              "    </tr>\n",
              "  </thead>\n",
              "  <tbody>\n",
              "    <tr>\n",
              "      <th>0</th>\n",
              "      <td>3</td>\n",
              "      <td>2</td>\n",
              "      <td>0</td>\n",
              "      <td>12</td>\n",
              "      <td>0</td>\n",
              "      <td>6</td>\n",
              "      <td>6</td>\n",
              "      <td>6.0</td>\n",
              "      <td>0.00000</td>\n",
              "      <td>0</td>\n",
              "      <td>...</td>\n",
              "      <td>20</td>\n",
              "      <td>0.0</td>\n",
              "      <td>0.0</td>\n",
              "      <td>0</td>\n",
              "      <td>0</td>\n",
              "      <td>0.0</td>\n",
              "      <td>0.0</td>\n",
              "      <td>0</td>\n",
              "      <td>0</td>\n",
              "      <td>BENIGN</td>\n",
              "    </tr>\n",
              "    <tr>\n",
              "      <th>1</th>\n",
              "      <td>109</td>\n",
              "      <td>1</td>\n",
              "      <td>1</td>\n",
              "      <td>6</td>\n",
              "      <td>6</td>\n",
              "      <td>6</td>\n",
              "      <td>6</td>\n",
              "      <td>6.0</td>\n",
              "      <td>0.00000</td>\n",
              "      <td>6</td>\n",
              "      <td>...</td>\n",
              "      <td>20</td>\n",
              "      <td>0.0</td>\n",
              "      <td>0.0</td>\n",
              "      <td>0</td>\n",
              "      <td>0</td>\n",
              "      <td>0.0</td>\n",
              "      <td>0.0</td>\n",
              "      <td>0</td>\n",
              "      <td>0</td>\n",
              "      <td>BENIGN</td>\n",
              "    </tr>\n",
              "    <tr>\n",
              "      <th>2</th>\n",
              "      <td>52</td>\n",
              "      <td>1</td>\n",
              "      <td>1</td>\n",
              "      <td>6</td>\n",
              "      <td>6</td>\n",
              "      <td>6</td>\n",
              "      <td>6</td>\n",
              "      <td>6.0</td>\n",
              "      <td>0.00000</td>\n",
              "      <td>6</td>\n",
              "      <td>...</td>\n",
              "      <td>20</td>\n",
              "      <td>0.0</td>\n",
              "      <td>0.0</td>\n",
              "      <td>0</td>\n",
              "      <td>0</td>\n",
              "      <td>0.0</td>\n",
              "      <td>0.0</td>\n",
              "      <td>0</td>\n",
              "      <td>0</td>\n",
              "      <td>BENIGN</td>\n",
              "    </tr>\n",
              "    <tr>\n",
              "      <th>3</th>\n",
              "      <td>34</td>\n",
              "      <td>1</td>\n",
              "      <td>1</td>\n",
              "      <td>6</td>\n",
              "      <td>6</td>\n",
              "      <td>6</td>\n",
              "      <td>6</td>\n",
              "      <td>6.0</td>\n",
              "      <td>0.00000</td>\n",
              "      <td>6</td>\n",
              "      <td>...</td>\n",
              "      <td>20</td>\n",
              "      <td>0.0</td>\n",
              "      <td>0.0</td>\n",
              "      <td>0</td>\n",
              "      <td>0</td>\n",
              "      <td>0.0</td>\n",
              "      <td>0.0</td>\n",
              "      <td>0</td>\n",
              "      <td>0</td>\n",
              "      <td>BENIGN</td>\n",
              "    </tr>\n",
              "    <tr>\n",
              "      <th>4</th>\n",
              "      <td>3</td>\n",
              "      <td>2</td>\n",
              "      <td>0</td>\n",
              "      <td>12</td>\n",
              "      <td>0</td>\n",
              "      <td>6</td>\n",
              "      <td>6</td>\n",
              "      <td>6.0</td>\n",
              "      <td>0.00000</td>\n",
              "      <td>0</td>\n",
              "      <td>...</td>\n",
              "      <td>20</td>\n",
              "      <td>0.0</td>\n",
              "      <td>0.0</td>\n",
              "      <td>0</td>\n",
              "      <td>0</td>\n",
              "      <td>0.0</td>\n",
              "      <td>0.0</td>\n",
              "      <td>0</td>\n",
              "      <td>0</td>\n",
              "      <td>BENIGN</td>\n",
              "    </tr>\n",
              "    <tr>\n",
              "      <th>...</th>\n",
              "      <td>...</td>\n",
              "      <td>...</td>\n",
              "      <td>...</td>\n",
              "      <td>...</td>\n",
              "      <td>...</td>\n",
              "      <td>...</td>\n",
              "      <td>...</td>\n",
              "      <td>...</td>\n",
              "      <td>...</td>\n",
              "      <td>...</td>\n",
              "      <td>...</td>\n",
              "      <td>...</td>\n",
              "      <td>...</td>\n",
              "      <td>...</td>\n",
              "      <td>...</td>\n",
              "      <td>...</td>\n",
              "      <td>...</td>\n",
              "      <td>...</td>\n",
              "      <td>...</td>\n",
              "      <td>...</td>\n",
              "      <td>...</td>\n",
              "    </tr>\n",
              "    <tr>\n",
              "      <th>2830738</th>\n",
              "      <td>32215</td>\n",
              "      <td>4</td>\n",
              "      <td>2</td>\n",
              "      <td>112</td>\n",
              "      <td>152</td>\n",
              "      <td>28</td>\n",
              "      <td>28</td>\n",
              "      <td>28.0</td>\n",
              "      <td>0.00000</td>\n",
              "      <td>76</td>\n",
              "      <td>...</td>\n",
              "      <td>20</td>\n",
              "      <td>0.0</td>\n",
              "      <td>0.0</td>\n",
              "      <td>0</td>\n",
              "      <td>0</td>\n",
              "      <td>0.0</td>\n",
              "      <td>0.0</td>\n",
              "      <td>0</td>\n",
              "      <td>0</td>\n",
              "      <td>BENIGN</td>\n",
              "    </tr>\n",
              "    <tr>\n",
              "      <th>2830739</th>\n",
              "      <td>324</td>\n",
              "      <td>2</td>\n",
              "      <td>2</td>\n",
              "      <td>84</td>\n",
              "      <td>362</td>\n",
              "      <td>42</td>\n",
              "      <td>42</td>\n",
              "      <td>42.0</td>\n",
              "      <td>0.00000</td>\n",
              "      <td>181</td>\n",
              "      <td>...</td>\n",
              "      <td>20</td>\n",
              "      <td>0.0</td>\n",
              "      <td>0.0</td>\n",
              "      <td>0</td>\n",
              "      <td>0</td>\n",
              "      <td>0.0</td>\n",
              "      <td>0.0</td>\n",
              "      <td>0</td>\n",
              "      <td>0</td>\n",
              "      <td>BENIGN</td>\n",
              "    </tr>\n",
              "    <tr>\n",
              "      <th>2830740</th>\n",
              "      <td>82</td>\n",
              "      <td>2</td>\n",
              "      <td>1</td>\n",
              "      <td>31</td>\n",
              "      <td>6</td>\n",
              "      <td>31</td>\n",
              "      <td>0</td>\n",
              "      <td>15.5</td>\n",
              "      <td>21.92031</td>\n",
              "      <td>6</td>\n",
              "      <td>...</td>\n",
              "      <td>32</td>\n",
              "      <td>0.0</td>\n",
              "      <td>0.0</td>\n",
              "      <td>0</td>\n",
              "      <td>0</td>\n",
              "      <td>0.0</td>\n",
              "      <td>0.0</td>\n",
              "      <td>0</td>\n",
              "      <td>0</td>\n",
              "      <td>BENIGN</td>\n",
              "    </tr>\n",
              "    <tr>\n",
              "      <th>2830741</th>\n",
              "      <td>1048635</td>\n",
              "      <td>6</td>\n",
              "      <td>2</td>\n",
              "      <td>192</td>\n",
              "      <td>256</td>\n",
              "      <td>32</td>\n",
              "      <td>32</td>\n",
              "      <td>32.0</td>\n",
              "      <td>0.00000</td>\n",
              "      <td>128</td>\n",
              "      <td>...</td>\n",
              "      <td>20</td>\n",
              "      <td>0.0</td>\n",
              "      <td>0.0</td>\n",
              "      <td>0</td>\n",
              "      <td>0</td>\n",
              "      <td>0.0</td>\n",
              "      <td>0.0</td>\n",
              "      <td>0</td>\n",
              "      <td>0</td>\n",
              "      <td>BENIGN</td>\n",
              "    </tr>\n",
              "    <tr>\n",
              "      <th>2830742</th>\n",
              "      <td>94939</td>\n",
              "      <td>4</td>\n",
              "      <td>2</td>\n",
              "      <td>188</td>\n",
              "      <td>226</td>\n",
              "      <td>47</td>\n",
              "      <td>47</td>\n",
              "      <td>47.0</td>\n",
              "      <td>0.00000</td>\n",
              "      <td>113</td>\n",
              "      <td>...</td>\n",
              "      <td>20</td>\n",
              "      <td>0.0</td>\n",
              "      <td>0.0</td>\n",
              "      <td>0</td>\n",
              "      <td>0</td>\n",
              "      <td>0.0</td>\n",
              "      <td>0.0</td>\n",
              "      <td>0</td>\n",
              "      <td>0</td>\n",
              "      <td>BENIGN</td>\n",
              "    </tr>\n",
              "  </tbody>\n",
              "</table>\n",
              "<p>2830743 rows × 78 columns</p>\n",
              "</div>"
            ],
            "text/plain": [
              "         Flow Duration  Total Fwd Packets  Total Backward Packets  \\\n",
              "0                    3                  2                       0   \n",
              "1                  109                  1                       1   \n",
              "2                   52                  1                       1   \n",
              "3                   34                  1                       1   \n",
              "4                    3                  2                       0   \n",
              "...                ...                ...                     ...   \n",
              "2830738          32215                  4                       2   \n",
              "2830739            324                  2                       2   \n",
              "2830740             82                  2                       1   \n",
              "2830741        1048635                  6                       2   \n",
              "2830742          94939                  4                       2   \n",
              "\n",
              "         Total Length of Fwd Packets  Total Length of Bwd Packets  \\\n",
              "0                                 12                            0   \n",
              "1                                  6                            6   \n",
              "2                                  6                            6   \n",
              "3                                  6                            6   \n",
              "4                                 12                            0   \n",
              "...                              ...                          ...   \n",
              "2830738                          112                          152   \n",
              "2830739                           84                          362   \n",
              "2830740                           31                            6   \n",
              "2830741                          192                          256   \n",
              "2830742                          188                          226   \n",
              "\n",
              "         Fwd Packet Length Max  Fwd Packet Length Min  Fwd Packet Length Mean  \\\n",
              "0                            6                      6                     6.0   \n",
              "1                            6                      6                     6.0   \n",
              "2                            6                      6                     6.0   \n",
              "3                            6                      6                     6.0   \n",
              "4                            6                      6                     6.0   \n",
              "...                        ...                    ...                     ...   \n",
              "2830738                     28                     28                    28.0   \n",
              "2830739                     42                     42                    42.0   \n",
              "2830740                     31                      0                    15.5   \n",
              "2830741                     32                     32                    32.0   \n",
              "2830742                     47                     47                    47.0   \n",
              "\n",
              "         Fwd Packet Length Std  Bwd Packet Length Max  ...  \\\n",
              "0                      0.00000                      0  ...   \n",
              "1                      0.00000                      6  ...   \n",
              "2                      0.00000                      6  ...   \n",
              "3                      0.00000                      6  ...   \n",
              "4                      0.00000                      0  ...   \n",
              "...                        ...                    ...  ...   \n",
              "2830738                0.00000                     76  ...   \n",
              "2830739                0.00000                    181  ...   \n",
              "2830740               21.92031                      6  ...   \n",
              "2830741                0.00000                    128  ...   \n",
              "2830742                0.00000                    113  ...   \n",
              "\n",
              "         min_seg_size_forward  Active Mean  Active Std  Active Max  \\\n",
              "0                          20          0.0         0.0           0   \n",
              "1                          20          0.0         0.0           0   \n",
              "2                          20          0.0         0.0           0   \n",
              "3                          20          0.0         0.0           0   \n",
              "4                          20          0.0         0.0           0   \n",
              "...                       ...          ...         ...         ...   \n",
              "2830738                    20          0.0         0.0           0   \n",
              "2830739                    20          0.0         0.0           0   \n",
              "2830740                    32          0.0         0.0           0   \n",
              "2830741                    20          0.0         0.0           0   \n",
              "2830742                    20          0.0         0.0           0   \n",
              "\n",
              "         Active Min  Idle Mean  Idle Std  Idle Max  Idle Min   Label  \n",
              "0                 0        0.0       0.0         0         0  BENIGN  \n",
              "1                 0        0.0       0.0         0         0  BENIGN  \n",
              "2                 0        0.0       0.0         0         0  BENIGN  \n",
              "3                 0        0.0       0.0         0         0  BENIGN  \n",
              "4                 0        0.0       0.0         0         0  BENIGN  \n",
              "...             ...        ...       ...       ...       ...     ...  \n",
              "2830738           0        0.0       0.0         0         0  BENIGN  \n",
              "2830739           0        0.0       0.0         0         0  BENIGN  \n",
              "2830740           0        0.0       0.0         0         0  BENIGN  \n",
              "2830741           0        0.0       0.0         0         0  BENIGN  \n",
              "2830742           0        0.0       0.0         0         0  BENIGN  \n",
              "\n",
              "[2830743 rows x 78 columns]"
            ]
          },
          "execution_count": 4,
          "metadata": {},
          "output_type": "execute_result"
        }
      ],
      "source": [
        "df"
      ]
    },
    {
      "cell_type": "code",
      "execution_count": null,
      "metadata": {
        "id": "8mo-rRZTEF2R",
        "outputId": "f805769c-884d-4e70-e0e4-cdf255e4d6c4"
      },
      "outputs": [
        {
          "data": {
            "text/plain": [
              "BENIGN          2273097\n",
              "DoS              380699\n",
              "PortScan         158930\n",
              "BruteForce        13835\n",
              "WebAttack          2180\n",
              "Bot                1966\n",
              "Infiltration         36\n",
              "Name: Label, dtype: int64"
            ]
          },
          "execution_count": 5,
          "metadata": {},
          "output_type": "execute_result"
        }
      ],
      "source": [
        "df.Label.value_counts()"
      ]
    },
    {
      "cell_type": "markdown",
      "metadata": {
        "id": "7R589qG5EF2S"
      },
      "source": [
        "### Preprocessing (normalization and padding values)"
      ]
    },
    {
      "cell_type": "code",
      "execution_count": null,
      "metadata": {
        "id": "7WJHBK6DEF2T",
        "outputId": "73df6366-f86c-4e15-f4a4-275c2253d885"
      },
      "outputs": [],
      "source": [
        "# Z-score normalization\n",
        "features = df.dtypes[df.dtypes != 'object'].index\n",
        "df[features] = df[features].apply(\n",
        "    lambda x: (x - x.mean()) / (x.std()))\n",
        "# Fill empty values by 0\n",
        "df = df.fillna(0)"
      ]
    },
    {
      "cell_type": "markdown",
      "metadata": {
        "id": "eqUhJTAvEF2T"
      },
      "source": [
        "### Data sampling\n",
        "Due to the space limit of GitHub files and the large size of network traffic data, we sample a small-sized subset for model learning using **k-means cluster sampling**"
      ]
    },
    {
      "cell_type": "code",
      "execution_count": null,
      "metadata": {
        "id": "h0qTbuNLEF2T"
      },
      "outputs": [],
      "source": [
        "labelencoder = LabelEncoder()\n",
        "df.iloc[:, -1] = labelencoder.fit_transform(df.iloc[:, -1])"
      ]
    },
    {
      "cell_type": "code",
      "execution_count": null,
      "metadata": {
        "id": "s436JFUIEF2U",
        "outputId": "b14d5a60-57b0-4e1f-e180-5c8632fc5204"
      },
      "outputs": [
        {
          "data": {
            "text/plain": [
              "0    2273097\n",
              "3     380699\n",
              "5     158930\n",
              "2      13835\n",
              "6       2180\n",
              "1       1966\n",
              "4         36\n",
              "Name: Label, dtype: int64"
            ]
          },
          "execution_count": 8,
          "metadata": {},
          "output_type": "execute_result"
        }
      ],
      "source": [
        "df.Label.value_counts()"
      ]
    },
    {
      "cell_type": "code",
      "execution_count": null,
      "metadata": {
        "id": "buHKmZUVEF2U"
      },
      "outputs": [],
      "source": [
        "# retain the minority class instances and sample the majority class instances\n",
        "df_minor = df[(df['Label']==6)|(df['Label']==1)|(df['Label']==4)]\n",
        "df_major = df.drop(df_minor.index)"
      ]
    },
    {
      "cell_type": "code",
      "execution_count": null,
      "metadata": {
        "id": "uoLMHn6ZEF2U"
      },
      "outputs": [],
      "source": [
        "X = df_major.drop(['Label'],axis=1)\n",
        "y = df_major.iloc[:, -1].values.reshape(-1,1)\n",
        "y=np.ravel(y)"
      ]
    },
    {
      "cell_type": "code",
      "execution_count": null,
      "metadata": {
        "id": "IN-T8ePXEF2V",
        "scrolled": true
      },
      "outputs": [],
      "source": [
        "# use k-means to cluster the data samples and select a proportion of data from each cluster\n",
        "from sklearn.cluster import MiniBatchKMeans\n",
        "kmeans = MiniBatchKMeans(n_clusters=1000, random_state=0).fit(X)"
      ]
    },
    {
      "cell_type": "code",
      "execution_count": null,
      "metadata": {
        "id": "YZt5zm68EF2V"
      },
      "outputs": [],
      "source": [
        "klabel=kmeans.labels_\n",
        "df_major['klabel']=klabel"
      ]
    },
    {
      "cell_type": "code",
      "execution_count": null,
      "metadata": {
        "id": "1p4bGqyYEF2V",
        "outputId": "509a3d45-96e1-4650-8fca-090ce99589ae",
        "scrolled": true
      },
      "outputs": [
        {
          "data": {
            "text/plain": [
              "318    22146\n",
              "2      20340\n",
              "258    20225\n",
              "308    18461\n",
              "432    18154\n",
              "       ...  \n",
              "366       70\n",
              "92        21\n",
              "596       14\n",
              "756       10\n",
              "295        3\n",
              "Name: klabel, Length: 997, dtype: int64"
            ]
          },
          "execution_count": 13,
          "metadata": {},
          "output_type": "execute_result"
        }
      ],
      "source": [
        "df_major['klabel'].value_counts()"
      ]
    },
    {
      "cell_type": "code",
      "execution_count": null,
      "metadata": {
        "id": "hGQzE-xfEF2W"
      },
      "outputs": [],
      "source": [
        "cols = list(df_major)\n",
        "cols.insert(78, cols.pop(cols.index('Label')))\n",
        "df_major = df_major.loc[:, cols]"
      ]
    },
    {
      "cell_type": "code",
      "execution_count": null,
      "metadata": {
        "id": "lGvUXda9EF2W",
        "outputId": "c44a74b5-85a5-4b43-e9e6-28e7908513de",
        "scrolled": true
      },
      "outputs": [
        {
          "data": {
            "text/html": [
              "<div>\n",
              "<style scoped>\n",
              "    .dataframe tbody tr th:only-of-type {\n",
              "        vertical-align: middle;\n",
              "    }\n",
              "\n",
              "    .dataframe tbody tr th {\n",
              "        vertical-align: top;\n",
              "    }\n",
              "\n",
              "    .dataframe thead th {\n",
              "        text-align: right;\n",
              "    }\n",
              "</style>\n",
              "<table border=\"1\" class=\"dataframe\">\n",
              "  <thead>\n",
              "    <tr style=\"text-align: right;\">\n",
              "      <th></th>\n",
              "      <th>Flow Duration</th>\n",
              "      <th>Total Fwd Packets</th>\n",
              "      <th>Total Backward Packets</th>\n",
              "      <th>Total Length of Fwd Packets</th>\n",
              "      <th>Total Length of Bwd Packets</th>\n",
              "      <th>Fwd Packet Length Max</th>\n",
              "      <th>Fwd Packet Length Min</th>\n",
              "      <th>Fwd Packet Length Mean</th>\n",
              "      <th>Fwd Packet Length Std</th>\n",
              "      <th>Bwd Packet Length Max</th>\n",
              "      <th>...</th>\n",
              "      <th>Active Mean</th>\n",
              "      <th>Active Std</th>\n",
              "      <th>Active Max</th>\n",
              "      <th>Active Min</th>\n",
              "      <th>Idle Mean</th>\n",
              "      <th>Idle Std</th>\n",
              "      <th>Idle Max</th>\n",
              "      <th>Idle Min</th>\n",
              "      <th>klabel</th>\n",
              "      <th>Label</th>\n",
              "    </tr>\n",
              "  </thead>\n",
              "  <tbody>\n",
              "    <tr>\n",
              "      <th>0</th>\n",
              "      <td>-0.439347</td>\n",
              "      <td>-0.009819</td>\n",
              "      <td>-0.010421</td>\n",
              "      <td>-0.053765</td>\n",
              "      <td>-0.007142</td>\n",
              "      <td>-0.281099</td>\n",
              "      <td>-0.210703</td>\n",
              "      <td>-0.280518</td>\n",
              "      <td>-0.245069</td>\n",
              "      <td>-0.447423</td>\n",
              "      <td>...</td>\n",
              "      <td>-0.125734</td>\n",
              "      <td>-0.104565</td>\n",
              "      <td>-0.149326</td>\n",
              "      <td>-0.101016</td>\n",
              "      <td>-0.351926</td>\n",
              "      <td>-0.10946</td>\n",
              "      <td>-0.356868</td>\n",
              "      <td>-0.338993</td>\n",
              "      <td>391</td>\n",
              "      <td>0</td>\n",
              "    </tr>\n",
              "    <tr>\n",
              "      <th>1</th>\n",
              "      <td>-0.439344</td>\n",
              "      <td>-0.011153</td>\n",
              "      <td>-0.009418</td>\n",
              "      <td>-0.054365</td>\n",
              "      <td>-0.007139</td>\n",
              "      <td>-0.281099</td>\n",
              "      <td>-0.210703</td>\n",
              "      <td>-0.280518</td>\n",
              "      <td>-0.245069</td>\n",
              "      <td>-0.444340</td>\n",
              "      <td>...</td>\n",
              "      <td>-0.125734</td>\n",
              "      <td>-0.104565</td>\n",
              "      <td>-0.149326</td>\n",
              "      <td>-0.101016</td>\n",
              "      <td>-0.351926</td>\n",
              "      <td>-0.10946</td>\n",
              "      <td>-0.356868</td>\n",
              "      <td>-0.338993</td>\n",
              "      <td>498</td>\n",
              "      <td>0</td>\n",
              "    </tr>\n",
              "    <tr>\n",
              "      <th>2</th>\n",
              "      <td>-0.439345</td>\n",
              "      <td>-0.011153</td>\n",
              "      <td>-0.009418</td>\n",
              "      <td>-0.054365</td>\n",
              "      <td>-0.007139</td>\n",
              "      <td>-0.281099</td>\n",
              "      <td>-0.210703</td>\n",
              "      <td>-0.280518</td>\n",
              "      <td>-0.245069</td>\n",
              "      <td>-0.444340</td>\n",
              "      <td>...</td>\n",
              "      <td>-0.125734</td>\n",
              "      <td>-0.104565</td>\n",
              "      <td>-0.149326</td>\n",
              "      <td>-0.101016</td>\n",
              "      <td>-0.351926</td>\n",
              "      <td>-0.10946</td>\n",
              "      <td>-0.356868</td>\n",
              "      <td>-0.338993</td>\n",
              "      <td>499</td>\n",
              "      <td>0</td>\n",
              "    </tr>\n",
              "    <tr>\n",
              "      <th>3</th>\n",
              "      <td>-0.439346</td>\n",
              "      <td>-0.011153</td>\n",
              "      <td>-0.009418</td>\n",
              "      <td>-0.054365</td>\n",
              "      <td>-0.007139</td>\n",
              "      <td>-0.281099</td>\n",
              "      <td>-0.210703</td>\n",
              "      <td>-0.280518</td>\n",
              "      <td>-0.245069</td>\n",
              "      <td>-0.444340</td>\n",
              "      <td>...</td>\n",
              "      <td>-0.125734</td>\n",
              "      <td>-0.104565</td>\n",
              "      <td>-0.149326</td>\n",
              "      <td>-0.101016</td>\n",
              "      <td>-0.351926</td>\n",
              "      <td>-0.10946</td>\n",
              "      <td>-0.356868</td>\n",
              "      <td>-0.338993</td>\n",
              "      <td>787</td>\n",
              "      <td>0</td>\n",
              "    </tr>\n",
              "    <tr>\n",
              "      <th>4</th>\n",
              "      <td>-0.439347</td>\n",
              "      <td>-0.009819</td>\n",
              "      <td>-0.010421</td>\n",
              "      <td>-0.053765</td>\n",
              "      <td>-0.007142</td>\n",
              "      <td>-0.281099</td>\n",
              "      <td>-0.210703</td>\n",
              "      <td>-0.280518</td>\n",
              "      <td>-0.245069</td>\n",
              "      <td>-0.447423</td>\n",
              "      <td>...</td>\n",
              "      <td>-0.125734</td>\n",
              "      <td>-0.104565</td>\n",
              "      <td>-0.149326</td>\n",
              "      <td>-0.101016</td>\n",
              "      <td>-0.351926</td>\n",
              "      <td>-0.10946</td>\n",
              "      <td>-0.356868</td>\n",
              "      <td>-0.338993</td>\n",
              "      <td>391</td>\n",
              "      <td>0</td>\n",
              "    </tr>\n",
              "    <tr>\n",
              "      <th>...</th>\n",
              "      <td>...</td>\n",
              "      <td>...</td>\n",
              "      <td>...</td>\n",
              "      <td>...</td>\n",
              "      <td>...</td>\n",
              "      <td>...</td>\n",
              "      <td>...</td>\n",
              "      <td>...</td>\n",
              "      <td>...</td>\n",
              "      <td>...</td>\n",
              "      <td>...</td>\n",
              "      <td>...</td>\n",
              "      <td>...</td>\n",
              "      <td>...</td>\n",
              "      <td>...</td>\n",
              "      <td>...</td>\n",
              "      <td>...</td>\n",
              "      <td>...</td>\n",
              "      <td>...</td>\n",
              "      <td>...</td>\n",
              "      <td>...</td>\n",
              "    </tr>\n",
              "    <tr>\n",
              "      <th>2830738</th>\n",
              "      <td>-0.438390</td>\n",
              "      <td>-0.007151</td>\n",
              "      <td>-0.008416</td>\n",
              "      <td>-0.043758</td>\n",
              "      <td>-0.007075</td>\n",
              "      <td>-0.250424</td>\n",
              "      <td>0.153902</td>\n",
              "      <td>-0.162296</td>\n",
              "      <td>-0.245069</td>\n",
              "      <td>-0.408376</td>\n",
              "      <td>...</td>\n",
              "      <td>-0.125734</td>\n",
              "      <td>-0.104565</td>\n",
              "      <td>-0.149326</td>\n",
              "      <td>-0.101016</td>\n",
              "      <td>-0.351926</td>\n",
              "      <td>-0.10946</td>\n",
              "      <td>-0.356868</td>\n",
              "      <td>-0.338993</td>\n",
              "      <td>813</td>\n",
              "      <td>0</td>\n",
              "    </tr>\n",
              "    <tr>\n",
              "      <th>2830739</th>\n",
              "      <td>-0.439337</td>\n",
              "      <td>-0.009819</td>\n",
              "      <td>-0.008416</td>\n",
              "      <td>-0.046560</td>\n",
              "      <td>-0.006982</td>\n",
              "      <td>-0.230903</td>\n",
              "      <td>0.385923</td>\n",
              "      <td>-0.087065</td>\n",
              "      <td>-0.245069</td>\n",
              "      <td>-0.354429</td>\n",
              "      <td>...</td>\n",
              "      <td>-0.125734</td>\n",
              "      <td>-0.104565</td>\n",
              "      <td>-0.149326</td>\n",
              "      <td>-0.101016</td>\n",
              "      <td>-0.351926</td>\n",
              "      <td>-0.10946</td>\n",
              "      <td>-0.356868</td>\n",
              "      <td>-0.338993</td>\n",
              "      <td>916</td>\n",
              "      <td>0</td>\n",
              "    </tr>\n",
              "    <tr>\n",
              "      <th>2830740</th>\n",
              "      <td>-0.439344</td>\n",
              "      <td>-0.009819</td>\n",
              "      <td>-0.009418</td>\n",
              "      <td>-0.051863</td>\n",
              "      <td>-0.007139</td>\n",
              "      <td>-0.246240</td>\n",
              "      <td>-0.310140</td>\n",
              "      <td>-0.229468</td>\n",
              "      <td>-0.167112</td>\n",
              "      <td>-0.444340</td>\n",
              "      <td>...</td>\n",
              "      <td>-0.125734</td>\n",
              "      <td>-0.104565</td>\n",
              "      <td>-0.149326</td>\n",
              "      <td>-0.101016</td>\n",
              "      <td>-0.351926</td>\n",
              "      <td>-0.10946</td>\n",
              "      <td>-0.356868</td>\n",
              "      <td>-0.338993</td>\n",
              "      <td>267</td>\n",
              "      <td>0</td>\n",
              "    </tr>\n",
              "    <tr>\n",
              "      <th>2830741</th>\n",
              "      <td>-0.408187</td>\n",
              "      <td>-0.004484</td>\n",
              "      <td>-0.008416</td>\n",
              "      <td>-0.035753</td>\n",
              "      <td>-0.007029</td>\n",
              "      <td>-0.244846</td>\n",
              "      <td>0.220194</td>\n",
              "      <td>-0.140802</td>\n",
              "      <td>-0.245069</td>\n",
              "      <td>-0.381659</td>\n",
              "      <td>...</td>\n",
              "      <td>-0.125734</td>\n",
              "      <td>-0.104565</td>\n",
              "      <td>-0.149326</td>\n",
              "      <td>-0.101016</td>\n",
              "      <td>-0.351926</td>\n",
              "      <td>-0.10946</td>\n",
              "      <td>-0.356868</td>\n",
              "      <td>-0.338993</td>\n",
              "      <td>634</td>\n",
              "      <td>0</td>\n",
              "    </tr>\n",
              "    <tr>\n",
              "      <th>2830742</th>\n",
              "      <td>-0.436526</td>\n",
              "      <td>-0.007151</td>\n",
              "      <td>-0.008416</td>\n",
              "      <td>-0.036153</td>\n",
              "      <td>-0.007042</td>\n",
              "      <td>-0.223931</td>\n",
              "      <td>0.468788</td>\n",
              "      <td>-0.060196</td>\n",
              "      <td>-0.245069</td>\n",
              "      <td>-0.389366</td>\n",
              "      <td>...</td>\n",
              "      <td>-0.125734</td>\n",
              "      <td>-0.104565</td>\n",
              "      <td>-0.149326</td>\n",
              "      <td>-0.101016</td>\n",
              "      <td>-0.351926</td>\n",
              "      <td>-0.10946</td>\n",
              "      <td>-0.356868</td>\n",
              "      <td>-0.338993</td>\n",
              "      <td>978</td>\n",
              "      <td>0</td>\n",
              "    </tr>\n",
              "  </tbody>\n",
              "</table>\n",
              "<p>2826561 rows × 79 columns</p>\n",
              "</div>"
            ],
            "text/plain": [
              "         Flow Duration  Total Fwd Packets  Total Backward Packets  \\\n",
              "0            -0.439347          -0.009819               -0.010421   \n",
              "1            -0.439344          -0.011153               -0.009418   \n",
              "2            -0.439345          -0.011153               -0.009418   \n",
              "3            -0.439346          -0.011153               -0.009418   \n",
              "4            -0.439347          -0.009819               -0.010421   \n",
              "...                ...                ...                     ...   \n",
              "2830738      -0.438390          -0.007151               -0.008416   \n",
              "2830739      -0.439337          -0.009819               -0.008416   \n",
              "2830740      -0.439344          -0.009819               -0.009418   \n",
              "2830741      -0.408187          -0.004484               -0.008416   \n",
              "2830742      -0.436526          -0.007151               -0.008416   \n",
              "\n",
              "         Total Length of Fwd Packets  Total Length of Bwd Packets  \\\n",
              "0                          -0.053765                    -0.007142   \n",
              "1                          -0.054365                    -0.007139   \n",
              "2                          -0.054365                    -0.007139   \n",
              "3                          -0.054365                    -0.007139   \n",
              "4                          -0.053765                    -0.007142   \n",
              "...                              ...                          ...   \n",
              "2830738                    -0.043758                    -0.007075   \n",
              "2830739                    -0.046560                    -0.006982   \n",
              "2830740                    -0.051863                    -0.007139   \n",
              "2830741                    -0.035753                    -0.007029   \n",
              "2830742                    -0.036153                    -0.007042   \n",
              "\n",
              "         Fwd Packet Length Max  Fwd Packet Length Min  Fwd Packet Length Mean  \\\n",
              "0                    -0.281099              -0.210703               -0.280518   \n",
              "1                    -0.281099              -0.210703               -0.280518   \n",
              "2                    -0.281099              -0.210703               -0.280518   \n",
              "3                    -0.281099              -0.210703               -0.280518   \n",
              "4                    -0.281099              -0.210703               -0.280518   \n",
              "...                        ...                    ...                     ...   \n",
              "2830738              -0.250424               0.153902               -0.162296   \n",
              "2830739              -0.230903               0.385923               -0.087065   \n",
              "2830740              -0.246240              -0.310140               -0.229468   \n",
              "2830741              -0.244846               0.220194               -0.140802   \n",
              "2830742              -0.223931               0.468788               -0.060196   \n",
              "\n",
              "         Fwd Packet Length Std  Bwd Packet Length Max  ...  Active Mean  \\\n",
              "0                    -0.245069              -0.447423  ...    -0.125734   \n",
              "1                    -0.245069              -0.444340  ...    -0.125734   \n",
              "2                    -0.245069              -0.444340  ...    -0.125734   \n",
              "3                    -0.245069              -0.444340  ...    -0.125734   \n",
              "4                    -0.245069              -0.447423  ...    -0.125734   \n",
              "...                        ...                    ...  ...          ...   \n",
              "2830738              -0.245069              -0.408376  ...    -0.125734   \n",
              "2830739              -0.245069              -0.354429  ...    -0.125734   \n",
              "2830740              -0.167112              -0.444340  ...    -0.125734   \n",
              "2830741              -0.245069              -0.381659  ...    -0.125734   \n",
              "2830742              -0.245069              -0.389366  ...    -0.125734   \n",
              "\n",
              "         Active Std  Active Max  Active Min  Idle Mean  Idle Std  Idle Max  \\\n",
              "0         -0.104565   -0.149326   -0.101016  -0.351926  -0.10946 -0.356868   \n",
              "1         -0.104565   -0.149326   -0.101016  -0.351926  -0.10946 -0.356868   \n",
              "2         -0.104565   -0.149326   -0.101016  -0.351926  -0.10946 -0.356868   \n",
              "3         -0.104565   -0.149326   -0.101016  -0.351926  -0.10946 -0.356868   \n",
              "4         -0.104565   -0.149326   -0.101016  -0.351926  -0.10946 -0.356868   \n",
              "...             ...         ...         ...        ...       ...       ...   \n",
              "2830738   -0.104565   -0.149326   -0.101016  -0.351926  -0.10946 -0.356868   \n",
              "2830739   -0.104565   -0.149326   -0.101016  -0.351926  -0.10946 -0.356868   \n",
              "2830740   -0.104565   -0.149326   -0.101016  -0.351926  -0.10946 -0.356868   \n",
              "2830741   -0.104565   -0.149326   -0.101016  -0.351926  -0.10946 -0.356868   \n",
              "2830742   -0.104565   -0.149326   -0.101016  -0.351926  -0.10946 -0.356868   \n",
              "\n",
              "         Idle Min  klabel  Label  \n",
              "0       -0.338993     391      0  \n",
              "1       -0.338993     498      0  \n",
              "2       -0.338993     499      0  \n",
              "3       -0.338993     787      0  \n",
              "4       -0.338993     391      0  \n",
              "...           ...     ...    ...  \n",
              "2830738 -0.338993     813      0  \n",
              "2830739 -0.338993     916      0  \n",
              "2830740 -0.338993     267      0  \n",
              "2830741 -0.338993     634      0  \n",
              "2830742 -0.338993     978      0  \n",
              "\n",
              "[2826561 rows x 79 columns]"
            ]
          },
          "execution_count": 15,
          "metadata": {},
          "output_type": "execute_result"
        }
      ],
      "source": [
        "df_major"
      ]
    },
    {
      "cell_type": "code",
      "execution_count": null,
      "metadata": {
        "id": "4_zmVl7EEF2X"
      },
      "outputs": [],
      "source": [
        "def typicalSampling(group):\n",
        "    name = group.name\n",
        "    frac = 0.008\n",
        "    return group.sample(frac=frac)\n",
        "\n",
        "result = df_major.groupby(\n",
        "    'klabel', group_keys=False\n",
        ").apply(typicalSampling)"
      ]
    },
    {
      "cell_type": "code",
      "execution_count": null,
      "metadata": {
        "id": "u8DMBi_cEF2X",
        "outputId": "1b0d77a3-b149-48d1-9e4e-a926bf2d0d41"
      },
      "outputs": [
        {
          "data": {
            "text/plain": [
              "0    18185\n",
              "3     3029\n",
              "5     1280\n",
              "2      118\n",
              "Name: Label, dtype: int64"
            ]
          },
          "execution_count": 17,
          "metadata": {},
          "output_type": "execute_result"
        }
      ],
      "source": [
        "result['Label'].value_counts()"
      ]
    },
    {
      "cell_type": "code",
      "execution_count": null,
      "metadata": {
        "id": "whwEV_OCEF2Y",
        "outputId": "01297cae-c15d-4aad-a37e-98782f26b65e",
        "scrolled": true
      },
      "outputs": [
        {
          "data": {
            "text/html": [
              "<div>\n",
              "<style scoped>\n",
              "    .dataframe tbody tr th:only-of-type {\n",
              "        vertical-align: middle;\n",
              "    }\n",
              "\n",
              "    .dataframe tbody tr th {\n",
              "        vertical-align: top;\n",
              "    }\n",
              "\n",
              "    .dataframe thead th {\n",
              "        text-align: right;\n",
              "    }\n",
              "</style>\n",
              "<table border=\"1\" class=\"dataframe\">\n",
              "  <thead>\n",
              "    <tr style=\"text-align: right;\">\n",
              "      <th></th>\n",
              "      <th>Flow Duration</th>\n",
              "      <th>Total Fwd Packets</th>\n",
              "      <th>Total Backward Packets</th>\n",
              "      <th>Total Length of Fwd Packets</th>\n",
              "      <th>Total Length of Bwd Packets</th>\n",
              "      <th>Fwd Packet Length Max</th>\n",
              "      <th>Fwd Packet Length Min</th>\n",
              "      <th>Fwd Packet Length Mean</th>\n",
              "      <th>Fwd Packet Length Std</th>\n",
              "      <th>Bwd Packet Length Max</th>\n",
              "      <th>...</th>\n",
              "      <th>Active Mean</th>\n",
              "      <th>Active Std</th>\n",
              "      <th>Active Max</th>\n",
              "      <th>Active Min</th>\n",
              "      <th>Idle Mean</th>\n",
              "      <th>Idle Std</th>\n",
              "      <th>Idle Max</th>\n",
              "      <th>Idle Min</th>\n",
              "      <th>klabel</th>\n",
              "      <th>Label</th>\n",
              "    </tr>\n",
              "  </thead>\n",
              "  <tbody>\n",
              "    <tr>\n",
              "      <th>6980</th>\n",
              "      <td>-0.437857</td>\n",
              "      <td>-0.011153</td>\n",
              "      <td>-0.009418</td>\n",
              "      <td>-0.054965</td>\n",
              "      <td>-0.007142</td>\n",
              "      <td>-0.289465</td>\n",
              "      <td>-0.310140</td>\n",
              "      <td>-0.312760</td>\n",
              "      <td>-0.245069</td>\n",
              "      <td>-0.447423</td>\n",
              "      <td>...</td>\n",
              "      <td>-0.125734</td>\n",
              "      <td>-0.104565</td>\n",
              "      <td>-0.149326</td>\n",
              "      <td>-0.101016</td>\n",
              "      <td>-0.351926</td>\n",
              "      <td>-0.10946</td>\n",
              "      <td>-0.356868</td>\n",
              "      <td>-0.338993</td>\n",
              "      <td>0</td>\n",
              "      <td>0</td>\n",
              "    </tr>\n",
              "    <tr>\n",
              "      <th>1506627</th>\n",
              "      <td>-0.438252</td>\n",
              "      <td>-0.011153</td>\n",
              "      <td>-0.009418</td>\n",
              "      <td>-0.054965</td>\n",
              "      <td>-0.007142</td>\n",
              "      <td>-0.289465</td>\n",
              "      <td>-0.310140</td>\n",
              "      <td>-0.312760</td>\n",
              "      <td>-0.245069</td>\n",
              "      <td>-0.447423</td>\n",
              "      <td>...</td>\n",
              "      <td>-0.125734</td>\n",
              "      <td>-0.104565</td>\n",
              "      <td>-0.149326</td>\n",
              "      <td>-0.101016</td>\n",
              "      <td>-0.351926</td>\n",
              "      <td>-0.10946</td>\n",
              "      <td>-0.356868</td>\n",
              "      <td>-0.338993</td>\n",
              "      <td>0</td>\n",
              "      <td>0</td>\n",
              "    </tr>\n",
              "    <tr>\n",
              "      <th>1377524</th>\n",
              "      <td>-0.438860</td>\n",
              "      <td>-0.011153</td>\n",
              "      <td>-0.009418</td>\n",
              "      <td>-0.054965</td>\n",
              "      <td>-0.007142</td>\n",
              "      <td>-0.289465</td>\n",
              "      <td>-0.310140</td>\n",
              "      <td>-0.312760</td>\n",
              "      <td>-0.245069</td>\n",
              "      <td>-0.447423</td>\n",
              "      <td>...</td>\n",
              "      <td>-0.125734</td>\n",
              "      <td>-0.104565</td>\n",
              "      <td>-0.149326</td>\n",
              "      <td>-0.101016</td>\n",
              "      <td>-0.351926</td>\n",
              "      <td>-0.10946</td>\n",
              "      <td>-0.356868</td>\n",
              "      <td>-0.338993</td>\n",
              "      <td>0</td>\n",
              "      <td>0</td>\n",
              "    </tr>\n",
              "    <tr>\n",
              "      <th>2056871</th>\n",
              "      <td>-0.435684</td>\n",
              "      <td>-0.011153</td>\n",
              "      <td>-0.009418</td>\n",
              "      <td>-0.054965</td>\n",
              "      <td>-0.007142</td>\n",
              "      <td>-0.289465</td>\n",
              "      <td>-0.310140</td>\n",
              "      <td>-0.312760</td>\n",
              "      <td>-0.245069</td>\n",
              "      <td>-0.447423</td>\n",
              "      <td>...</td>\n",
              "      <td>-0.125734</td>\n",
              "      <td>-0.104565</td>\n",
              "      <td>-0.149326</td>\n",
              "      <td>-0.101016</td>\n",
              "      <td>-0.351926</td>\n",
              "      <td>-0.10946</td>\n",
              "      <td>-0.356868</td>\n",
              "      <td>-0.338993</td>\n",
              "      <td>0</td>\n",
              "      <td>0</td>\n",
              "    </tr>\n",
              "    <tr>\n",
              "      <th>2005567</th>\n",
              "      <td>-0.437738</td>\n",
              "      <td>-0.011153</td>\n",
              "      <td>-0.009418</td>\n",
              "      <td>-0.054965</td>\n",
              "      <td>-0.007142</td>\n",
              "      <td>-0.289465</td>\n",
              "      <td>-0.310140</td>\n",
              "      <td>-0.312760</td>\n",
              "      <td>-0.245069</td>\n",
              "      <td>-0.447423</td>\n",
              "      <td>...</td>\n",
              "      <td>-0.125734</td>\n",
              "      <td>-0.104565</td>\n",
              "      <td>-0.149326</td>\n",
              "      <td>-0.101016</td>\n",
              "      <td>-0.351926</td>\n",
              "      <td>-0.10946</td>\n",
              "      <td>-0.356868</td>\n",
              "      <td>-0.338993</td>\n",
              "      <td>0</td>\n",
              "      <td>0</td>\n",
              "    </tr>\n",
              "    <tr>\n",
              "      <th>...</th>\n",
              "      <td>...</td>\n",
              "      <td>...</td>\n",
              "      <td>...</td>\n",
              "      <td>...</td>\n",
              "      <td>...</td>\n",
              "      <td>...</td>\n",
              "      <td>...</td>\n",
              "      <td>...</td>\n",
              "      <td>...</td>\n",
              "      <td>...</td>\n",
              "      <td>...</td>\n",
              "      <td>...</td>\n",
              "      <td>...</td>\n",
              "      <td>...</td>\n",
              "      <td>...</td>\n",
              "      <td>...</td>\n",
              "      <td>...</td>\n",
              "      <td>...</td>\n",
              "      <td>...</td>\n",
              "      <td>...</td>\n",
              "      <td>...</td>\n",
              "    </tr>\n",
              "    <tr>\n",
              "      <th>1031173</th>\n",
              "      <td>-0.438439</td>\n",
              "      <td>-0.011153</td>\n",
              "      <td>-0.009418</td>\n",
              "      <td>-0.050963</td>\n",
              "      <td>-0.007110</td>\n",
              "      <td>-0.233691</td>\n",
              "      <td>0.352777</td>\n",
              "      <td>-0.097812</td>\n",
              "      <td>-0.245069</td>\n",
              "      <td>-0.410431</td>\n",
              "      <td>...</td>\n",
              "      <td>-0.125734</td>\n",
              "      <td>-0.104565</td>\n",
              "      <td>-0.149326</td>\n",
              "      <td>-0.101016</td>\n",
              "      <td>-0.351926</td>\n",
              "      <td>-0.10946</td>\n",
              "      <td>-0.356868</td>\n",
              "      <td>-0.338993</td>\n",
              "      <td>999</td>\n",
              "      <td>0</td>\n",
              "    </tr>\n",
              "    <tr>\n",
              "      <th>1608048</th>\n",
              "      <td>-0.438422</td>\n",
              "      <td>-0.009819</td>\n",
              "      <td>-0.008416</td>\n",
              "      <td>-0.047160</td>\n",
              "      <td>-0.007083</td>\n",
              "      <td>-0.235086</td>\n",
              "      <td>0.336204</td>\n",
              "      <td>-0.103186</td>\n",
              "      <td>-0.245069</td>\n",
              "      <td>-0.413000</td>\n",
              "      <td>...</td>\n",
              "      <td>-0.125734</td>\n",
              "      <td>-0.104565</td>\n",
              "      <td>-0.149326</td>\n",
              "      <td>-0.101016</td>\n",
              "      <td>-0.351926</td>\n",
              "      <td>-0.10946</td>\n",
              "      <td>-0.356868</td>\n",
              "      <td>-0.338993</td>\n",
              "      <td>999</td>\n",
              "      <td>0</td>\n",
              "    </tr>\n",
              "    <tr>\n",
              "      <th>817023</th>\n",
              "      <td>-0.437935</td>\n",
              "      <td>-0.011153</td>\n",
              "      <td>-0.009418</td>\n",
              "      <td>-0.050863</td>\n",
              "      <td>-0.007108</td>\n",
              "      <td>-0.232297</td>\n",
              "      <td>0.369350</td>\n",
              "      <td>-0.092438</td>\n",
              "      <td>-0.245069</td>\n",
              "      <td>-0.408376</td>\n",
              "      <td>...</td>\n",
              "      <td>-0.125734</td>\n",
              "      <td>-0.104565</td>\n",
              "      <td>-0.149326</td>\n",
              "      <td>-0.101016</td>\n",
              "      <td>-0.351926</td>\n",
              "      <td>-0.10946</td>\n",
              "      <td>-0.356868</td>\n",
              "      <td>-0.338993</td>\n",
              "      <td>999</td>\n",
              "      <td>0</td>\n",
              "    </tr>\n",
              "    <tr>\n",
              "      <th>559006</th>\n",
              "      <td>-0.437946</td>\n",
              "      <td>-0.011153</td>\n",
              "      <td>-0.009418</td>\n",
              "      <td>-0.050763</td>\n",
              "      <td>-0.007111</td>\n",
              "      <td>-0.230903</td>\n",
              "      <td>0.385923</td>\n",
              "      <td>-0.087065</td>\n",
              "      <td>-0.245069</td>\n",
              "      <td>-0.411459</td>\n",
              "      <td>...</td>\n",
              "      <td>-0.125734</td>\n",
              "      <td>-0.104565</td>\n",
              "      <td>-0.149326</td>\n",
              "      <td>-0.101016</td>\n",
              "      <td>-0.351926</td>\n",
              "      <td>-0.10946</td>\n",
              "      <td>-0.356868</td>\n",
              "      <td>-0.338993</td>\n",
              "      <td>999</td>\n",
              "      <td>0</td>\n",
              "    </tr>\n",
              "    <tr>\n",
              "      <th>985052</th>\n",
              "      <td>-0.437554</td>\n",
              "      <td>-0.011153</td>\n",
              "      <td>-0.009418</td>\n",
              "      <td>-0.050963</td>\n",
              "      <td>-0.007110</td>\n",
              "      <td>-0.233691</td>\n",
              "      <td>0.352777</td>\n",
              "      <td>-0.097812</td>\n",
              "      <td>-0.245069</td>\n",
              "      <td>-0.410431</td>\n",
              "      <td>...</td>\n",
              "      <td>-0.125734</td>\n",
              "      <td>-0.104565</td>\n",
              "      <td>-0.149326</td>\n",
              "      <td>-0.101016</td>\n",
              "      <td>-0.351926</td>\n",
              "      <td>-0.10946</td>\n",
              "      <td>-0.356868</td>\n",
              "      <td>-0.338993</td>\n",
              "      <td>999</td>\n",
              "      <td>0</td>\n",
              "    </tr>\n",
              "  </tbody>\n",
              "</table>\n",
              "<p>22612 rows × 79 columns</p>\n",
              "</div>"
            ],
            "text/plain": [
              "         Flow Duration  Total Fwd Packets  Total Backward Packets  \\\n",
              "6980         -0.437857          -0.011153               -0.009418   \n",
              "1506627      -0.438252          -0.011153               -0.009418   \n",
              "1377524      -0.438860          -0.011153               -0.009418   \n",
              "2056871      -0.435684          -0.011153               -0.009418   \n",
              "2005567      -0.437738          -0.011153               -0.009418   \n",
              "...                ...                ...                     ...   \n",
              "1031173      -0.438439          -0.011153               -0.009418   \n",
              "1608048      -0.438422          -0.009819               -0.008416   \n",
              "817023       -0.437935          -0.011153               -0.009418   \n",
              "559006       -0.437946          -0.011153               -0.009418   \n",
              "985052       -0.437554          -0.011153               -0.009418   \n",
              "\n",
              "         Total Length of Fwd Packets  Total Length of Bwd Packets  \\\n",
              "6980                       -0.054965                    -0.007142   \n",
              "1506627                    -0.054965                    -0.007142   \n",
              "1377524                    -0.054965                    -0.007142   \n",
              "2056871                    -0.054965                    -0.007142   \n",
              "2005567                    -0.054965                    -0.007142   \n",
              "...                              ...                          ...   \n",
              "1031173                    -0.050963                    -0.007110   \n",
              "1608048                    -0.047160                    -0.007083   \n",
              "817023                     -0.050863                    -0.007108   \n",
              "559006                     -0.050763                    -0.007111   \n",
              "985052                     -0.050963                    -0.007110   \n",
              "\n",
              "         Fwd Packet Length Max  Fwd Packet Length Min  Fwd Packet Length Mean  \\\n",
              "6980                 -0.289465              -0.310140               -0.312760   \n",
              "1506627              -0.289465              -0.310140               -0.312760   \n",
              "1377524              -0.289465              -0.310140               -0.312760   \n",
              "2056871              -0.289465              -0.310140               -0.312760   \n",
              "2005567              -0.289465              -0.310140               -0.312760   \n",
              "...                        ...                    ...                     ...   \n",
              "1031173              -0.233691               0.352777               -0.097812   \n",
              "1608048              -0.235086               0.336204               -0.103186   \n",
              "817023               -0.232297               0.369350               -0.092438   \n",
              "559006               -0.230903               0.385923               -0.087065   \n",
              "985052               -0.233691               0.352777               -0.097812   \n",
              "\n",
              "         Fwd Packet Length Std  Bwd Packet Length Max  ...  Active Mean  \\\n",
              "6980                 -0.245069              -0.447423  ...    -0.125734   \n",
              "1506627              -0.245069              -0.447423  ...    -0.125734   \n",
              "1377524              -0.245069              -0.447423  ...    -0.125734   \n",
              "2056871              -0.245069              -0.447423  ...    -0.125734   \n",
              "2005567              -0.245069              -0.447423  ...    -0.125734   \n",
              "...                        ...                    ...  ...          ...   \n",
              "1031173              -0.245069              -0.410431  ...    -0.125734   \n",
              "1608048              -0.245069              -0.413000  ...    -0.125734   \n",
              "817023               -0.245069              -0.408376  ...    -0.125734   \n",
              "559006               -0.245069              -0.411459  ...    -0.125734   \n",
              "985052               -0.245069              -0.410431  ...    -0.125734   \n",
              "\n",
              "         Active Std  Active Max  Active Min  Idle Mean  Idle Std  Idle Max  \\\n",
              "6980      -0.104565   -0.149326   -0.101016  -0.351926  -0.10946 -0.356868   \n",
              "1506627   -0.104565   -0.149326   -0.101016  -0.351926  -0.10946 -0.356868   \n",
              "1377524   -0.104565   -0.149326   -0.101016  -0.351926  -0.10946 -0.356868   \n",
              "2056871   -0.104565   -0.149326   -0.101016  -0.351926  -0.10946 -0.356868   \n",
              "2005567   -0.104565   -0.149326   -0.101016  -0.351926  -0.10946 -0.356868   \n",
              "...             ...         ...         ...        ...       ...       ...   \n",
              "1031173   -0.104565   -0.149326   -0.101016  -0.351926  -0.10946 -0.356868   \n",
              "1608048   -0.104565   -0.149326   -0.101016  -0.351926  -0.10946 -0.356868   \n",
              "817023    -0.104565   -0.149326   -0.101016  -0.351926  -0.10946 -0.356868   \n",
              "559006    -0.104565   -0.149326   -0.101016  -0.351926  -0.10946 -0.356868   \n",
              "985052    -0.104565   -0.149326   -0.101016  -0.351926  -0.10946 -0.356868   \n",
              "\n",
              "         Idle Min  klabel  Label  \n",
              "6980    -0.338993       0      0  \n",
              "1506627 -0.338993       0      0  \n",
              "1377524 -0.338993       0      0  \n",
              "2056871 -0.338993       0      0  \n",
              "2005567 -0.338993       0      0  \n",
              "...           ...     ...    ...  \n",
              "1031173 -0.338993     999      0  \n",
              "1608048 -0.338993     999      0  \n",
              "817023  -0.338993     999      0  \n",
              "559006  -0.338993     999      0  \n",
              "985052  -0.338993     999      0  \n",
              "\n",
              "[22612 rows x 79 columns]"
            ]
          },
          "execution_count": 18,
          "metadata": {},
          "output_type": "execute_result"
        }
      ],
      "source": [
        "result"
      ]
    },
    {
      "cell_type": "code",
      "execution_count": null,
      "metadata": {
        "id": "1LxmyPKBEF2Y"
      },
      "outputs": [],
      "source": [
        "result = result.drop(['klabel'],axis=1)\n",
        "result = result.append(df_minor)"
      ]
    },
    {
      "cell_type": "code",
      "execution_count": null,
      "metadata": {
        "id": "jeMg05-hEF2Z"
      },
      "outputs": [],
      "source": [
        "result.to_csv('./data/CICIDS2017_sample_km.csv',index=0)"
      ]
    },
    {
      "cell_type": "markdown",
      "metadata": {},
      "source": [
        "### Preprocessing (normalization and padding values)"
      ]
    },
    {
      "cell_type": "code",
      "execution_count": null,
      "metadata": {},
      "outputs": [],
      "source": [
        "# Read the sampled dataset\n",
        "df=pd.read_csv('./data/CICIDS2017_sample_km.csv')"
      ]
    },
    {
      "cell_type": "markdown",
      "metadata": {},
      "source": [
        "### split train set and test set"
      ]
    },
    {
      "cell_type": "code",
      "execution_count": null,
      "metadata": {},
      "outputs": [],
      "source": [
        "X = df.drop(['Label'],axis=1).values\n",
        "y = df.iloc[:, -1].values.reshape(-1,1)\n",
        "y=np.ravel(y)"
      ]
    },
    {
      "cell_type": "code",
      "execution_count": null,
      "metadata": {},
      "outputs": [],
      "source": [
        "X_train, X_test, y_train, y_test = train_test_split(X,y, train_size = 0.8, test_size = 0.2, random_state = 0,stratify = y)"
      ]
    },
    {
      "cell_type": "markdown",
      "metadata": {},
      "source": [
        "### Feature selection by information gain"
      ]
    },
    {
      "cell_type": "code",
      "execution_count": null,
      "metadata": {},
      "outputs": [],
      "source": [
        "from sklearn.feature_selection import mutual_info_classif\n",
        "importances = mutual_info_classif(X_train, y_train)"
      ]
    },
    {
      "cell_type": "code",
      "execution_count": null,
      "metadata": {},
      "outputs": [],
      "source": [
        "# calculate the sum of importance scores\n",
        "f_list = sorted(zip(map(lambda x: round(x, 4), importances), features), reverse=True)\n",
        "Sum = 0\n",
        "fs = []\n",
        "for i in range(0, len(f_list)):\n",
        "    Sum = Sum + f_list[i][0]\n",
        "    fs.append(f_list[i][1])"
      ]
    },
    {
      "cell_type": "code",
      "execution_count": null,
      "metadata": {},
      "outputs": [],
      "source": [
        "# select the important features from top to bottom until the accumulated importance reaches 90%\n",
        "f_list2 = sorted(zip(map(lambda x: round(x, 4), importances/Sum), features), reverse=True)\n",
        "Sum2 = 0\n",
        "fs = []\n",
        "for i in range(0, len(f_list2)):\n",
        "    Sum2 = Sum2 + f_list2[i][0]\n",
        "    fs.append(f_list2[i][1])\n",
        "    if Sum2>=0.9:\n",
        "        break"
      ]
    },
    {
      "cell_type": "code",
      "execution_count": null,
      "metadata": {},
      "outputs": [],
      "source": [
        "X_fs = df[fs].values"
      ]
    },
    {
      "cell_type": "code",
      "execution_count": null,
      "metadata": {},
      "outputs": [
        {
          "data": {
            "text/plain": [
              "(26800, 44)"
            ]
          },
          "metadata": {},
          "output_type": "display_data"
        }
      ],
      "source": [
        "X_fs.shape"
      ]
    },
    {
      "cell_type": "markdown",
      "metadata": {},
      "source": [
        "### Feature selection by Fast Correlation Based Filter (FCBF)\n",
        "\n",
        "The module is imported from the GitHub repo: https://github.com/SantiagoEG/FCBF_module"
      ]
    },
    {
      "cell_type": "code",
      "execution_count": null,
      "metadata": {},
      "outputs": [],
      "source": [
        "from FCBF_module import FCBF, FCBFK, FCBFiP, get_i\n",
        "fcbf = FCBFK(k = 20)\n",
        "#fcbf.fit(X_fs, y)"
      ]
    },
    {
      "cell_type": "code",
      "execution_count": null,
      "metadata": {},
      "outputs": [],
      "source": [
        "X_fss = fcbf.fit_transform(X_fs,y)"
      ]
    },
    {
      "cell_type": "code",
      "execution_count": null,
      "metadata": {},
      "outputs": [
        {
          "data": {
            "text/plain": [
              "(26800, 20)"
            ]
          },
          "metadata": {},
          "output_type": "display_data"
        }
      ],
      "source": [
        "X_fss.shape"
      ]
    },
    {
      "cell_type": "markdown",
      "metadata": {},
      "source": [
        "### Re-split train & test sets after feature selection"
      ]
    },
    {
      "cell_type": "code",
      "execution_count": null,
      "metadata": {},
      "outputs": [],
      "source": [
        "X_train, X_test, y_train, y_test = train_test_split(X_fss,y, train_size = 0.8, test_size = 0.2, random_state = 0,stratify = y)"
      ]
    },
    {
      "cell_type": "code",
      "execution_count": null,
      "metadata": {},
      "outputs": [
        {
          "data": {
            "text/plain": [
              "(21440, 20)"
            ]
          },
          "metadata": {},
          "output_type": "display_data"
        }
      ],
      "source": [
        "X_train.shape"
      ]
    },
    {
      "cell_type": "code",
      "execution_count": null,
      "metadata": {},
      "outputs": [
        {
          "data": {
            "text/plain": [
              "0    14580\n",
              "3     2433\n",
              "6     1744\n",
              "1     1573\n",
              "5     1004\n",
              "2       77\n",
              "4       29\n",
              "Name: count, dtype: int64"
            ]
          },
          "metadata": {},
          "output_type": "display_data"
        }
      ],
      "source": [
        "from sklearn.preprocessing import LabelEncoder\n",
        "\n",
        "# Encode labels to integers 0,1,2,...\n",
        "le = LabelEncoder()\n",
        "y_train = le.fit_transform(y_train)\n",
        "y_test = le.transform(y_test)\n",
        "\n",
        "# Check the distribution again\n",
        "pd.Series(y_train).value_counts()"
      ]
    },
    {
      "cell_type": "code",
      "execution_count": null,
      "metadata": {},
      "outputs": [
        {
          "data": {
            "text/plain": [
              "0    14580\n",
              "3     2433\n",
              "6     1744\n",
              "1     1573\n",
              "5     1004\n",
              "2       77\n",
              "4       29\n",
              "Name: count, dtype: int64"
            ]
          },
          "metadata": {},
          "output_type": "display_data"
        }
      ],
      "source": [
        "pd.Series(y_train).value_counts()"
      ]
    },
    {
      "cell_type": "markdown",
      "metadata": {},
      "source": [
        "### SMOTE to solve class-imbalance"
      ]
    },
    {
      "cell_type": "code",
      "execution_count": null,
      "metadata": {},
      "outputs": [],
      "source": [
        "from imblearn.over_sampling import SMOTE\n",
        "smote=SMOTE(n_jobs=-1,sampling_strategy={2:1000,4:1000})"
      ]
    },
    {
      "cell_type": "code",
      "execution_count": null,
      "metadata": {},
      "outputs": [],
      "source": [
        "X_train, y_train = smote.fit_resample(X_train, y_train)"
      ]
    },
    {
      "cell_type": "code",
      "execution_count": null,
      "metadata": {},
      "outputs": [
        {
          "data": {
            "text/plain": [
              "0    14580\n",
              "3     2433\n",
              "6     1744\n",
              "1     1573\n",
              "5     1004\n",
              "4     1000\n",
              "2     1000\n",
              "Name: count, dtype: int64"
            ]
          },
          "metadata": {},
          "output_type": "display_data"
        }
      ],
      "source": [
        "pd.Series(y_train).value_counts()"
      ]
    },
    {
      "cell_type": "markdown",
      "metadata": {},
      "source": [
        "## Machine learning model training"
      ]
    },
    {
      "cell_type": "markdown",
      "metadata": {},
      "source": [
        "### Training four base learners: decision tree, random forest, extra trees, XGBoost"
      ]
    },
    {
      "cell_type": "markdown",
      "metadata": {},
      "source": [
        "#### Apply XGBoost"
      ]
    },
    {
      "cell_type": "code",
      "execution_count": null,
      "metadata": {},
      "outputs": [
        {
          "name": "stdout",
          "output_type": "stream",
          "text": [
            "Accuracy of XGBoost: 0.9901119402985075\n",
            "Precision of XGBoost: 0.9902126542611857\n",
            "Recall of XGBoost: 0.9901119402985075\n",
            "F1-score of XGBoost: 0.9901358744111337\n",
            "              precision    recall  f1-score   support\n",
            "\n",
            "           0       1.00      0.99      0.99      3645\n",
            "           1       0.98      0.98      0.98       393\n",
            "           2       1.00      1.00      1.00        19\n",
            "           3       0.99      0.99      0.99       609\n",
            "           4       0.71      0.71      0.71         7\n",
            "           5       0.98      1.00      0.99       251\n",
            "           6       0.96      0.99      0.98       436\n",
            "\n",
            "    accuracy                           0.99      5360\n",
            "   macro avg       0.95      0.95      0.95      5360\n",
            "weighted avg       0.99      0.99      0.99      5360\n",
            "\n"
          ]
        },
        {
          "data": {
            "image/png": "[encoded data removed]",
            "text/plain": [
              "<Figure size 500x500 with 2 Axes>"
            ]
          },
          "metadata": {},
          "output_type": "display_data"
        }
      ],
      "source": [
        "xg = xgb.XGBClassifier(n_estimators = 10)\n",
        "xg.fit(X_train,y_train)\n",
        "xg_score=xg.score(X_test,y_test)\n",
        "y_predict=xg.predict(X_test)\n",
        "y_true=y_test\n",
        "print('Accuracy of XGBoost: '+ str(xg_score))\n",
        "precision,recall,fscore,none= precision_recall_fscore_support(y_true, y_predict, average='weighted')\n",
        "print('Precision of XGBoost: '+(str(precision)))\n",
        "print('Recall of XGBoost: '+(str(recall)))\n",
        "print('F1-score of XGBoost: '+(str(fscore)))\n",
        "print(classification_report(y_true,y_predict))\n",
        "cm=confusion_matrix(y_true,y_predict)\n",
        "f,ax=plt.subplots(figsize=(5,5))\n",
        "sns.heatmap(cm,annot=True,linewidth=0.5,linecolor=\"red\",fmt=\".0f\",ax=ax)\n",
        "plt.xlabel(\"y_pred\")\n",
        "plt.ylabel(\"y_true\")\n",
        "plt.show()"
      ]
    },
    {
      "cell_type": "markdown",
      "metadata": {},
      "source": [
        "#### Hyperparameter optimization (HPO) of XGBoost using Bayesian optimization with tree-based Parzen estimator (BO-TPE)\n",
        "Based on the GitHub repo for HPO: https://github.com/LiYangHart/Hyperparameter-Optimization-of-Machine-Learning-Algorithms"
      ]
    },
    {
      "cell_type": "code",
      "execution_count": null,
      "metadata": {},
      "outputs": [
        {
          "name": "stdout",
          "output_type": "stream",
          "text": [
            "100%|██████████| 20/20 [00:33<00:00,  1.68s/trial, best loss: -0.996455223880597]\n",
            "XGBoost: Hyperopt estimated optimum {'learning_rate': -1.3750371241260422, 'max_depth': 13.0, 'n_estimators': 25.0}\n"
          ]
        }
      ],
      "source": [
        "from hyperopt import hp, fmin, tpe, STATUS_OK, Trials\n",
        "from sklearn.model_selection import cross_val_score, StratifiedKFold\n",
        "def objective(params):\n",
        "    params = {\n",
        "        'n_estimators': int(params['n_estimators']),\n",
        "        'max_depth': int(params['max_depth']),\n",
        "        'learning_rate':  abs(float(params['learning_rate'])),\n",
        "\n",
        "    }\n",
        "    clf = xgb.XGBClassifier( **params)\n",
        "    clf.fit(X_train, y_train)\n",
        "    y_pred = clf.predict(X_test)\n",
        "    score = accuracy_score(y_test, y_pred)\n",
        "\n",
        "    return {'loss':-score, 'status': STATUS_OK }\n",
        "\n",
        "space = {\n",
        "    'n_estimators': hp.quniform('n_estimators', 10, 100, 5),\n",
        "    'max_depth': hp.quniform('max_depth', 4, 100, 1),\n",
        "    'learning_rate': hp.normal('learning_rate', 0.01, 0.9),\n",
        "}\n",
        "\n",
        "best = fmin(fn=objective,\n",
        "            space=space,\n",
        "            algo=tpe.suggest,\n",
        "            max_evals=20)\n",
        "print(\"XGBoost: Hyperopt estimated optimum {}\".format(best))"
      ]
    },
    {
      "cell_type": "code",
      "execution_count": null,
      "metadata": {},
      "outputs": [
        {
          "name": "stdout",
          "output_type": "stream",
          "text": [
            "Accuracy of XGBoost: 0.9960820895522388\n",
            "Precision of XGBoost: 0.996062624085396\n",
            "Recall of XGBoost: 0.9960820895522388\n",
            "F1-score of XGBoost: 0.9960629666099937\n",
            "              precision    recall  f1-score   support\n",
            "\n",
            "           0       1.00      1.00      1.00      3645\n",
            "           1       0.99      1.00      0.99       393\n",
            "           2       1.00      1.00      1.00        19\n",
            "           3       1.00      1.00      1.00       609\n",
            "           4       0.83      0.71      0.77         7\n",
            "           5       0.99      1.00      0.99       251\n",
            "           6       0.99      1.00      0.99       436\n",
            "\n",
            "    accuracy                           1.00      5360\n",
            "   macro avg       0.97      0.96      0.96      5360\n",
            "weighted avg       1.00      1.00      1.00      5360\n",
            "\n"
          ]
        },
        {
          "data": {
            "image/png": "[encoded data removed]",
            "text/plain": [
              "<Figure size 500x500 with 2 Axes>"
            ]
          },
          "metadata": {},
          "output_type": "display_data"
        }
      ],
      "source": [
        "xg = xgb.XGBClassifier(learning_rate= 0.7340229699980686, n_estimators = 70, max_depth = 14)\n",
        "xg.fit(X_train,y_train)\n",
        "xg_score=xg.score(X_test,y_test)\n",
        "y_predict=xg.predict(X_test)\n",
        "y_true=y_test\n",
        "print('Accuracy of XGBoost: '+ str(xg_score))\n",
        "precision,recall,fscore,none= precision_recall_fscore_support(y_true, y_predict, average='weighted')\n",
        "print('Precision of XGBoost: '+(str(precision)))\n",
        "print('Recall of XGBoost: '+(str(recall)))\n",
        "print('F1-score of XGBoost: '+(str(fscore)))\n",
        "print(classification_report(y_true,y_predict))\n",
        "cm=confusion_matrix(y_true,y_predict)\n",
        "f,ax=plt.subplots(figsize=(5,5))\n",
        "sns.heatmap(cm,annot=True,linewidth=0.5,linecolor=\"red\",fmt=\".0f\",ax=ax)\n",
        "plt.xlabel(\"y_pred\")\n",
        "plt.ylabel(\"y_true\")\n",
        "plt.show()"
      ]
    },
    {
      "cell_type": "code",
      "execution_count": null,
      "metadata": {},
      "outputs": [],
      "source": [
        "xg_train=xg.predict(X_train)\n",
        "xg_test=xg.predict(X_test)"
      ]
    },
    {
      "cell_type": "markdown",
      "metadata": {},
      "source": [
        "#### Apply RF"
      ]
    },
    {
      "cell_type": "code",
      "execution_count": null,
      "metadata": {},
      "outputs": [
        {
          "name": "stdout",
          "output_type": "stream",
          "text": [
            "Accuracy of RF: 0.994776119402985\n",
            "Precision of RF: 0.9947926584216554\n",
            "Recall of RF: 0.994776119402985\n",
            "F1-score of RF: 0.9947494416778406\n",
            "              precision    recall  f1-score   support\n",
            "\n",
            "           0       1.00      1.00      1.00      3645\n",
            "           1       0.99      1.00      1.00       393\n",
            "           2       1.00      1.00      1.00        19\n",
            "           3       0.99      1.00      0.99       609\n",
            "           4       1.00      0.71      0.83         7\n",
            "           5       0.99      1.00      0.99       251\n",
            "           6       0.98      0.99      0.99       436\n",
            "\n",
            "    accuracy                           0.99      5360\n",
            "   macro avg       0.99      0.96      0.97      5360\n",
            "weighted avg       0.99      0.99      0.99      5360\n",
            "\n"
          ]
        },
        {
          "data": {
            "image/png": "[encoded data removed]",
            "text/plain": [
              "<Figure size 500x500 with 2 Axes>"
            ]
          },
          "metadata": {},
          "output_type": "display_data"
        }
      ],
      "source": [
        "rf = RandomForestClassifier(random_state = 0)\n",
        "rf.fit(X_train,y_train)\n",
        "rf_score=rf.score(X_test,y_test)\n",
        "y_predict=rf.predict(X_test)\n",
        "y_true=y_test\n",
        "print('Accuracy of RF: '+ str(rf_score))\n",
        "precision,recall,fscore,none= precision_recall_fscore_support(y_true, y_predict, average='weighted')\n",
        "print('Precision of RF: '+(str(precision)))\n",
        "print('Recall of RF: '+(str(recall)))\n",
        "print('F1-score of RF: '+(str(fscore)))\n",
        "print(classification_report(y_true,y_predict))\n",
        "cm=confusion_matrix(y_true,y_predict)\n",
        "f,ax=plt.subplots(figsize=(5,5))\n",
        "sns.heatmap(cm,annot=True,linewidth=0.5,linecolor=\"red\",fmt=\".0f\",ax=ax)\n",
        "plt.xlabel(\"y_pred\")\n",
        "plt.ylabel(\"y_true\")\n",
        "plt.show()"
      ]
    },
    {
      "cell_type": "markdown",
      "metadata": {},
      "source": [
        "#### Hyperparameter optimization (HPO) of random forest using Bayesian optimization with tree-based Parzen estimator (BO-TPE)\n",
        "Based on the GitHub repo for HPO: https://github.com/LiYangHart/Hyperparameter-Optimization-of-Machine-Learning-Algorithms"
      ]
    },
    {
      "cell_type": "code",
      "execution_count": null,
      "metadata": {},
      "outputs": [
        {
          "name": "stdout",
          "output_type": "stream",
          "text": [
            "100%|██████████| 20/20 [02:25<00:00,  7.28s/trial, best loss: -0.9957089552238806]\n",
            "Random Forest: Hyperopt estimated optimum {'criterion': 1, 'max_depth': 22.0, 'max_features': 13.0, 'min_samples_leaf': 1.0, 'min_samples_split': 4.0, 'n_estimators': 101.0}\n"
          ]
        }
      ],
      "source": [
        "# Hyperparameter optimization of random forest\n",
        "from hyperopt import hp, fmin, tpe, STATUS_OK, Trials\n",
        "from sklearn.model_selection import cross_val_score, StratifiedKFold\n",
        "# Define the objective function\n",
        "def objective(params):\n",
        "    params = {\n",
        "        'n_estimators': int(params['n_estimators']),\n",
        "        'max_depth': int(params['max_depth']),\n",
        "        'max_features': int(params['max_features']),\n",
        "        \"min_samples_split\":int(params['min_samples_split']),\n",
        "        \"min_samples_leaf\":int(params['min_samples_leaf']),\n",
        "        \"criterion\":str(params['criterion'])\n",
        "    }\n",
        "    clf = RandomForestClassifier( **params)\n",
        "    clf.fit(X_train,y_train)\n",
        "    score=clf.score(X_test,y_test)\n",
        "\n",
        "    return {'loss':-score, 'status': STATUS_OK }\n",
        "# Define the hyperparameter configuration space\n",
        "space = {\n",
        "    'n_estimators': hp.quniform('n_estimators', 10, 200, 1),\n",
        "    'max_depth': hp.quniform('max_depth', 5, 50, 1),\n",
        "    \"max_features\":hp.quniform('max_features', 1, 20, 1),\n",
        "    \"min_samples_split\":hp.quniform('min_samples_split',2,11,1),\n",
        "    \"min_samples_leaf\":hp.quniform('min_samples_leaf',1,11,1),\n",
        "    \"criterion\":hp.choice('criterion',['gini','entropy'])\n",
        "}\n",
        "\n",
        "best = fmin(fn=objective,\n",
        "            space=space,\n",
        "            algo=tpe.suggest,\n",
        "            max_evals=20)\n",
        "print(\"Random Forest: Hyperopt estimated optimum {}\".format(best))"
      ]
    },
    {
      "cell_type": "code",
      "execution_count": null,
      "metadata": {},
      "outputs": [
        {
          "name": "stdout",
          "output_type": "stream",
          "text": [
            "Accuracy of RF: 0.994589552238806\n",
            "Precision of RF: 0.9945873993710375\n",
            "Recall of RF: 0.994589552238806\n",
            "F1-score of RF: 0.9945745104629746\n",
            "              precision    recall  f1-score   support\n",
            "\n",
            "           0       1.00      0.99      1.00      3645\n",
            "           1       0.99      1.00      0.99       393\n",
            "           2       1.00      1.00      1.00        19\n",
            "           3       1.00      1.00      1.00       609\n",
            "           4       0.83      0.71      0.77         7\n",
            "           5       0.98      1.00      0.99       251\n",
            "           6       0.98      0.99      0.99       436\n",
            "\n",
            "    accuracy                           0.99      5360\n",
            "   macro avg       0.97      0.96      0.96      5360\n",
            "weighted avg       0.99      0.99      0.99      5360\n",
            "\n"
          ]
        },
        {
          "data": {
            "image/png": "[encoded data removed]",
            "text/plain": [
              "<Figure size 500x500 with 2 Axes>"
            ]
          },
          "metadata": {},
          "output_type": "display_data"
        }
      ],
      "source": [
        "rf_hpo = RandomForestClassifier(n_estimators = 71, min_samples_leaf = 1, max_depth = 46, min_samples_split = 9, max_features = 20, criterion = 'entropy')\n",
        "rf_hpo.fit(X_train,y_train)\n",
        "rf_score=rf_hpo.score(X_test,y_test)\n",
        "y_predict=rf_hpo.predict(X_test)\n",
        "y_true=y_test\n",
        "print('Accuracy of RF: '+ str(rf_score))\n",
        "precision,recall,fscore,none= precision_recall_fscore_support(y_true, y_predict, average='weighted')\n",
        "print('Precision of RF: '+(str(precision)))\n",
        "print('Recall of RF: '+(str(recall)))\n",
        "print('F1-score of RF: '+(str(fscore)))\n",
        "print(classification_report(y_true,y_predict))\n",
        "cm=confusion_matrix(y_true,y_predict)\n",
        "f,ax=plt.subplots(figsize=(5,5))\n",
        "sns.heatmap(cm,annot=True,linewidth=0.5,linecolor=\"red\",fmt=\".0f\",ax=ax)\n",
        "plt.xlabel(\"y_pred\")\n",
        "plt.ylabel(\"y_true\")\n",
        "plt.show()"
      ]
    },
    {
      "cell_type": "code",
      "execution_count": null,
      "metadata": {},
      "outputs": [],
      "source": [
        "rf_train=rf_hpo.predict(X_train)\n",
        "rf_test=rf_hpo.predict(X_test)"
      ]
    },
    {
      "cell_type": "markdown",
      "metadata": {},
      "source": [
        "#### Apply DT"
      ]
    },
    {
      "cell_type": "code",
      "execution_count": null,
      "metadata": {},
      "outputs": [
        {
          "name": "stdout",
          "output_type": "stream",
          "text": [
            "Accuracy of DT: 0.9930970149253732\n",
            "Precision of DT: 0.9934042941370064\n",
            "Recall of DT: 0.9930970149253732\n",
            "F1-score of DT: 0.993216407831483\n",
            "              precision    recall  f1-score   support\n",
            "\n",
            "           0       1.00      0.99      0.99      3645\n",
            "           1       0.99      1.00      0.99       393\n",
            "           2       1.00      1.00      1.00        19\n",
            "           3       0.99      1.00      0.99       609\n",
            "           4       0.50      0.71      0.59         7\n",
            "           5       0.98      1.00      0.99       251\n",
            "           6       0.98      0.99      0.98       436\n",
            "\n",
            "    accuracy                           0.99      5360\n",
            "   macro avg       0.92      0.96      0.94      5360\n",
            "weighted avg       0.99      0.99      0.99      5360\n",
            "\n"
          ]
        },
        {
          "data": {
            "image/png": "[encoded data removed]",
            "text/plain": [
              "<Figure size 500x500 with 2 Axes>"
            ]
          },
          "metadata": {},
          "output_type": "display_data"
        }
      ],
      "source": [
        "dt = DecisionTreeClassifier(random_state = 0)\n",
        "dt.fit(X_train,y_train)\n",
        "dt_score=dt.score(X_test,y_test)\n",
        "y_predict=dt.predict(X_test)\n",
        "y_true=y_test\n",
        "print('Accuracy of DT: '+ str(dt_score))\n",
        "precision,recall,fscore,none= precision_recall_fscore_support(y_true, y_predict, average='weighted')\n",
        "print('Precision of DT: '+(str(precision)))\n",
        "print('Recall of DT: '+(str(recall)))\n",
        "print('F1-score of DT: '+(str(fscore)))\n",
        "print(classification_report(y_true,y_predict))\n",
        "cm=confusion_matrix(y_true,y_predict)\n",
        "f,ax=plt.subplots(figsize=(5,5))\n",
        "sns.heatmap(cm,annot=True,linewidth=0.5,linecolor=\"red\",fmt=\".0f\",ax=ax)\n",
        "plt.xlabel(\"y_pred\")\n",
        "plt.ylabel(\"y_true\")\n",
        "plt.show()"
      ]
    },
    {
      "cell_type": "markdown",
      "metadata": {},
      "source": [
        "#### Hyperparameter optimization (HPO) of decision tree using Bayesian optimization with tree-based Parzen estimator (BO-TPE)\n",
        "Based on the GitHub repo for HPO: https://github.com/LiYangHart/Hyperparameter-Optimization-of-Machine-Learning-Algorithms"
      ]
    },
    {
      "cell_type": "code",
      "execution_count": null,
      "metadata": {},
      "outputs": [
        {
          "name": "stdout",
          "output_type": "stream",
          "text": [
            "100%|██████████| 50/50 [00:06<00:00,  8.22trial/s, best loss: -0.9929104477611941]\n",
            "Decision tree: Hyperopt estimated optimum {'criterion': 0, 'max_depth': 19.0, 'max_features': 20.0, 'min_samples_leaf': 2.0, 'min_samples_split': 7.0}\n"
          ]
        }
      ],
      "source": [
        "# Hyperparameter optimization of decision tree\n",
        "from hyperopt import hp, fmin, tpe, STATUS_OK, Trials\n",
        "from sklearn.model_selection import cross_val_score, StratifiedKFold\n",
        "# Define the objective function\n",
        "def objective(params):\n",
        "    params = {\n",
        "        'max_depth': int(params['max_depth']),\n",
        "        'max_features': int(params['max_features']),\n",
        "        \"min_samples_split\":int(params['min_samples_split']),\n",
        "        \"min_samples_leaf\":int(params['min_samples_leaf']),\n",
        "        \"criterion\":str(params['criterion'])\n",
        "    }\n",
        "    clf = DecisionTreeClassifier( **params)\n",
        "    clf.fit(X_train,y_train)\n",
        "    score=clf.score(X_test,y_test)\n",
        "\n",
        "    return {'loss':-score, 'status': STATUS_OK }\n",
        "# Define the hyperparameter configuration space\n",
        "space = {\n",
        "    'max_depth': hp.quniform('max_depth', 5, 50, 1),\n",
        "    \"max_features\":hp.quniform('max_features', 1, 20, 1),\n",
        "    \"min_samples_split\":hp.quniform('min_samples_split',2,11,1),\n",
        "    \"min_samples_leaf\":hp.quniform('min_samples_leaf',1,11,1),\n",
        "    \"criterion\":hp.choice('criterion',['gini','entropy'])\n",
        "}\n",
        "\n",
        "best = fmin(fn=objective,\n",
        "            space=space,\n",
        "            algo=tpe.suggest,\n",
        "            max_evals=50)\n",
        "print(\"Decision tree: Hyperopt estimated optimum {}\".format(best))"
      ]
    },
    {
      "cell_type": "code",
      "execution_count": null,
      "metadata": {},
      "outputs": [
        {
          "name": "stdout",
          "output_type": "stream",
          "text": [
            "Accuracy of DT: 0.9919776119402985\n",
            "Precision of DT: 0.9923943474027508\n",
            "Recall of DT: 0.9919776119402985\n",
            "F1-score of DT: 0.992139244027022\n",
            "              precision    recall  f1-score   support\n",
            "\n",
            "           0       1.00      0.99      0.99      3645\n",
            "           1       0.99      1.00      0.99       393\n",
            "           2       0.95      1.00      0.97        19\n",
            "           3       0.99      1.00      1.00       609\n",
            "           4       0.45      0.71      0.56         7\n",
            "           5       0.98      1.00      0.99       251\n",
            "           6       0.98      0.97      0.98       436\n",
            "\n",
            "    accuracy                           0.99      5360\n",
            "   macro avg       0.91      0.95      0.93      5360\n",
            "weighted avg       0.99      0.99      0.99      5360\n",
            "\n"
          ]
        },
        {
          "data": {
            "image/png": "[encoded data removed]",
            "text/plain": [
              "<Figure size 500x500 with 2 Axes>"
            ]
          },
          "metadata": {},
          "output_type": "display_data"
        }
      ],
      "source": [
        "dt_hpo = DecisionTreeClassifier(min_samples_leaf = 2, max_depth = 47, min_samples_split = 3, max_features = 19, criterion = 'gini')\n",
        "dt_hpo.fit(X_train,y_train)\n",
        "dt_score=dt_hpo.score(X_test,y_test)\n",
        "y_predict=dt_hpo.predict(X_test)\n",
        "y_true=y_test\n",
        "print('Accuracy of DT: '+ str(dt_score))\n",
        "precision,recall,fscore,none= precision_recall_fscore_support(y_true, y_predict, average='weighted')\n",
        "print('Precision of DT: '+(str(precision)))\n",
        "print('Recall of DT: '+(str(recall)))\n",
        "print('F1-score of DT: '+(str(fscore)))\n",
        "print(classification_report(y_true,y_predict))\n",
        "cm=confusion_matrix(y_true,y_predict)\n",
        "f,ax=plt.subplots(figsize=(5,5))\n",
        "sns.heatmap(cm,annot=True,linewidth=0.5,linecolor=\"red\",fmt=\".0f\",ax=ax)\n",
        "plt.xlabel(\"y_pred\")\n",
        "plt.ylabel(\"y_true\")\n",
        "plt.show()"
      ]
    },
    {
      "cell_type": "code",
      "execution_count": null,
      "metadata": {},
      "outputs": [],
      "source": [
        "dt_train=dt_hpo.predict(X_train)\n",
        "dt_test=dt_hpo.predict(X_test)"
      ]
    }
  ],
  "metadata": {
    "anaconda-cloud": {},
    "colab": {
      "provenance": []
    },
    "kernelspec": {
      "display_name": "Python 3",
      "language": "python",
      "name": "python3"
    },
    "language_info": {
      "codemirror_mode": {
        "name": "ipython",
        "version": 3
      },
      "file_extension": ".py",
      "mimetype": "text/x-python",
      "name": "python",
      "nbconvert_exporter": "python",
      "pygments_lexer": "ipython3",
      "version": "3.11.9"
    }
  },
  "nbformat": 4,
  "nbformat_minor": 0
}
