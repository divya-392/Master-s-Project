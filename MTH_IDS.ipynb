{
  "cells": [
    {
      "cell_type": "markdown",
      "metadata": {
        "id": "NAniQ2c7EF2I"
      },
      "source": [
        "## Methodology for IDS"
      ]
    },
    {
      "cell_type": "markdown",
      "metadata": {
        "id": "AW158hB7EF2L"
      },
      "source": [
        "## Import libraries"
      ]
    },
    {
      "cell_type": "code",
      "execution_count": null,
      "metadata": {
        "id": "DiYupXF2EF2M"
      },
      "outputs": [],
      "source": [
        "import warnings\n",
        "warnings.filterwarnings(\"ignore\")"
      ]
    },
    {
      "cell_type": "code",
      "execution_count": null,
      "metadata": {
        "id": "gPV94dOyEF2N"
      },
      "outputs": [],
      "source": [
        "import numpy as np\n",
        "import pandas as pd\n",
        "import seaborn as sns\n",
        "import matplotlib.pyplot as plt\n",
        "from sklearn.preprocessing import LabelEncoder\n",
        "from sklearn.model_selection import train_test_split\n",
        "from sklearn.metrics import classification_report,confusion_matrix,accuracy_score,precision_recall_fscore_support\n",
        "from sklearn.metrics import f1_score,roc_auc_score\n",
        "from sklearn.ensemble import RandomForestClassifier,ExtraTreesClassifier\n",
        "from sklearn.tree import DecisionTreeClassifier\n",
        "import xgboost as xgb\n",
        "from xgboost import plot_importance"
      ]
    },
    {
      "cell_type": "markdown",
      "metadata": {
        "id": "iTP5eilxEF2O"
      },
      "source": [
        "## Read the sampled CICIDS2017 dataset\n",
        "The CICIDS2017 dataset is publicly available at: https://www.unb.ca/cic/datasets/ids-2017.html.\n",
        "\n",
        "Due to the large size of this dataset, sampled subsets of CICIDS2017 are used in this project. These subsets are located in the \"data\" folder.\n",
        "If you wish to apply this code to other datasets (e.g., the CAN-intrusion dataset), simply update the dataset path and follow the same steps. The models implemented in this code are generic and can be applied to any intrusion detection or network traffic dataset."
      ]
    },
    {
      "cell_type": "code",
      "execution_count": null,
      "metadata": {
        "id": "9juLhTc4EF2P"
      },
      "outputs": [],
      "source": [
        "#Read dataset\n",
        "df = pd.read_csv('./data/CICIDS2017.csv')\n"
      ]
    },
    {
      "cell_type": "code",
      "execution_count": null,
      "metadata": {
        "id": "IsnWjwwhEF2Q",
        "outputId": "319bfb7b-c379-4670-c3a4-5646ac158c68"
      },
      "outputs": [
        {
          "data": {
            "text/html": [
              "<div>\n",
              "<style scoped>\n",
              "    .dataframe tbody tr th:only-of-type {\n",
              "        vertical-align: middle;\n",
              "    }\n",
              "\n",
              "    .dataframe tbody tr th {\n",
              "        vertical-align: top;\n",
              "    }\n",
              "\n",
              "    .dataframe thead th {\n",
              "        text-align: right;\n",
              "    }\n",
              "</style>\n",
              "<table border=\"1\" class=\"dataframe\">\n",
              "  <thead>\n",
              "    <tr style=\"text-align: right;\">\n",
              "      <th></th>\n",
              "      <th>Flow Duration</th>\n",
              "      <th>Total Fwd Packets</th>\n",
              "      <th>Total Backward Packets</th>\n",
              "      <th>Total Length of Fwd Packets</th>\n",
              "      <th>Total Length of Bwd Packets</th>\n",
              "      <th>Fwd Packet Length Max</th>\n",
              "      <th>Fwd Packet Length Min</th>\n",
              "      <th>Fwd Packet Length Mean</th>\n",
              "      <th>Fwd Packet Length Std</th>\n",
              "      <th>Bwd Packet Length Max</th>\n",
              "      <th>...</th>\n",
              "      <th>min_seg_size_forward</th>\n",
              "      <th>Active Mean</th>\n",
              "      <th>Active Std</th>\n",
              "      <th>Active Max</th>\n",
              "      <th>Active Min</th>\n",
              "      <th>Idle Mean</th>\n",
              "      <th>Idle Std</th>\n",
              "      <th>Idle Max</th>\n",
              "      <th>Idle Min</th>\n",
              "      <th>Label</th>\n",
              "    </tr>\n",
              "  </thead>\n",
              "  <tbody>\n",
              "    <tr>\n",
              "      <th>0</th>\n",
              "      <td>3</td>\n",
              "      <td>2</td>\n",
              "      <td>0</td>\n",
              "      <td>12</td>\n",
              "      <td>0</td>\n",
              "      <td>6</td>\n",
              "      <td>6</td>\n",
              "      <td>6.0</td>\n",
              "      <td>0.00000</td>\n",
              "      <td>0</td>\n",
              "      <td>...</td>\n",
              "      <td>20</td>\n",
              "      <td>0.0</td>\n",
              "      <td>0.0</td>\n",
              "      <td>0</td>\n",
              "      <td>0</td>\n",
              "      <td>0.0</td>\n",
              "      <td>0.0</td>\n",
              "      <td>0</td>\n",
              "      <td>0</td>\n",
              "      <td>BENIGN</td>\n",
              "    </tr>\n",
              "    <tr>\n",
              "      <th>1</th>\n",
              "      <td>109</td>\n",
              "      <td>1</td>\n",
              "      <td>1</td>\n",
              "      <td>6</td>\n",
              "      <td>6</td>\n",
              "      <td>6</td>\n",
              "      <td>6</td>\n",
              "      <td>6.0</td>\n",
              "      <td>0.00000</td>\n",
              "      <td>6</td>\n",
              "      <td>...</td>\n",
              "      <td>20</td>\n",
              "      <td>0.0</td>\n",
              "      <td>0.0</td>\n",
              "      <td>0</td>\n",
              "      <td>0</td>\n",
              "      <td>0.0</td>\n",
              "      <td>0.0</td>\n",
              "      <td>0</td>\n",
              "      <td>0</td>\n",
              "      <td>BENIGN</td>\n",
              "    </tr>\n",
              "    <tr>\n",
              "      <th>2</th>\n",
              "      <td>52</td>\n",
              "      <td>1</td>\n",
              "      <td>1</td>\n",
              "      <td>6</td>\n",
              "      <td>6</td>\n",
              "      <td>6</td>\n",
              "      <td>6</td>\n",
              "      <td>6.0</td>\n",
              "      <td>0.00000</td>\n",
              "      <td>6</td>\n",
              "      <td>...</td>\n",
              "      <td>20</td>\n",
              "      <td>0.0</td>\n",
              "      <td>0.0</td>\n",
              "      <td>0</td>\n",
              "      <td>0</td>\n",
              "      <td>0.0</td>\n",
              "      <td>0.0</td>\n",
              "      <td>0</td>\n",
              "      <td>0</td>\n",
              "      <td>BENIGN</td>\n",
              "    </tr>\n",
              "    <tr>\n",
              "      <th>3</th>\n",
              "      <td>34</td>\n",
              "      <td>1</td>\n",
              "      <td>1</td>\n",
              "      <td>6</td>\n",
              "      <td>6</td>\n",
              "      <td>6</td>\n",
              "      <td>6</td>\n",
              "      <td>6.0</td>\n",
              "      <td>0.00000</td>\n",
              "      <td>6</td>\n",
              "      <td>...</td>\n",
              "      <td>20</td>\n",
              "      <td>0.0</td>\n",
              "      <td>0.0</td>\n",
              "      <td>0</td>\n",
              "      <td>0</td>\n",
              "      <td>0.0</td>\n",
              "      <td>0.0</td>\n",
              "      <td>0</td>\n",
              "      <td>0</td>\n",
              "      <td>BENIGN</td>\n",
              "    </tr>\n",
              "    <tr>\n",
              "      <th>4</th>\n",
              "      <td>3</td>\n",
              "      <td>2</td>\n",
              "      <td>0</td>\n",
              "      <td>12</td>\n",
              "      <td>0</td>\n",
              "      <td>6</td>\n",
              "      <td>6</td>\n",
              "      <td>6.0</td>\n",
              "      <td>0.00000</td>\n",
              "      <td>0</td>\n",
              "      <td>...</td>\n",
              "      <td>20</td>\n",
              "      <td>0.0</td>\n",
              "      <td>0.0</td>\n",
              "      <td>0</td>\n",
              "      <td>0</td>\n",
              "      <td>0.0</td>\n",
              "      <td>0.0</td>\n",
              "      <td>0</td>\n",
              "      <td>0</td>\n",
              "      <td>BENIGN</td>\n",
              "    </tr>\n",
              "    <tr>\n",
              "      <th>...</th>\n",
              "      <td>...</td>\n",
              "      <td>...</td>\n",
              "      <td>...</td>\n",
              "      <td>...</td>\n",
              "      <td>...</td>\n",
              "      <td>...</td>\n",
              "      <td>...</td>\n",
              "      <td>...</td>\n",
              "      <td>...</td>\n",
              "      <td>...</td>\n",
              "      <td>...</td>\n",
              "      <td>...</td>\n",
              "      <td>...</td>\n",
              "      <td>...</td>\n",
              "      <td>...</td>\n",
              "      <td>...</td>\n",
              "      <td>...</td>\n",
              "      <td>...</td>\n",
              "      <td>...</td>\n",
              "      <td>...</td>\n",
              "      <td>...</td>\n",
              "    </tr>\n",
              "    <tr>\n",
              "      <th>2830738</th>\n",
              "      <td>32215</td>\n",
              "      <td>4</td>\n",
              "      <td>2</td>\n",
              "      <td>112</td>\n",
              "      <td>152</td>\n",
              "      <td>28</td>\n",
              "      <td>28</td>\n",
              "      <td>28.0</td>\n",
              "      <td>0.00000</td>\n",
              "      <td>76</td>\n",
              "      <td>...</td>\n",
              "      <td>20</td>\n",
              "      <td>0.0</td>\n",
              "      <td>0.0</td>\n",
              "      <td>0</td>\n",
              "      <td>0</td>\n",
              "      <td>0.0</td>\n",
              "      <td>0.0</td>\n",
              "      <td>0</td>\n",
              "      <td>0</td>\n",
              "      <td>BENIGN</td>\n",
              "    </tr>\n",
              "    <tr>\n",
              "      <th>2830739</th>\n",
              "      <td>324</td>\n",
              "      <td>2</td>\n",
              "      <td>2</td>\n",
              "      <td>84</td>\n",
              "      <td>362</td>\n",
              "      <td>42</td>\n",
              "      <td>42</td>\n",
              "      <td>42.0</td>\n",
              "      <td>0.00000</td>\n",
              "      <td>181</td>\n",
              "      <td>...</td>\n",
              "      <td>20</td>\n",
              "      <td>0.0</td>\n",
              "      <td>0.0</td>\n",
              "      <td>0</td>\n",
              "      <td>0</td>\n",
              "      <td>0.0</td>\n",
              "      <td>0.0</td>\n",
              "      <td>0</td>\n",
              "      <td>0</td>\n",
              "      <td>BENIGN</td>\n",
              "    </tr>\n",
              "    <tr>\n",
              "      <th>2830740</th>\n",
              "      <td>82</td>\n",
              "      <td>2</td>\n",
              "      <td>1</td>\n",
              "      <td>31</td>\n",
              "      <td>6</td>\n",
              "      <td>31</td>\n",
              "      <td>0</td>\n",
              "      <td>15.5</td>\n",
              "      <td>21.92031</td>\n",
              "      <td>6</td>\n",
              "      <td>...</td>\n",
              "      <td>32</td>\n",
              "      <td>0.0</td>\n",
              "      <td>0.0</td>\n",
              "      <td>0</td>\n",
              "      <td>0</td>\n",
              "      <td>0.0</td>\n",
              "      <td>0.0</td>\n",
              "      <td>0</td>\n",
              "      <td>0</td>\n",
              "      <td>BENIGN</td>\n",
              "    </tr>\n",
              "    <tr>\n",
              "      <th>2830741</th>\n",
              "      <td>1048635</td>\n",
              "      <td>6</td>\n",
              "      <td>2</td>\n",
              "      <td>192</td>\n",
              "      <td>256</td>\n",
              "      <td>32</td>\n",
              "      <td>32</td>\n",
              "      <td>32.0</td>\n",
              "      <td>0.00000</td>\n",
              "      <td>128</td>\n",
              "      <td>...</td>\n",
              "      <td>20</td>\n",
              "      <td>0.0</td>\n",
              "      <td>0.0</td>\n",
              "      <td>0</td>\n",
              "      <td>0</td>\n",
              "      <td>0.0</td>\n",
              "      <td>0.0</td>\n",
              "      <td>0</td>\n",
              "      <td>0</td>\n",
              "      <td>BENIGN</td>\n",
              "    </tr>\n",
              "    <tr>\n",
              "      <th>2830742</th>\n",
              "      <td>94939</td>\n",
              "      <td>4</td>\n",
              "      <td>2</td>\n",
              "      <td>188</td>\n",
              "      <td>226</td>\n",
              "      <td>47</td>\n",
              "      <td>47</td>\n",
              "      <td>47.0</td>\n",
              "      <td>0.00000</td>\n",
              "      <td>113</td>\n",
              "      <td>...</td>\n",
              "      <td>20</td>\n",
              "      <td>0.0</td>\n",
              "      <td>0.0</td>\n",
              "      <td>0</td>\n",
              "      <td>0</td>\n",
              "      <td>0.0</td>\n",
              "      <td>0.0</td>\n",
              "      <td>0</td>\n",
              "      <td>0</td>\n",
              "      <td>BENIGN</td>\n",
              "    </tr>\n",
              "  </tbody>\n",
              "</table>\n",
              "<p>2830743 rows × 78 columns</p>\n",
              "</div>"
            ],
            "text/plain": [
              "         Flow Duration  Total Fwd Packets  Total Backward Packets  \\\n",
              "0                    3                  2                       0   \n",
              "1                  109                  1                       1   \n",
              "2                   52                  1                       1   \n",
              "3                   34                  1                       1   \n",
              "4                    3                  2                       0   \n",
              "...                ...                ...                     ...   \n",
              "2830738          32215                  4                       2   \n",
              "2830739            324                  2                       2   \n",
              "2830740             82                  2                       1   \n",
              "2830741        1048635                  6                       2   \n",
              "2830742          94939                  4                       2   \n",
              "\n",
              "         Total Length of Fwd Packets  Total Length of Bwd Packets  \\\n",
              "0                                 12                            0   \n",
              "1                                  6                            6   \n",
              "2                                  6                            6   \n",
              "3                                  6                            6   \n",
              "4                                 12                            0   \n",
              "...                              ...                          ...   \n",
              "2830738                          112                          152   \n",
              "2830739                           84                          362   \n",
              "2830740                           31                            6   \n",
              "2830741                          192                          256   \n",
              "2830742                          188                          226   \n",
              "\n",
              "         Fwd Packet Length Max  Fwd Packet Length Min  Fwd Packet Length Mean  \\\n",
              "0                            6                      6                     6.0   \n",
              "1                            6                      6                     6.0   \n",
              "2                            6                      6                     6.0   \n",
              "3                            6                      6                     6.0   \n",
              "4                            6                      6                     6.0   \n",
              "...                        ...                    ...                     ...   \n",
              "2830738                     28                     28                    28.0   \n",
              "2830739                     42                     42                    42.0   \n",
              "2830740                     31                      0                    15.5   \n",
              "2830741                     32                     32                    32.0   \n",
              "2830742                     47                     47                    47.0   \n",
              "\n",
              "         Fwd Packet Length Std  Bwd Packet Length Max  ...  \\\n",
              "0                      0.00000                      0  ...   \n",
              "1                      0.00000                      6  ...   \n",
              "2                      0.00000                      6  ...   \n",
              "3                      0.00000                      6  ...   \n",
              "4                      0.00000                      0  ...   \n",
              "...                        ...                    ...  ...   \n",
              "2830738                0.00000                     76  ...   \n",
              "2830739                0.00000                    181  ...   \n",
              "2830740               21.92031                      6  ...   \n",
              "2830741                0.00000                    128  ...   \n",
              "2830742                0.00000                    113  ...   \n",
              "\n",
              "         min_seg_size_forward  Active Mean  Active Std  Active Max  \\\n",
              "0                          20          0.0         0.0           0   \n",
              "1                          20          0.0         0.0           0   \n",
              "2                          20          0.0         0.0           0   \n",
              "3                          20          0.0         0.0           0   \n",
              "4                          20          0.0         0.0           0   \n",
              "...                       ...          ...         ...         ...   \n",
              "2830738                    20          0.0         0.0           0   \n",
              "2830739                    20          0.0         0.0           0   \n",
              "2830740                    32          0.0         0.0           0   \n",
              "2830741                    20          0.0         0.0           0   \n",
              "2830742                    20          0.0         0.0           0   \n",
              "\n",
              "         Active Min  Idle Mean  Idle Std  Idle Max  Idle Min   Label  \n",
              "0                 0        0.0       0.0         0         0  BENIGN  \n",
              "1                 0        0.0       0.0         0         0  BENIGN  \n",
              "2                 0        0.0       0.0         0         0  BENIGN  \n",
              "3                 0        0.0       0.0         0         0  BENIGN  \n",
              "4                 0        0.0       0.0         0         0  BENIGN  \n",
              "...             ...        ...       ...       ...       ...     ...  \n",
              "2830738           0        0.0       0.0         0         0  BENIGN  \n",
              "2830739           0        0.0       0.0         0         0  BENIGN  \n",
              "2830740           0        0.0       0.0         0         0  BENIGN  \n",
              "2830741           0        0.0       0.0         0         0  BENIGN  \n",
              "2830742           0        0.0       0.0         0         0  BENIGN  \n",
              "\n",
              "[2830743 rows x 78 columns]"
            ]
          },
          "execution_count": 4,
          "metadata": {},
          "output_type": "execute_result"
        }
      ],
      "source": [
        "df"
      ]
    },
    {
      "cell_type": "code",
      "execution_count": null,
      "metadata": {
        "id": "8mo-rRZTEF2R",
        "outputId": "f805769c-884d-4e70-e0e4-cdf255e4d6c4"
      },
      "outputs": [
        {
          "data": {
            "text/plain": [
              "BENIGN          2273097\n",
              "DoS              380699\n",
              "PortScan         158930\n",
              "BruteForce        13835\n",
              "WebAttack          2180\n",
              "Bot                1966\n",
              "Infiltration         36\n",
              "Name: Label, dtype: int64"
            ]
          },
          "execution_count": 5,
          "metadata": {},
          "output_type": "execute_result"
        }
      ],
      "source": [
        "df.Label.value_counts()"
      ]
    },
    {
      "cell_type": "markdown",
      "metadata": {
        "id": "7R589qG5EF2S"
      },
      "source": [
        "### Preprocessing (normalization and padding values)"
      ]
    },
    {
      "cell_type": "code",
      "execution_count": null,
      "metadata": {
        "id": "7WJHBK6DEF2T",
        "outputId": "73df6366-f86c-4e15-f4a4-275c2253d885"
      },
      "outputs": [],
      "source": [
        "# Z-score normalization\n",
        "features = df.dtypes[df.dtypes != 'object'].index\n",
        "df[features] = df[features].apply(\n",
        "    lambda x: (x - x.mean()) / (x.std()))\n",
        "# Fill empty values by 0\n",
        "df = df.fillna(0)"
      ]
    },
    {
      "cell_type": "markdown",
      "metadata": {
        "id": "eqUhJTAvEF2T"
      },
      "source": [
        "### Data sampling\n",
        "Due to the space limit of GitHub files and the large size of network traffic data, we sample a small-sized subset for model learning using **k-means cluster sampling**"
      ]
    },
    {
      "cell_type": "code",
      "execution_count": null,
      "metadata": {
        "id": "h0qTbuNLEF2T"
      },
      "outputs": [],
      "source": [
        "labelencoder = LabelEncoder()\n",
        "df.iloc[:, -1] = labelencoder.fit_transform(df.iloc[:, -1])"
      ]
    },
    {
      "cell_type": "code",
      "execution_count": null,
      "metadata": {
        "id": "s436JFUIEF2U",
        "outputId": "b14d5a60-57b0-4e1f-e180-5c8632fc5204"
      },
      "outputs": [
        {
          "data": {
            "text/plain": [
              "0    2273097\n",
              "3     380699\n",
              "5     158930\n",
              "2      13835\n",
              "6       2180\n",
              "1       1966\n",
              "4         36\n",
              "Name: Label, dtype: int64"
            ]
          },
          "execution_count": 8,
          "metadata": {},
          "output_type": "execute_result"
        }
      ],
      "source": [
        "df.Label.value_counts()"
      ]
    },
    {
      "cell_type": "code",
      "execution_count": null,
      "metadata": {
        "id": "buHKmZUVEF2U"
      },
      "outputs": [],
      "source": [
        "# retain the minority class instances and sample the majority class instances\n",
        "df_minor = df[(df['Label']==6)|(df['Label']==1)|(df['Label']==4)]\n",
        "df_major = df.drop(df_minor.index)"
      ]
    },
    {
      "cell_type": "code",
      "execution_count": null,
      "metadata": {
        "id": "uoLMHn6ZEF2U"
      },
      "outputs": [],
      "source": [
        "X = df_major.drop(['Label'],axis=1)\n",
        "y = df_major.iloc[:, -1].values.reshape(-1,1)\n",
        "y=np.ravel(y)"
      ]
    },
    {
      "cell_type": "code",
      "execution_count": null,
      "metadata": {
        "id": "IN-T8ePXEF2V",
        "scrolled": true
      },
      "outputs": [],
      "source": [
        "# use k-means to cluster the data samples and select a proportion of data from each cluster\n",
        "from sklearn.cluster import MiniBatchKMeans\n",
        "kmeans = MiniBatchKMeans(n_clusters=1000, random_state=0).fit(X)"
      ]
    },
    {
      "cell_type": "code",
      "execution_count": null,
      "metadata": {
        "id": "YZt5zm68EF2V"
      },
      "outputs": [],
      "source": [
        "klabel=kmeans.labels_\n",
        "df_major['klabel']=klabel"
      ]
    },
    {
      "cell_type": "code",
      "execution_count": null,
      "metadata": {
        "id": "1p4bGqyYEF2V",
        "outputId": "509a3d45-96e1-4650-8fca-090ce99589ae",
        "scrolled": true
      },
      "outputs": [
        {
          "data": {
            "text/plain": [
              "318    22146\n",
              "2      20340\n",
              "258    20225\n",
              "308    18461\n",
              "432    18154\n",
              "       ...  \n",
              "366       70\n",
              "92        21\n",
              "596       14\n",
              "756       10\n",
              "295        3\n",
              "Name: klabel, Length: 997, dtype: int64"
            ]
          },
          "execution_count": 13,
          "metadata": {},
          "output_type": "execute_result"
        }
      ],
      "source": [
        "df_major['klabel'].value_counts()"
      ]
    },
    {
      "cell_type": "code",
      "execution_count": null,
      "metadata": {
        "id": "hGQzE-xfEF2W"
      },
      "outputs": [],
      "source": [
        "cols = list(df_major)\n",
        "cols.insert(78, cols.pop(cols.index('Label')))\n",
        "df_major = df_major.loc[:, cols]"
      ]
    },
    {
      "cell_type": "code",
      "execution_count": null,
      "metadata": {
        "id": "lGvUXda9EF2W",
        "outputId": "c44a74b5-85a5-4b43-e9e6-28e7908513de",
        "scrolled": true
      },
      "outputs": [
        {
          "data": {
            "text/html": [
              "<div>\n",
              "<style scoped>\n",
              "    .dataframe tbody tr th:only-of-type {\n",
              "        vertical-align: middle;\n",
              "    }\n",
              "\n",
              "    .dataframe tbody tr th {\n",
              "        vertical-align: top;\n",
              "    }\n",
              "\n",
              "    .dataframe thead th {\n",
              "        text-align: right;\n",
              "    }\n",
              "</style>\n",
              "<table border=\"1\" class=\"dataframe\">\n",
              "  <thead>\n",
              "    <tr style=\"text-align: right;\">\n",
              "      <th></th>\n",
              "      <th>Flow Duration</th>\n",
              "      <th>Total Fwd Packets</th>\n",
              "      <th>Total Backward Packets</th>\n",
              "      <th>Total Length of Fwd Packets</th>\n",
              "      <th>Total Length of Bwd Packets</th>\n",
              "      <th>Fwd Packet Length Max</th>\n",
              "      <th>Fwd Packet Length Min</th>\n",
              "      <th>Fwd Packet Length Mean</th>\n",
              "      <th>Fwd Packet Length Std</th>\n",
              "      <th>Bwd Packet Length Max</th>\n",
              "      <th>...</th>\n",
              "      <th>Active Mean</th>\n",
              "      <th>Active Std</th>\n",
              "      <th>Active Max</th>\n",
              "      <th>Active Min</th>\n",
              "      <th>Idle Mean</th>\n",
              "      <th>Idle Std</th>\n",
              "      <th>Idle Max</th>\n",
              "      <th>Idle Min</th>\n",
              "      <th>klabel</th>\n",
              "      <th>Label</th>\n",
              "    </tr>\n",
              "  </thead>\n",
              "  <tbody>\n",
              "    <tr>\n",
              "      <th>0</th>\n",
              "      <td>-0.439347</td>\n",
              "      <td>-0.009819</td>\n",
              "      <td>-0.010421</td>\n",
              "      <td>-0.053765</td>\n",
              "      <td>-0.007142</td>\n",
              "      <td>-0.281099</td>\n",
              "      <td>-0.210703</td>\n",
              "      <td>-0.280518</td>\n",
              "      <td>-0.245069</td>\n",
              "      <td>-0.447423</td>\n",
              "      <td>...</td>\n",
              "      <td>-0.125734</td>\n",
              "      <td>-0.104565</td>\n",
              "      <td>-0.149326</td>\n",
              "      <td>-0.101016</td>\n",
              "      <td>-0.351926</td>\n",
              "      <td>-0.10946</td>\n",
              "      <td>-0.356868</td>\n",
              "      <td>-0.338993</td>\n",
              "      <td>391</td>\n",
              "      <td>0</td>\n",
              "    </tr>\n",
              "    <tr>\n",
              "      <th>1</th>\n",
              "      <td>-0.439344</td>\n",
              "      <td>-0.011153</td>\n",
              "      <td>-0.009418</td>\n",
              "      <td>-0.054365</td>\n",
              "      <td>-0.007139</td>\n",
              "      <td>-0.281099</td>\n",
              "      <td>-0.210703</td>\n",
              "      <td>-0.280518</td>\n",
              "      <td>-0.245069</td>\n",
              "      <td>-0.444340</td>\n",
              "      <td>...</td>\n",
              "      <td>-0.125734</td>\n",
              "      <td>-0.104565</td>\n",
              "      <td>-0.149326</td>\n",
              "      <td>-0.101016</td>\n",
              "      <td>-0.351926</td>\n",
              "      <td>-0.10946</td>\n",
              "      <td>-0.356868</td>\n",
              "      <td>-0.338993</td>\n",
              "      <td>498</td>\n",
              "      <td>0</td>\n",
              "    </tr>\n",
              "    <tr>\n",
              "      <th>2</th>\n",
              "      <td>-0.439345</td>\n",
              "      <td>-0.011153</td>\n",
              "      <td>-0.009418</td>\n",
              "      <td>-0.054365</td>\n",
              "      <td>-0.007139</td>\n",
              "      <td>-0.281099</td>\n",
              "      <td>-0.210703</td>\n",
              "      <td>-0.280518</td>\n",
              "      <td>-0.245069</td>\n",
              "      <td>-0.444340</td>\n",
              "      <td>...</td>\n",
              "      <td>-0.125734</td>\n",
              "      <td>-0.104565</td>\n",
              "      <td>-0.149326</td>\n",
              "      <td>-0.101016</td>\n",
              "      <td>-0.351926</td>\n",
              "      <td>-0.10946</td>\n",
              "      <td>-0.356868</td>\n",
              "      <td>-0.338993</td>\n",
              "      <td>499</td>\n",
              "      <td>0</td>\n",
              "    </tr>\n",
              "    <tr>\n",
              "      <th>3</th>\n",
              "      <td>-0.439346</td>\n",
              "      <td>-0.011153</td>\n",
              "      <td>-0.009418</td>\n",
              "      <td>-0.054365</td>\n",
              "      <td>-0.007139</td>\n",
              "      <td>-0.281099</td>\n",
              "      <td>-0.210703</td>\n",
              "      <td>-0.280518</td>\n",
              "      <td>-0.245069</td>\n",
              "      <td>-0.444340</td>\n",
              "      <td>...</td>\n",
              "      <td>-0.125734</td>\n",
              "      <td>-0.104565</td>\n",
              "      <td>-0.149326</td>\n",
              "      <td>-0.101016</td>\n",
              "      <td>-0.351926</td>\n",
              "      <td>-0.10946</td>\n",
              "      <td>-0.356868</td>\n",
              "      <td>-0.338993</td>\n",
              "      <td>787</td>\n",
              "      <td>0</td>\n",
              "    </tr>\n",
              "    <tr>\n",
              "      <th>4</th>\n",
              "      <td>-0.439347</td>\n",
              "      <td>-0.009819</td>\n",
              "      <td>-0.010421</td>\n",
              "      <td>-0.053765</td>\n",
              "      <td>-0.007142</td>\n",
              "      <td>-0.281099</td>\n",
              "      <td>-0.210703</td>\n",
              "      <td>-0.280518</td>\n",
              "      <td>-0.245069</td>\n",
              "      <td>-0.447423</td>\n",
              "      <td>...</td>\n",
              "      <td>-0.125734</td>\n",
              "      <td>-0.104565</td>\n",
              "      <td>-0.149326</td>\n",
              "      <td>-0.101016</td>\n",
              "      <td>-0.351926</td>\n",
              "      <td>-0.10946</td>\n",
              "      <td>-0.356868</td>\n",
              "      <td>-0.338993</td>\n",
              "      <td>391</td>\n",
              "      <td>0</td>\n",
              "    </tr>\n",
              "    <tr>\n",
              "      <th>...</th>\n",
              "      <td>...</td>\n",
              "      <td>...</td>\n",
              "      <td>...</td>\n",
              "      <td>...</td>\n",
              "      <td>...</td>\n",
              "      <td>...</td>\n",
              "      <td>...</td>\n",
              "      <td>...</td>\n",
              "      <td>...</td>\n",
              "      <td>...</td>\n",
              "      <td>...</td>\n",
              "      <td>...</td>\n",
              "      <td>...</td>\n",
              "      <td>...</td>\n",
              "      <td>...</td>\n",
              "      <td>...</td>\n",
              "      <td>...</td>\n",
              "      <td>...</td>\n",
              "      <td>...</td>\n",
              "      <td>...</td>\n",
              "      <td>...</td>\n",
              "    </tr>\n",
              "    <tr>\n",
              "      <th>2830738</th>\n",
              "      <td>-0.438390</td>\n",
              "      <td>-0.007151</td>\n",
              "      <td>-0.008416</td>\n",
              "      <td>-0.043758</td>\n",
              "      <td>-0.007075</td>\n",
              "      <td>-0.250424</td>\n",
              "      <td>0.153902</td>\n",
              "      <td>-0.162296</td>\n",
              "      <td>-0.245069</td>\n",
              "      <td>-0.408376</td>\n",
              "      <td>...</td>\n",
              "      <td>-0.125734</td>\n",
              "      <td>-0.104565</td>\n",
              "      <td>-0.149326</td>\n",
              "      <td>-0.101016</td>\n",
              "      <td>-0.351926</td>\n",
              "      <td>-0.10946</td>\n",
              "      <td>-0.356868</td>\n",
              "      <td>-0.338993</td>\n",
              "      <td>813</td>\n",
              "      <td>0</td>\n",
              "    </tr>\n",
              "    <tr>\n",
              "      <th>2830739</th>\n",
              "      <td>-0.439337</td>\n",
              "      <td>-0.009819</td>\n",
              "      <td>-0.008416</td>\n",
              "      <td>-0.046560</td>\n",
              "      <td>-0.006982</td>\n",
              "      <td>-0.230903</td>\n",
              "      <td>0.385923</td>\n",
              "      <td>-0.087065</td>\n",
              "      <td>-0.245069</td>\n",
              "      <td>-0.354429</td>\n",
              "      <td>...</td>\n",
              "      <td>-0.125734</td>\n",
              "      <td>-0.104565</td>\n",
              "      <td>-0.149326</td>\n",
              "      <td>-0.101016</td>\n",
              "      <td>-0.351926</td>\n",
              "      <td>-0.10946</td>\n",
              "      <td>-0.356868</td>\n",
              "      <td>-0.338993</td>\n",
              "      <td>916</td>\n",
              "      <td>0</td>\n",
              "    </tr>\n",
              "    <tr>\n",
              "      <th>2830740</th>\n",
              "      <td>-0.439344</td>\n",
              "      <td>-0.009819</td>\n",
              "      <td>-0.009418</td>\n",
              "      <td>-0.051863</td>\n",
              "      <td>-0.007139</td>\n",
              "      <td>-0.246240</td>\n",
              "      <td>-0.310140</td>\n",
              "      <td>-0.229468</td>\n",
              "      <td>-0.167112</td>\n",
              "      <td>-0.444340</td>\n",
              "      <td>...</td>\n",
              "      <td>-0.125734</td>\n",
              "      <td>-0.104565</td>\n",
              "      <td>-0.149326</td>\n",
              "      <td>-0.101016</td>\n",
              "      <td>-0.351926</td>\n",
              "      <td>-0.10946</td>\n",
              "      <td>-0.356868</td>\n",
              "      <td>-0.338993</td>\n",
              "      <td>267</td>\n",
              "      <td>0</td>\n",
              "    </tr>\n",
              "    <tr>\n",
              "      <th>2830741</th>\n",
              "      <td>-0.408187</td>\n",
              "      <td>-0.004484</td>\n",
              "      <td>-0.008416</td>\n",
              "      <td>-0.035753</td>\n",
              "      <td>-0.007029</td>\n",
              "      <td>-0.244846</td>\n",
              "      <td>0.220194</td>\n",
              "      <td>-0.140802</td>\n",
              "      <td>-0.245069</td>\n",
              "      <td>-0.381659</td>\n",
              "      <td>...</td>\n",
              "      <td>-0.125734</td>\n",
              "      <td>-0.104565</td>\n",
              "      <td>-0.149326</td>\n",
              "      <td>-0.101016</td>\n",
              "      <td>-0.351926</td>\n",
              "      <td>-0.10946</td>\n",
              "      <td>-0.356868</td>\n",
              "      <td>-0.338993</td>\n",
              "      <td>634</td>\n",
              "      <td>0</td>\n",
              "    </tr>\n",
              "    <tr>\n",
              "      <th>2830742</th>\n",
              "      <td>-0.436526</td>\n",
              "      <td>-0.007151</td>\n",
              "      <td>-0.008416</td>\n",
              "      <td>-0.036153</td>\n",
              "      <td>-0.007042</td>\n",
              "      <td>-0.223931</td>\n",
              "      <td>0.468788</td>\n",
              "      <td>-0.060196</td>\n",
              "      <td>-0.245069</td>\n",
              "      <td>-0.389366</td>\n",
              "      <td>...</td>\n",
              "      <td>-0.125734</td>\n",
              "      <td>-0.104565</td>\n",
              "      <td>-0.149326</td>\n",
              "      <td>-0.101016</td>\n",
              "      <td>-0.351926</td>\n",
              "      <td>-0.10946</td>\n",
              "      <td>-0.356868</td>\n",
              "      <td>-0.338993</td>\n",
              "      <td>978</td>\n",
              "      <td>0</td>\n",
              "    </tr>\n",
              "  </tbody>\n",
              "</table>\n",
              "<p>2826561 rows × 79 columns</p>\n",
              "</div>"
            ],
            "text/plain": [
              "         Flow Duration  Total Fwd Packets  Total Backward Packets  \\\n",
              "0            -0.439347          -0.009819               -0.010421   \n",
              "1            -0.439344          -0.011153               -0.009418   \n",
              "2            -0.439345          -0.011153               -0.009418   \n",
              "3            -0.439346          -0.011153               -0.009418   \n",
              "4            -0.439347          -0.009819               -0.010421   \n",
              "...                ...                ...                     ...   \n",
              "2830738      -0.438390          -0.007151               -0.008416   \n",
              "2830739      -0.439337          -0.009819               -0.008416   \n",
              "2830740      -0.439344          -0.009819               -0.009418   \n",
              "2830741      -0.408187          -0.004484               -0.008416   \n",
              "2830742      -0.436526          -0.007151               -0.008416   \n",
              "\n",
              "         Total Length of Fwd Packets  Total Length of Bwd Packets  \\\n",
              "0                          -0.053765                    -0.007142   \n",
              "1                          -0.054365                    -0.007139   \n",
              "2                          -0.054365                    -0.007139   \n",
              "3                          -0.054365                    -0.007139   \n",
              "4                          -0.053765                    -0.007142   \n",
              "...                              ...                          ...   \n",
              "2830738                    -0.043758                    -0.007075   \n",
              "2830739                    -0.046560                    -0.006982   \n",
              "2830740                    -0.051863                    -0.007139   \n",
              "2830741                    -0.035753                    -0.007029   \n",
              "2830742                    -0.036153                    -0.007042   \n",
              "\n",
              "         Fwd Packet Length Max  Fwd Packet Length Min  Fwd Packet Length Mean  \\\n",
              "0                    -0.281099              -0.210703               -0.280518   \n",
              "1                    -0.281099              -0.210703               -0.280518   \n",
              "2                    -0.281099              -0.210703               -0.280518   \n",
              "3                    -0.281099              -0.210703               -0.280518   \n",
              "4                    -0.281099              -0.210703               -0.280518   \n",
              "...                        ...                    ...                     ...   \n",
              "2830738              -0.250424               0.153902               -0.162296   \n",
              "2830739              -0.230903               0.385923               -0.087065   \n",
              "2830740              -0.246240              -0.310140               -0.229468   \n",
              "2830741              -0.244846               0.220194               -0.140802   \n",
              "2830742              -0.223931               0.468788               -0.060196   \n",
              "\n",
              "         Fwd Packet Length Std  Bwd Packet Length Max  ...  Active Mean  \\\n",
              "0                    -0.245069              -0.447423  ...    -0.125734   \n",
              "1                    -0.245069              -0.444340  ...    -0.125734   \n",
              "2                    -0.245069              -0.444340  ...    -0.125734   \n",
              "3                    -0.245069              -0.444340  ...    -0.125734   \n",
              "4                    -0.245069              -0.447423  ...    -0.125734   \n",
              "...                        ...                    ...  ...          ...   \n",
              "2830738              -0.245069              -0.408376  ...    -0.125734   \n",
              "2830739              -0.245069              -0.354429  ...    -0.125734   \n",
              "2830740              -0.167112              -0.444340  ...    -0.125734   \n",
              "2830741              -0.245069              -0.381659  ...    -0.125734   \n",
              "2830742              -0.245069              -0.389366  ...    -0.125734   \n",
              "\n",
              "         Active Std  Active Max  Active Min  Idle Mean  Idle Std  Idle Max  \\\n",
              "0         -0.104565   -0.149326   -0.101016  -0.351926  -0.10946 -0.356868   \n",
              "1         -0.104565   -0.149326   -0.101016  -0.351926  -0.10946 -0.356868   \n",
              "2         -0.104565   -0.149326   -0.101016  -0.351926  -0.10946 -0.356868   \n",
              "3         -0.104565   -0.149326   -0.101016  -0.351926  -0.10946 -0.356868   \n",
              "4         -0.104565   -0.149326   -0.101016  -0.351926  -0.10946 -0.356868   \n",
              "...             ...         ...         ...        ...       ...       ...   \n",
              "2830738   -0.104565   -0.149326   -0.101016  -0.351926  -0.10946 -0.356868   \n",
              "2830739   -0.104565   -0.149326   -0.101016  -0.351926  -0.10946 -0.356868   \n",
              "2830740   -0.104565   -0.149326   -0.101016  -0.351926  -0.10946 -0.356868   \n",
              "2830741   -0.104565   -0.149326   -0.101016  -0.351926  -0.10946 -0.356868   \n",
              "2830742   -0.104565   -0.149326   -0.101016  -0.351926  -0.10946 -0.356868   \n",
              "\n",
              "         Idle Min  klabel  Label  \n",
              "0       -0.338993     391      0  \n",
              "1       -0.338993     498      0  \n",
              "2       -0.338993     499      0  \n",
              "3       -0.338993     787      0  \n",
              "4       -0.338993     391      0  \n",
              "...           ...     ...    ...  \n",
              "2830738 -0.338993     813      0  \n",
              "2830739 -0.338993     916      0  \n",
              "2830740 -0.338993     267      0  \n",
              "2830741 -0.338993     634      0  \n",
              "2830742 -0.338993     978      0  \n",
              "\n",
              "[2826561 rows x 79 columns]"
            ]
          },
          "execution_count": 15,
          "metadata": {},
          "output_type": "execute_result"
        }
      ],
      "source": [
        "df_major"
      ]
    },
    {
      "cell_type": "code",
      "execution_count": null,
      "metadata": {
        "id": "4_zmVl7EEF2X"
      },
      "outputs": [],
      "source": [
        "def typicalSampling(group):\n",
        "    name = group.name\n",
        "    frac = 0.008\n",
        "    return group.sample(frac=frac)\n",
        "\n",
        "result = df_major.groupby(\n",
        "    'klabel', group_keys=False\n",
        ").apply(typicalSampling)"
      ]
    },
    {
      "cell_type": "code",
      "execution_count": null,
      "metadata": {
        "id": "u8DMBi_cEF2X",
        "outputId": "1b0d77a3-b149-48d1-9e4e-a926bf2d0d41"
      },
      "outputs": [
        {
          "data": {
            "text/plain": [
              "0    18185\n",
              "3     3029\n",
              "5     1280\n",
              "2      118\n",
              "Name: Label, dtype: int64"
            ]
          },
          "execution_count": 17,
          "metadata": {},
          "output_type": "execute_result"
        }
      ],
      "source": [
        "result['Label'].value_counts()"
      ]
    },
    {
      "cell_type": "code",
      "execution_count": null,
      "metadata": {
        "id": "whwEV_OCEF2Y",
        "outputId": "01297cae-c15d-4aad-a37e-98782f26b65e",
        "scrolled": true
      },
      "outputs": [
        {
          "data": {
            "text/html": [
              "<div>\n",
              "<style scoped>\n",
              "    .dataframe tbody tr th:only-of-type {\n",
              "        vertical-align: middle;\n",
              "    }\n",
              "\n",
              "    .dataframe tbody tr th {\n",
              "        vertical-align: top;\n",
              "    }\n",
              "\n",
              "    .dataframe thead th {\n",
              "        text-align: right;\n",
              "    }\n",
              "</style>\n",
              "<table border=\"1\" class=\"dataframe\">\n",
              "  <thead>\n",
              "    <tr style=\"text-align: right;\">\n",
              "      <th></th>\n",
              "      <th>Flow Duration</th>\n",
              "      <th>Total Fwd Packets</th>\n",
              "      <th>Total Backward Packets</th>\n",
              "      <th>Total Length of Fwd Packets</th>\n",
              "      <th>Total Length of Bwd Packets</th>\n",
              "      <th>Fwd Packet Length Max</th>\n",
              "      <th>Fwd Packet Length Min</th>\n",
              "      <th>Fwd Packet Length Mean</th>\n",
              "      <th>Fwd Packet Length Std</th>\n",
              "      <th>Bwd Packet Length Max</th>\n",
              "      <th>...</th>\n",
              "      <th>Active Mean</th>\n",
              "      <th>Active Std</th>\n",
              "      <th>Active Max</th>\n",
              "      <th>Active Min</th>\n",
              "      <th>Idle Mean</th>\n",
              "      <th>Idle Std</th>\n",
              "      <th>Idle Max</th>\n",
              "      <th>Idle Min</th>\n",
              "      <th>klabel</th>\n",
              "      <th>Label</th>\n",
              "    </tr>\n",
              "  </thead>\n",
              "  <tbody>\n",
              "    <tr>\n",
              "      <th>6980</th>\n",
              "      <td>-0.437857</td>\n",
              "      <td>-0.011153</td>\n",
              "      <td>-0.009418</td>\n",
              "      <td>-0.054965</td>\n",
              "      <td>-0.007142</td>\n",
              "      <td>-0.289465</td>\n",
              "      <td>-0.310140</td>\n",
              "      <td>-0.312760</td>\n",
              "      <td>-0.245069</td>\n",
              "      <td>-0.447423</td>\n",
              "      <td>...</td>\n",
              "      <td>-0.125734</td>\n",
              "      <td>-0.104565</td>\n",
              "      <td>-0.149326</td>\n",
              "      <td>-0.101016</td>\n",
              "      <td>-0.351926</td>\n",
              "      <td>-0.10946</td>\n",
              "      <td>-0.356868</td>\n",
              "      <td>-0.338993</td>\n",
              "      <td>0</td>\n",
              "      <td>0</td>\n",
              "    </tr>\n",
              "    <tr>\n",
              "      <th>1506627</th>\n",
              "      <td>-0.438252</td>\n",
              "      <td>-0.011153</td>\n",
              "      <td>-0.009418</td>\n",
              "      <td>-0.054965</td>\n",
              "      <td>-0.007142</td>\n",
              "      <td>-0.289465</td>\n",
              "      <td>-0.310140</td>\n",
              "      <td>-0.312760</td>\n",
              "      <td>-0.245069</td>\n",
              "      <td>-0.447423</td>\n",
              "      <td>...</td>\n",
              "      <td>-0.125734</td>\n",
              "      <td>-0.104565</td>\n",
              "      <td>-0.149326</td>\n",
              "      <td>-0.101016</td>\n",
              "      <td>-0.351926</td>\n",
              "      <td>-0.10946</td>\n",
              "      <td>-0.356868</td>\n",
              "      <td>-0.338993</td>\n",
              "      <td>0</td>\n",
              "      <td>0</td>\n",
              "    </tr>\n",
              "    <tr>\n",
              "      <th>1377524</th>\n",
              "      <td>-0.438860</td>\n",
              "      <td>-0.011153</td>\n",
              "      <td>-0.009418</td>\n",
              "      <td>-0.054965</td>\n",
              "      <td>-0.007142</td>\n",
              "      <td>-0.289465</td>\n",
              "      <td>-0.310140</td>\n",
              "      <td>-0.312760</td>\n",
              "      <td>-0.245069</td>\n",
              "      <td>-0.447423</td>\n",
              "      <td>...</td>\n",
              "      <td>-0.125734</td>\n",
              "      <td>-0.104565</td>\n",
              "      <td>-0.149326</td>\n",
              "      <td>-0.101016</td>\n",
              "      <td>-0.351926</td>\n",
              "      <td>-0.10946</td>\n",
              "      <td>-0.356868</td>\n",
              "      <td>-0.338993</td>\n",
              "      <td>0</td>\n",
              "      <td>0</td>\n",
              "    </tr>\n",
              "    <tr>\n",
              "      <th>2056871</th>\n",
              "      <td>-0.435684</td>\n",
              "      <td>-0.011153</td>\n",
              "      <td>-0.009418</td>\n",
              "      <td>-0.054965</td>\n",
              "      <td>-0.007142</td>\n",
              "      <td>-0.289465</td>\n",
              "      <td>-0.310140</td>\n",
              "      <td>-0.312760</td>\n",
              "      <td>-0.245069</td>\n",
              "      <td>-0.447423</td>\n",
              "      <td>...</td>\n",
              "      <td>-0.125734</td>\n",
              "      <td>-0.104565</td>\n",
              "      <td>-0.149326</td>\n",
              "      <td>-0.101016</td>\n",
              "      <td>-0.351926</td>\n",
              "      <td>-0.10946</td>\n",
              "      <td>-0.356868</td>\n",
              "      <td>-0.338993</td>\n",
              "      <td>0</td>\n",
              "      <td>0</td>\n",
              "    </tr>\n",
              "    <tr>\n",
              "      <th>2005567</th>\n",
              "      <td>-0.437738</td>\n",
              "      <td>-0.011153</td>\n",
              "      <td>-0.009418</td>\n",
              "      <td>-0.054965</td>\n",
              "      <td>-0.007142</td>\n",
              "      <td>-0.289465</td>\n",
              "      <td>-0.310140</td>\n",
              "      <td>-0.312760</td>\n",
              "      <td>-0.245069</td>\n",
              "      <td>-0.447423</td>\n",
              "      <td>...</td>\n",
              "      <td>-0.125734</td>\n",
              "      <td>-0.104565</td>\n",
              "      <td>-0.149326</td>\n",
              "      <td>-0.101016</td>\n",
              "      <td>-0.351926</td>\n",
              "      <td>-0.10946</td>\n",
              "      <td>-0.356868</td>\n",
              "      <td>-0.338993</td>\n",
              "      <td>0</td>\n",
              "      <td>0</td>\n",
              "    </tr>\n",
              "    <tr>\n",
              "      <th>...</th>\n",
              "      <td>...</td>\n",
              "      <td>...</td>\n",
              "      <td>...</td>\n",
              "      <td>...</td>\n",
              "      <td>...</td>\n",
              "      <td>...</td>\n",
              "      <td>...</td>\n",
              "      <td>...</td>\n",
              "      <td>...</td>\n",
              "      <td>...</td>\n",
              "      <td>...</td>\n",
              "      <td>...</td>\n",
              "      <td>...</td>\n",
              "      <td>...</td>\n",
              "      <td>...</td>\n",
              "      <td>...</td>\n",
              "      <td>...</td>\n",
              "      <td>...</td>\n",
              "      <td>...</td>\n",
              "      <td>...</td>\n",
              "      <td>...</td>\n",
              "    </tr>\n",
              "    <tr>\n",
              "      <th>1031173</th>\n",
              "      <td>-0.438439</td>\n",
              "      <td>-0.011153</td>\n",
              "      <td>-0.009418</td>\n",
              "      <td>-0.050963</td>\n",
              "      <td>-0.007110</td>\n",
              "      <td>-0.233691</td>\n",
              "      <td>0.352777</td>\n",
              "      <td>-0.097812</td>\n",
              "      <td>-0.245069</td>\n",
              "      <td>-0.410431</td>\n",
              "      <td>...</td>\n",
              "      <td>-0.125734</td>\n",
              "      <td>-0.104565</td>\n",
              "      <td>-0.149326</td>\n",
              "      <td>-0.101016</td>\n",
              "      <td>-0.351926</td>\n",
              "      <td>-0.10946</td>\n",
              "      <td>-0.356868</td>\n",
              "      <td>-0.338993</td>\n",
              "      <td>999</td>\n",
              "      <td>0</td>\n",
              "    </tr>\n",
              "    <tr>\n",
              "      <th>1608048</th>\n",
              "      <td>-0.438422</td>\n",
              "      <td>-0.009819</td>\n",
              "      <td>-0.008416</td>\n",
              "      <td>-0.047160</td>\n",
              "      <td>-0.007083</td>\n",
              "      <td>-0.235086</td>\n",
              "      <td>0.336204</td>\n",
              "      <td>-0.103186</td>\n",
              "      <td>-0.245069</td>\n",
              "      <td>-0.413000</td>\n",
              "      <td>...</td>\n",
              "      <td>-0.125734</td>\n",
              "      <td>-0.104565</td>\n",
              "      <td>-0.149326</td>\n",
              "      <td>-0.101016</td>\n",
              "      <td>-0.351926</td>\n",
              "      <td>-0.10946</td>\n",
              "      <td>-0.356868</td>\n",
              "      <td>-0.338993</td>\n",
              "      <td>999</td>\n",
              "      <td>0</td>\n",
              "    </tr>\n",
              "    <tr>\n",
              "      <th>817023</th>\n",
              "      <td>-0.437935</td>\n",
              "      <td>-0.011153</td>\n",
              "      <td>-0.009418</td>\n",
              "      <td>-0.050863</td>\n",
              "      <td>-0.007108</td>\n",
              "      <td>-0.232297</td>\n",
              "      <td>0.369350</td>\n",
              "      <td>-0.092438</td>\n",
              "      <td>-0.245069</td>\n",
              "      <td>-0.408376</td>\n",
              "      <td>...</td>\n",
              "      <td>-0.125734</td>\n",
              "      <td>-0.104565</td>\n",
              "      <td>-0.149326</td>\n",
              "      <td>-0.101016</td>\n",
              "      <td>-0.351926</td>\n",
              "      <td>-0.10946</td>\n",
              "      <td>-0.356868</td>\n",
              "      <td>-0.338993</td>\n",
              "      <td>999</td>\n",
              "      <td>0</td>\n",
              "    </tr>\n",
              "    <tr>\n",
              "      <th>559006</th>\n",
              "      <td>-0.437946</td>\n",
              "      <td>-0.011153</td>\n",
              "      <td>-0.009418</td>\n",
              "      <td>-0.050763</td>\n",
              "      <td>-0.007111</td>\n",
              "      <td>-0.230903</td>\n",
              "      <td>0.385923</td>\n",
              "      <td>-0.087065</td>\n",
              "      <td>-0.245069</td>\n",
              "      <td>-0.411459</td>\n",
              "      <td>...</td>\n",
              "      <td>-0.125734</td>\n",
              "      <td>-0.104565</td>\n",
              "      <td>-0.149326</td>\n",
              "      <td>-0.101016</td>\n",
              "      <td>-0.351926</td>\n",
              "      <td>-0.10946</td>\n",
              "      <td>-0.356868</td>\n",
              "      <td>-0.338993</td>\n",
              "      <td>999</td>\n",
              "      <td>0</td>\n",
              "    </tr>\n",
              "    <tr>\n",
              "      <th>985052</th>\n",
              "      <td>-0.437554</td>\n",
              "      <td>-0.011153</td>\n",
              "      <td>-0.009418</td>\n",
              "      <td>-0.050963</td>\n",
              "      <td>-0.007110</td>\n",
              "      <td>-0.233691</td>\n",
              "      <td>0.352777</td>\n",
              "      <td>-0.097812</td>\n",
              "      <td>-0.245069</td>\n",
              "      <td>-0.410431</td>\n",
              "      <td>...</td>\n",
              "      <td>-0.125734</td>\n",
              "      <td>-0.104565</td>\n",
              "      <td>-0.149326</td>\n",
              "      <td>-0.101016</td>\n",
              "      <td>-0.351926</td>\n",
              "      <td>-0.10946</td>\n",
              "      <td>-0.356868</td>\n",
              "      <td>-0.338993</td>\n",
              "      <td>999</td>\n",
              "      <td>0</td>\n",
              "    </tr>\n",
              "  </tbody>\n",
              "</table>\n",
              "<p>22612 rows × 79 columns</p>\n",
              "</div>"
            ],
            "text/plain": [
              "         Flow Duration  Total Fwd Packets  Total Backward Packets  \\\n",
              "6980         -0.437857          -0.011153               -0.009418   \n",
              "1506627      -0.438252          -0.011153               -0.009418   \n",
              "1377524      -0.438860          -0.011153               -0.009418   \n",
              "2056871      -0.435684          -0.011153               -0.009418   \n",
              "2005567      -0.437738          -0.011153               -0.009418   \n",
              "...                ...                ...                     ...   \n",
              "1031173      -0.438439          -0.011153               -0.009418   \n",
              "1608048      -0.438422          -0.009819               -0.008416   \n",
              "817023       -0.437935          -0.011153               -0.009418   \n",
              "559006       -0.437946          -0.011153               -0.009418   \n",
              "985052       -0.437554          -0.011153               -0.009418   \n",
              "\n",
              "         Total Length of Fwd Packets  Total Length of Bwd Packets  \\\n",
              "6980                       -0.054965                    -0.007142   \n",
              "1506627                    -0.054965                    -0.007142   \n",
              "1377524                    -0.054965                    -0.007142   \n",
              "2056871                    -0.054965                    -0.007142   \n",
              "2005567                    -0.054965                    -0.007142   \n",
              "...                              ...                          ...   \n",
              "1031173                    -0.050963                    -0.007110   \n",
              "1608048                    -0.047160                    -0.007083   \n",
              "817023                     -0.050863                    -0.007108   \n",
              "559006                     -0.050763                    -0.007111   \n",
              "985052                     -0.050963                    -0.007110   \n",
              "\n",
              "         Fwd Packet Length Max  Fwd Packet Length Min  Fwd Packet Length Mean  \\\n",
              "6980                 -0.289465              -0.310140               -0.312760   \n",
              "1506627              -0.289465              -0.310140               -0.312760   \n",
              "1377524              -0.289465              -0.310140               -0.312760   \n",
              "2056871              -0.289465              -0.310140               -0.312760   \n",
              "2005567              -0.289465              -0.310140               -0.312760   \n",
              "...                        ...                    ...                     ...   \n",
              "1031173              -0.233691               0.352777               -0.097812   \n",
              "1608048              -0.235086               0.336204               -0.103186   \n",
              "817023               -0.232297               0.369350               -0.092438   \n",
              "559006               -0.230903               0.385923               -0.087065   \n",
              "985052               -0.233691               0.352777               -0.097812   \n",
              "\n",
              "         Fwd Packet Length Std  Bwd Packet Length Max  ...  Active Mean  \\\n",
              "6980                 -0.245069              -0.447423  ...    -0.125734   \n",
              "1506627              -0.245069              -0.447423  ...    -0.125734   \n",
              "1377524              -0.245069              -0.447423  ...    -0.125734   \n",
              "2056871              -0.245069              -0.447423  ...    -0.125734   \n",
              "2005567              -0.245069              -0.447423  ...    -0.125734   \n",
              "...                        ...                    ...  ...          ...   \n",
              "1031173              -0.245069              -0.410431  ...    -0.125734   \n",
              "1608048              -0.245069              -0.413000  ...    -0.125734   \n",
              "817023               -0.245069              -0.408376  ...    -0.125734   \n",
              "559006               -0.245069              -0.411459  ...    -0.125734   \n",
              "985052               -0.245069              -0.410431  ...    -0.125734   \n",
              "\n",
              "         Active Std  Active Max  Active Min  Idle Mean  Idle Std  Idle Max  \\\n",
              "6980      -0.104565   -0.149326   -0.101016  -0.351926  -0.10946 -0.356868   \n",
              "1506627   -0.104565   -0.149326   -0.101016  -0.351926  -0.10946 -0.356868   \n",
              "1377524   -0.104565   -0.149326   -0.101016  -0.351926  -0.10946 -0.356868   \n",
              "2056871   -0.104565   -0.149326   -0.101016  -0.351926  -0.10946 -0.356868   \n",
              "2005567   -0.104565   -0.149326   -0.101016  -0.351926  -0.10946 -0.356868   \n",
              "...             ...         ...         ...        ...       ...       ...   \n",
              "1031173   -0.104565   -0.149326   -0.101016  -0.351926  -0.10946 -0.356868   \n",
              "1608048   -0.104565   -0.149326   -0.101016  -0.351926  -0.10946 -0.356868   \n",
              "817023    -0.104565   -0.149326   -0.101016  -0.351926  -0.10946 -0.356868   \n",
              "559006    -0.104565   -0.149326   -0.101016  -0.351926  -0.10946 -0.356868   \n",
              "985052    -0.104565   -0.149326   -0.101016  -0.351926  -0.10946 -0.356868   \n",
              "\n",
              "         Idle Min  klabel  Label  \n",
              "6980    -0.338993       0      0  \n",
              "1506627 -0.338993       0      0  \n",
              "1377524 -0.338993       0      0  \n",
              "2056871 -0.338993       0      0  \n",
              "2005567 -0.338993       0      0  \n",
              "...           ...     ...    ...  \n",
              "1031173 -0.338993     999      0  \n",
              "1608048 -0.338993     999      0  \n",
              "817023  -0.338993     999      0  \n",
              "559006  -0.338993     999      0  \n",
              "985052  -0.338993     999      0  \n",
              "\n",
              "[22612 rows x 79 columns]"
            ]
          },
          "execution_count": 18,
          "metadata": {},
          "output_type": "execute_result"
        }
      ],
      "source": [
        "result"
      ]
    },
    {
      "cell_type": "code",
      "execution_count": null,
      "metadata": {
        "id": "1LxmyPKBEF2Y"
      },
      "outputs": [],
      "source": [
        "result = result.drop(['klabel'],axis=1)\n",
        "result = result.append(df_minor)"
      ]
    },
    {
      "cell_type": "code",
      "execution_count": null,
      "metadata": {
        "id": "jeMg05-hEF2Z"
      },
      "outputs": [],
      "source": [
        "result.to_csv('./data/CICIDS2017_sample_km.csv',index=0)"
      ]
    },
    {
      "cell_type": "markdown",
      "metadata": {},
      "source": [
        "### Preprocessing (normalization and padding values)"
      ]
    },
    {
      "cell_type": "code",
      "execution_count": null,
      "metadata": {},
      "outputs": [],
      "source": [
        "# Read the sampled dataset\n",
        "df=pd.read_csv('./data/CICIDS2017_sample_km.csv')"
      ]
    },
    {
      "cell_type": "markdown",
      "metadata": {},
      "source": [
        "### split train set and test set"
      ]
    },
    {
      "cell_type": "code",
      "execution_count": null,
      "metadata": {},
      "outputs": [],
      "source": [
        "X = df.drop(['Label'],axis=1).values\n",
        "y = df.iloc[:, -1].values.reshape(-1,1)\n",
        "y=np.ravel(y)"
      ]
    },
    {
      "cell_type": "code",
      "execution_count": null,
      "metadata": {},
      "outputs": [],
      "source": [
        "X_train, X_test, y_train, y_test = train_test_split(X,y, train_size = 0.8, test_size = 0.2, random_state = 0,stratify = y)"
      ]
    },
    {
      "cell_type": "markdown",
      "metadata": {},
      "source": [
        "### Feature selection by information gain"
      ]
    },
    {
      "cell_type": "code",
      "execution_count": null,
      "metadata": {},
      "outputs": [],
      "source": [
        "features = df.dtypes[df.dtypes != 'object'].index\n",
        "df[features] = df[features].apply(\n",
        "    lambda x: (x - x.mean()) / (x.std()))"
      ]
    },
    {
      "cell_type": "code",
      "execution_count": null,
      "metadata": {},
      "outputs": [],
      "source": [
        "from sklearn.feature_selection import mutual_info_classif\n",
        "importances = mutual_info_classif(X_train, y_train)"
      ]
    },
    {
      "cell_type": "code",
      "execution_count": null,
      "metadata": {},
      "outputs": [],
      "source": [
        "# calculate the sum of importance scores\n",
        "f_list = sorted(zip(map(lambda x: round(x, 4), importances), features), reverse=True)\n",
        "Sum = 0\n",
        "fs = []\n",
        "for i in range(0, len(f_list)):\n",
        "    Sum = Sum + f_list[i][0]\n",
        "    fs.append(f_list[i][1])"
      ]
    },
    {
      "cell_type": "code",
      "execution_count": null,
      "metadata": {},
      "outputs": [],
      "source": [
        "# select the important features from top to bottom until the accumulated importance reaches 90%\n",
        "f_list2 = sorted(zip(map(lambda x: round(x, 4), importances/Sum), features), reverse=True)\n",
        "Sum2 = 0\n",
        "fs = []\n",
        "for i in range(0, len(f_list2)):\n",
        "    Sum2 = Sum2 + f_list2[i][0]\n",
        "    fs.append(f_list2[i][1])\n",
        "    if Sum2>=0.9:\n",
        "        break"
      ]
    },
    {
      "cell_type": "code",
      "execution_count": null,
      "metadata": {},
      "outputs": [],
      "source": [
        "X_fs = df[fs].values"
      ]
    },
    {
      "cell_type": "code",
      "execution_count": null,
      "metadata": {},
      "outputs": [
        {
          "data": {
            "text/plain": [
              "(26800, 44)"
            ]
          },
          "metadata": {},
          "output_type": "display_data"
        }
      ],
      "source": [
        "X_fs.shape"
      ]
    },
    {
      "cell_type": "markdown",
      "metadata": {},
      "source": [
        "### Feature selection by Fast Correlation Based Filter (FCBF)\n",
        "\n",
        "The module is imported from the GitHub repo: https://github.com/SantiagoEG/FCBF_module"
      ]
    },
    {
      "cell_type": "code",
      "execution_count": null,
      "metadata": {},
      "outputs": [],
      "source": [
        "from FCBF_module import FCBF, FCBFK, FCBFiP, get_i\n",
        "fcbf = FCBFK(k = 20)\n",
        "#fcbf.fit(X_fs, y)"
      ]
    },
    {
      "cell_type": "code",
      "execution_count": null,
      "metadata": {},
      "outputs": [],
      "source": [
        "X_fss = fcbf.fit_transform(X_fs,y)"
      ]
    },
    {
      "cell_type": "code",
      "execution_count": null,
      "metadata": {},
      "outputs": [
        {
          "data": {
            "text/plain": [
              "(26800, 20)"
            ]
          },
          "metadata": {},
          "output_type": "display_data"
        }
      ],
      "source": [
        "X_fss.shape"
      ]
    },
    {
      "cell_type": "markdown",
      "metadata": {},
      "source": [
        "### Re-split train & test sets after feature selection"
      ]
    },
    {
      "cell_type": "code",
      "execution_count": null,
      "metadata": {},
      "outputs": [],
      "source": [
        "X_train, X_test, y_train, y_test = train_test_split(X_fss,y, train_size = 0.8, test_size = 0.2, random_state = 0,stratify = y)"
      ]
    },
    {
      "cell_type": "code",
      "execution_count": null,
      "metadata": {},
      "outputs": [
        {
          "data": {
            "text/plain": [
              "(21440, 20)"
            ]
          },
          "metadata": {},
          "output_type": "display_data"
        }
      ],
      "source": [
        "X_train.shape"
      ]
    },
    {
      "cell_type": "code",
      "execution_count": null,
      "metadata": {},
      "outputs": [
        {
          "data": {
            "text/plain": [
              "0    14580\n",
              "3     2433\n",
              "6     1744\n",
              "1     1573\n",
              "5     1004\n",
              "2       77\n",
              "4       29\n",
              "Name: count, dtype: int64"
            ]
          },
          "metadata": {},
          "output_type": "display_data"
        }
      ],
      "source": [
        "from sklearn.preprocessing import LabelEncoder\n",
        "\n",
        "# Encode labels to integers 0,1,2,...\n",
        "le = LabelEncoder()\n",
        "y_train = le.fit_transform(y_train)\n",
        "y_test = le.transform(y_test)\n",
        "\n",
        "# Check the distribution again\n",
        "pd.Series(y_train).value_counts()"
      ]
    },
    {
      "cell_type": "markdown",
      "metadata": {},
      "source": [
        "### SMOTE to solve class-imbalance"
      ]
    },
    {
      "cell_type": "code",
      "execution_count": null,
      "metadata": {},
      "outputs": [],
      "source": [
        "from imblearn.over_sampling import SMOTE\n",
        "smote=SMOTE(n_jobs=-1,sampling_strategy={2:1000,4:1000})"
      ]
    },
    {
      "cell_type": "code",
      "execution_count": null,
      "metadata": {},
      "outputs": [],
      "source": [
        "X_train, y_train = smote.fit_resample(X_train, y_train)"
      ]
    },
    {
      "cell_type": "code",
      "execution_count": null,
      "metadata": {},
      "outputs": [
        {
          "data": {
            "text/plain": [
              "0    14580\n",
              "3     2433\n",
              "6     1744\n",
              "1     1573\n",
              "5     1004\n",
              "4     1000\n",
              "2     1000\n",
              "Name: count, dtype: int64"
            ]
          },
          "metadata": {},
          "output_type": "display_data"
        }
      ],
      "source": [
        "pd.Series(y_train).value_counts()"
      ]
    },
    {
      "cell_type": "markdown",
      "metadata": {},
      "source": [
        "## Machine learning model training"
      ]
    },
    {
      "cell_type": "markdown",
      "metadata": {},
      "source": [
        "### Training four base learners: decision tree, random forest, extra trees, XGBoost"
      ]
    },
    {
      "cell_type": "markdown",
      "metadata": {},
      "source": [
        "#### Apply XGBoost"
      ]
    },
    {
      "cell_type": "code",
      "execution_count": null,
      "metadata": {},
      "outputs": [
        {
          "name": "stdout",
          "output_type": "stream",
          "text": [
            "Accuracy of XGBoost: 0.991044776119403\n",
            "Precision of XGBoost: 0.9911135138558134\n",
            "Recall of XGBoost: 0.991044776119403\n",
            "F1-score of XGBoost: 0.9910279997963668\n",
            "              precision    recall  f1-score   support\n",
            "\n",
            "           0       0.99      0.99      0.99      3645\n",
            "           1       0.99      0.98      0.98       393\n",
            "           2       1.00      1.00      1.00        19\n",
            "           3       0.99      0.99      0.99       609\n",
            "           4       1.00      0.71      0.83         7\n",
            "           5       0.99      1.00      0.99       251\n",
            "           6       0.96      0.99      0.98       436\n",
            "\n",
            "    accuracy                           0.99      5360\n",
            "   macro avg       0.99      0.95      0.97      5360\n",
            "weighted avg       0.99      0.99      0.99      5360\n",
            "\n"
          ]
        },
        {
          "data": {
            "image/png": "[encoded data removed]",
            "text/plain": [
              "<Figure size 500x500 with 2 Axes>"
            ]
          },
          "metadata": {},
          "output_type": "display_data"
        }
      ],
      "source": [
        "xg = xgb.XGBClassifier(n_estimators = 10)\n",
        "xg.fit(X_train,y_train)\n",
        "xg_score=xg.score(X_test,y_test)\n",
        "y_predict=xg.predict(X_test)\n",
        "y_true=y_test\n",
        "print('Accuracy of XGBoost: '+ str(xg_score))\n",
        "precision,recall,fscore,none= precision_recall_fscore_support(y_true, y_predict, average='weighted')\n",
        "print('Precision of XGBoost: '+(str(precision)))\n",
        "print('Recall of XGBoost: '+(str(recall)))\n",
        "print('F1-score of XGBoost: '+(str(fscore)))\n",
        "print(classification_report(y_true,y_predict))\n",
        "cm=confusion_matrix(y_true,y_predict)\n",
        "f,ax=plt.subplots(figsize=(5,5))\n",
        "sns.heatmap(cm,annot=True,linewidth=0.5,linecolor=\"red\",fmt=\".0f\",ax=ax)\n",
        "plt.xlabel(\"y_pred\")\n",
        "plt.ylabel(\"y_true\")\n",
        "plt.show()"
      ]
    },
    {
      "cell_type": "markdown",
      "metadata": {},
      "source": [
        "#### Hyperparameter optimization (HPO) of XGBoost using Bayesian optimization with tree-based Parzen estimator (BO-TPE)\n",
        "Based on the GitHub repo for HPO: https://github.com/LiYangHart/Hyperparameter-Optimization-of-Machine-Learning-Algorithms"
      ]
    },
    {
      "cell_type": "code",
      "execution_count": null,
      "metadata": {},
      "outputs": [
        {
          "name": "stdout",
          "output_type": "stream",
          "text": [
            "100%|██████████| 20/20 [00:30<00:00,  1.54s/trial, best loss: -0.9966417910447761]\n",
            "XGBoost: Hyperopt estimated optimum {'learning_rate': 0.35402161117683884, 'max_depth': 95.0, 'n_estimators': 40.0}\n"
          ]
        }
      ],
      "source": [
        "from hyperopt import hp, fmin, tpe, STATUS_OK, Trials\n",
        "from sklearn.model_selection import cross_val_score, StratifiedKFold\n",
        "def objective(params):\n",
        "    params = {\n",
        "        'n_estimators': int(params['n_estimators']),\n",
        "        'max_depth': int(params['max_depth']),\n",
        "        'learning_rate':  abs(float(params['learning_rate'])),\n",
        "\n",
        "    }\n",
        "    clf = xgb.XGBClassifier( **params)\n",
        "    clf.fit(X_train, y_train)\n",
        "    y_pred = clf.predict(X_test)\n",
        "    score = accuracy_score(y_test, y_pred)\n",
        "\n",
        "    return {'loss':-score, 'status': STATUS_OK }\n",
        "\n",
        "space = {\n",
        "    'n_estimators': hp.quniform('n_estimators', 10, 100, 5),\n",
        "    'max_depth': hp.quniform('max_depth', 4, 100, 1),\n",
        "    'learning_rate': hp.normal('learning_rate', 0.01, 0.9),\n",
        "}\n",
        "\n",
        "best = fmin(fn=objective,\n",
        "            space=space,\n",
        "            algo=tpe.suggest,\n",
        "            max_evals=20)\n",
        "print(\"XGBoost: Hyperopt estimated optimum {}\".format(best))"
      ]
    },
    {
      "cell_type": "code",
      "execution_count": null,
      "metadata": {},
      "outputs": [
        {
          "name": "stdout",
          "output_type": "stream",
          "text": [
            "Accuracy of XGBoost: 0.996455223880597\n",
            "Precision of XGBoost: 0.9964371483587836\n",
            "Recall of XGBoost: 0.996455223880597\n",
            "F1-score of XGBoost: 0.996436188054079\n",
            "              precision    recall  f1-score   support\n",
            "\n",
            "           0       1.00      1.00      1.00      3645\n",
            "           1       0.99      1.00      0.99       393\n",
            "           2       1.00      1.00      1.00        19\n",
            "           3       0.99      1.00      1.00       609\n",
            "           4       0.83      0.71      0.77         7\n",
            "           5       0.99      1.00      0.99       251\n",
            "           6       1.00      1.00      1.00       436\n",
            "\n",
            "    accuracy                           1.00      5360\n",
            "   macro avg       0.97      0.96      0.96      5360\n",
            "weighted avg       1.00      1.00      1.00      5360\n",
            "\n"
          ]
        },
        {
          "data": {
            "image/png": "[encoded data removed]",
            "text/plain": [
              "<Figure size 500x500 with 2 Axes>"
            ]
          },
          "metadata": {},
          "output_type": "display_data"
        }
      ],
      "source": [
        "xg = xgb.XGBClassifier(learning_rate= 0.7340229699980686, n_estimators = 70, max_depth = 14)\n",
        "xg.fit(X_train,y_train)\n",
        "xg_score=xg.score(X_test,y_test)\n",
        "y_predict=xg.predict(X_test)\n",
        "y_true=y_test\n",
        "print('Accuracy of XGBoost: '+ str(xg_score))\n",
        "precision,recall,fscore,none= precision_recall_fscore_support(y_true, y_predict, average='weighted')\n",
        "print('Precision of XGBoost: '+(str(precision)))\n",
        "print('Recall of XGBoost: '+(str(recall)))\n",
        "print('F1-score of XGBoost: '+(str(fscore)))\n",
        "print(classification_report(y_true,y_predict))\n",
        "cm=confusion_matrix(y_true,y_predict)\n",
        "f,ax=plt.subplots(figsize=(5,5))\n",
        "sns.heatmap(cm,annot=True,linewidth=0.5,linecolor=\"red\",fmt=\".0f\",ax=ax)\n",
        "plt.xlabel(\"y_pred\")\n",
        "plt.ylabel(\"y_true\")\n",
        "plt.show()"
      ]
    },
    {
      "cell_type": "code",
      "execution_count": null,
      "metadata": {},
      "outputs": [],
      "source": [
        "xg_train=xg.predict(X_train)\n",
        "xg_test=xg.predict(X_test)"
      ]
    },
    {
      "cell_type": "markdown",
      "metadata": {},
      "source": [
        "#### Apply RF"
      ]
    },
    {
      "cell_type": "code",
      "execution_count": null,
      "metadata": {},
      "outputs": [
        {
          "name": "stdout",
          "output_type": "stream",
          "text": [
            "Accuracy of RF: 0.994776119402985\n",
            "Precision of RF: 0.9947952180194924\n",
            "Recall of RF: 0.994776119402985\n",
            "F1-score of RF: 0.9947500440670328\n",
            "              precision    recall  f1-score   support\n",
            "\n",
            "           0       1.00      1.00      1.00      3645\n",
            "           1       0.99      1.00      1.00       393\n",
            "           2       1.00      1.00      1.00        19\n",
            "           3       0.99      1.00      0.99       609\n",
            "           4       1.00      0.71      0.83         7\n",
            "           5       0.98      1.00      0.99       251\n",
            "           6       0.98      0.99      0.99       436\n",
            "\n",
            "    accuracy                           0.99      5360\n",
            "   macro avg       0.99      0.96      0.97      5360\n",
            "weighted avg       0.99      0.99      0.99      5360\n",
            "\n"
          ]
        },
        {
          "data": {
            "image/png": "[encoded data removed]",
            "text/plain": [
              "<Figure size 500x500 with 2 Axes>"
            ]
          },
          "metadata": {},
          "output_type": "display_data"
        }
      ],
      "source": [
        "rf = RandomForestClassifier(random_state = 0)\n",
        "rf.fit(X_train,y_train)\n",
        "rf_score=rf.score(X_test,y_test)\n",
        "y_predict=rf.predict(X_test)\n",
        "y_true=y_test\n",
        "print('Accuracy of RF: '+ str(rf_score))\n",
        "precision,recall,fscore,none= precision_recall_fscore_support(y_true, y_predict, average='weighted')\n",
        "print('Precision of RF: '+(str(precision)))\n",
        "print('Recall of RF: '+(str(recall)))\n",
        "print('F1-score of RF: '+(str(fscore)))\n",
        "print(classification_report(y_true,y_predict))\n",
        "cm=confusion_matrix(y_true,y_predict)\n",
        "f,ax=plt.subplots(figsize=(5,5))\n",
        "sns.heatmap(cm,annot=True,linewidth=0.5,linecolor=\"red\",fmt=\".0f\",ax=ax)\n",
        "plt.xlabel(\"y_pred\")\n",
        "plt.ylabel(\"y_true\")\n",
        "plt.show()"
      ]
    },
    {
      "cell_type": "markdown",
      "metadata": {},
      "source": [
        "#### Hyperparameter optimization (HPO) of random forest using Bayesian optimization with tree-based Parzen estimator (BO-TPE)\n",
        "Based on the GitHub repo for HPO: https://github.com/LiYangHart/Hyperparameter-Optimization-of-Machine-Learning-Algorithms"
      ]
    },
    {
      "cell_type": "code",
      "execution_count": null,
      "metadata": {},
      "outputs": [
        {
          "name": "stdout",
          "output_type": "stream",
          "text": [
            "100%|██████████| 20/20 [04:00<00:00, 12.02s/trial, best loss: -0.994776119402985] \n",
            "Random Forest: Hyperopt estimated optimum {'criterion': 1, 'max_depth': 31.0, 'max_features': 19.0, 'min_samples_leaf': 2.0, 'min_samples_split': 9.0, 'n_estimators': 193.0}\n"
          ]
        }
      ],
      "source": [
        "# Hyperparameter optimization of random forest\n",
        "from hyperopt import hp, fmin, tpe, STATUS_OK, Trials\n",
        "from sklearn.model_selection import cross_val_score, StratifiedKFold\n",
        "# Define the objective function\n",
        "def objective(params):\n",
        "    params = {\n",
        "        'n_estimators': int(params['n_estimators']),\n",
        "        'max_depth': int(params['max_depth']),\n",
        "        'max_features': int(params['max_features']),\n",
        "        \"min_samples_split\":int(params['min_samples_split']),\n",
        "        \"min_samples_leaf\":int(params['min_samples_leaf']),\n",
        "        \"criterion\":str(params['criterion'])\n",
        "    }\n",
        "    clf = RandomForestClassifier( **params)\n",
        "    clf.fit(X_train,y_train)\n",
        "    score=clf.score(X_test,y_test)\n",
        "\n",
        "    return {'loss':-score, 'status': STATUS_OK }\n",
        "# Define the hyperparameter configuration space\n",
        "space = {\n",
        "    'n_estimators': hp.quniform('n_estimators', 10, 200, 1),\n",
        "    'max_depth': hp.quniform('max_depth', 5, 50, 1),\n",
        "    \"max_features\":hp.quniform('max_features', 1, 20, 1),\n",
        "    \"min_samples_split\":hp.quniform('min_samples_split',2,11,1),\n",
        "    \"min_samples_leaf\":hp.quniform('min_samples_leaf',1,11,1),\n",
        "    \"criterion\":hp.choice('criterion',['gini','entropy'])\n",
        "}\n",
        "\n",
        "best = fmin(fn=objective,\n",
        "            space=space,\n",
        "            algo=tpe.suggest,\n",
        "            max_evals=20)\n",
        "print(\"Random Forest: Hyperopt estimated optimum {}\".format(best))"
      ]
    },
    {
      "cell_type": "code",
      "execution_count": null,
      "metadata": {},
      "outputs": [
        {
          "name": "stdout",
          "output_type": "stream",
          "text": [
            "Accuracy of RF: 0.9949626865671641\n",
            "Precision of RF: 0.9949846805746602\n",
            "Recall of RF: 0.9949626865671641\n",
            "F1-score of RF: 0.9949371088112756\n",
            "              precision    recall  f1-score   support\n",
            "\n",
            "           0       1.00      1.00      1.00      3645\n",
            "           1       0.99      1.00      1.00       393\n",
            "           2       1.00      1.00      1.00        19\n",
            "           3       0.99      1.00      0.99       609\n",
            "           4       1.00      0.71      0.83         7\n",
            "           5       0.98      1.00      0.99       251\n",
            "           6       0.98      0.99      0.99       436\n",
            "\n",
            "    accuracy                           0.99      5360\n",
            "   macro avg       0.99      0.96      0.97      5360\n",
            "weighted avg       0.99      0.99      0.99      5360\n",
            "\n"
          ]
        },
        {
          "data": {
            "image/png": "[encoded data removed]",
            "text/plain": [
              "<Figure size 500x500 with 2 Axes>"
            ]
          },
          "metadata": {},
          "output_type": "display_data"
        }
      ],
      "source": [
        "rf_hpo = RandomForestClassifier(n_estimators = 71, min_samples_leaf = 1, max_depth = 46, min_samples_split = 9, max_features = 20, criterion = 'entropy')\n",
        "rf_hpo.fit(X_train,y_train)\n",
        "rf_score=rf_hpo.score(X_test,y_test)\n",
        "y_predict=rf_hpo.predict(X_test)\n",
        "y_true=y_test\n",
        "print('Accuracy of RF: '+ str(rf_score))\n",
        "precision,recall,fscore,none= precision_recall_fscore_support(y_true, y_predict, average='weighted')\n",
        "print('Precision of RF: '+(str(precision)))\n",
        "print('Recall of RF: '+(str(recall)))\n",
        "print('F1-score of RF: '+(str(fscore)))\n",
        "print(classification_report(y_true,y_predict))\n",
        "cm=confusion_matrix(y_true,y_predict)\n",
        "f,ax=plt.subplots(figsize=(5,5))\n",
        "sns.heatmap(cm,annot=True,linewidth=0.5,linecolor=\"red\",fmt=\".0f\",ax=ax)\n",
        "plt.xlabel(\"y_pred\")\n",
        "plt.ylabel(\"y_true\")\n",
        "plt.show()"
      ]
    },
    {
      "cell_type": "code",
      "execution_count": null,
      "metadata": {},
      "outputs": [],
      "source": [
        "rf_train=rf_hpo.predict(X_train)\n",
        "rf_test=rf_hpo.predict(X_test)"
      ]
    },
    {
      "cell_type": "markdown",
      "metadata": {},
      "source": [
        "#### Apply DT"
      ]
    },
    {
      "cell_type": "code",
      "execution_count": null,
      "metadata": {},
      "outputs": [
        {
          "name": "stdout",
          "output_type": "stream",
          "text": [
            "Accuracy of DT: 0.9932835820895523\n",
            "Precision of DT: 0.9934785322581339\n",
            "Recall of DT: 0.9932835820895523\n",
            "F1-score of DT: 0.9933597518977868\n",
            "              precision    recall  f1-score   support\n",
            "\n",
            "           0       1.00      0.99      1.00      3645\n",
            "           1       0.99      1.00      0.99       393\n",
            "           2       1.00      1.00      1.00        19\n",
            "           3       1.00      1.00      1.00       609\n",
            "           4       0.56      0.71      0.62         7\n",
            "           5       0.98      1.00      0.99       251\n",
            "           6       0.97      0.98      0.98       436\n",
            "\n",
            "    accuracy                           0.99      5360\n",
            "   macro avg       0.93      0.96      0.94      5360\n",
            "weighted avg       0.99      0.99      0.99      5360\n",
            "\n"
          ]
        },
        {
          "data": {
            "image/png": "[encoded data removed]",
            "text/plain": [
              "<Figure size 500x500 with 2 Axes>"
            ]
          },
          "metadata": {},
          "output_type": "display_data"
        }
      ],
      "source": [
        "dt = DecisionTreeClassifier(random_state = 0)\n",
        "dt.fit(X_train,y_train)\n",
        "dt_score=dt.score(X_test,y_test)\n",
        "y_predict=dt.predict(X_test)\n",
        "y_true=y_test\n",
        "print('Accuracy of DT: '+ str(dt_score))\n",
        "precision,recall,fscore,none= precision_recall_fscore_support(y_true, y_predict, average='weighted')\n",
        "print('Precision of DT: '+(str(precision)))\n",
        "print('Recall of DT: '+(str(recall)))\n",
        "print('F1-score of DT: '+(str(fscore)))\n",
        "print(classification_report(y_true,y_predict))\n",
        "cm=confusion_matrix(y_true,y_predict)\n",
        "f,ax=plt.subplots(figsize=(5,5))\n",
        "sns.heatmap(cm,annot=True,linewidth=0.5,linecolor=\"red\",fmt=\".0f\",ax=ax)\n",
        "plt.xlabel(\"y_pred\")\n",
        "plt.ylabel(\"y_true\")\n",
        "plt.show()"
      ]
    },
    {
      "cell_type": "markdown",
      "metadata": {},
      "source": [
        "#### Hyperparameter optimization (HPO) of decision tree using Bayesian optimization with tree-based Parzen estimator (BO-TPE)\n",
        "Based on the GitHub repo for HPO: https://github.com/LiYangHart/Hyperparameter-Optimization-of-Machine-Learning-Algorithms"
      ]
    },
    {
      "cell_type": "code",
      "execution_count": null,
      "metadata": {},
      "outputs": [
        {
          "name": "stdout",
          "output_type": "stream",
          "text": [
            "100%|██████████| 50/50 [00:08<00:00,  5.93trial/s, best loss: -0.9942164179104478]\n",
            "Decision tree: Hyperopt estimated optimum {'criterion': 0, 'max_depth': 49.0, 'max_features': 19.0, 'min_samples_leaf': 1.0, 'min_samples_split': 2.0}\n"
          ]
        }
      ],
      "source": [
        "# Hyperparameter optimization of decision tree\n",
        "from hyperopt import hp, fmin, tpe, STATUS_OK, Trials\n",
        "from sklearn.model_selection import cross_val_score, StratifiedKFold\n",
        "# Define the objective function\n",
        "def objective(params):\n",
        "    params = {\n",
        "        'max_depth': int(params['max_depth']),\n",
        "        'max_features': int(params['max_features']),\n",
        "        \"min_samples_split\":int(params['min_samples_split']),\n",
        "        \"min_samples_leaf\":int(params['min_samples_leaf']),\n",
        "        \"criterion\":str(params['criterion'])\n",
        "    }\n",
        "    clf = DecisionTreeClassifier( **params)\n",
        "    clf.fit(X_train,y_train)\n",
        "    score=clf.score(X_test,y_test)\n",
        "\n",
        "    return {'loss':-score, 'status': STATUS_OK }\n",
        "# Define the hyperparameter configuration space\n",
        "space = {\n",
        "    'max_depth': hp.quniform('max_depth', 5, 50, 1),\n",
        "    \"max_features\":hp.quniform('max_features', 1, 20, 1),\n",
        "    \"min_samples_split\":hp.quniform('min_samples_split',2,11,1),\n",
        "    \"min_samples_leaf\":hp.quniform('min_samples_leaf',1,11,1),\n",
        "    \"criterion\":hp.choice('criterion',['gini','entropy'])\n",
        "}\n",
        "\n",
        "best = fmin(fn=objective,\n",
        "            space=space,\n",
        "            algo=tpe.suggest,\n",
        "            max_evals=50)\n",
        "print(\"Decision tree: Hyperopt estimated optimum {}\".format(best))"
      ]
    },
    {
      "cell_type": "code",
      "execution_count": null,
      "metadata": {},
      "outputs": [
        {
          "name": "stdout",
          "output_type": "stream",
          "text": [
            "Accuracy of DT: 0.9936567164179104\n",
            "Precision of DT: 0.9938357366612369\n",
            "Recall of DT: 0.9936567164179104\n",
            "F1-score of DT: 0.9937256457237901\n",
            "              precision    recall  f1-score   support\n",
            "\n",
            "           0       1.00      0.99      1.00      3645\n",
            "           1       0.99      1.00      0.99       393\n",
            "           2       0.95      1.00      0.97        19\n",
            "           3       1.00      1.00      1.00       609\n",
            "           4       0.56      0.71      0.62         7\n",
            "           5       0.98      1.00      0.99       251\n",
            "           6       0.99      0.98      0.98       436\n",
            "\n",
            "    accuracy                           0.99      5360\n",
            "   macro avg       0.92      0.95      0.94      5360\n",
            "weighted avg       0.99      0.99      0.99      5360\n",
            "\n"
          ]
        },
        {
          "data": {
            "image/png": "[encoded data removed]",
            "text/plain": [
              "<Figure size 500x500 with 2 Axes>"
            ]
          },
          "metadata": {},
          "output_type": "display_data"
        }
      ],
      "source": [
        "dt_hpo = DecisionTreeClassifier(min_samples_leaf = 2, max_depth = 47, min_samples_split = 3, max_features = 19, criterion = 'gini')\n",
        "dt_hpo.fit(X_train,y_train)\n",
        "dt_score=dt_hpo.score(X_test,y_test)\n",
        "y_predict=dt_hpo.predict(X_test)\n",
        "y_true=y_test\n",
        "print('Accuracy of DT: '+ str(dt_score))\n",
        "precision,recall,fscore,none= precision_recall_fscore_support(y_true, y_predict, average='weighted')\n",
        "print('Precision of DT: '+(str(precision)))\n",
        "print('Recall of DT: '+(str(recall)))\n",
        "print('F1-score of DT: '+(str(fscore)))\n",
        "print(classification_report(y_true,y_predict))\n",
        "cm=confusion_matrix(y_true,y_predict)\n",
        "f,ax=plt.subplots(figsize=(5,5))\n",
        "sns.heatmap(cm,annot=True,linewidth=0.5,linecolor=\"red\",fmt=\".0f\",ax=ax)\n",
        "plt.xlabel(\"y_pred\")\n",
        "plt.ylabel(\"y_true\")\n",
        "plt.show()"
      ]
    },
    {
      "cell_type": "code",
      "execution_count": null,
      "metadata": {},
      "outputs": [],
      "source": [
        "dt_train=dt_hpo.predict(X_train)\n",
        "dt_test=dt_hpo.predict(X_test)"
      ]
    },
    {
      "cell_type": "markdown",
      "metadata": {},
      "source": [
        "#### Apply ET"
      ]
    },
    {
      "cell_type": "code",
      "execution_count": null,
      "metadata": {},
      "outputs": [
        {
          "name": "stdout",
          "output_type": "stream",
          "text": [
            "Accuracy of ET: 0.9949626865671641\n",
            "Precision of ET: 0.9949726101001388\n",
            "Recall of ET: 0.9949626865671641\n",
            "F1-score of ET: 0.994933640303752\n",
            "              precision    recall  f1-score   support\n",
            "\n",
            "           0       1.00      1.00      1.00      3645\n",
            "           1       0.99      1.00      1.00       393\n",
            "           2       1.00      1.00      1.00        19\n",
            "           3       0.99      0.99      0.99       609\n",
            "           4       1.00      0.71      0.83         7\n",
            "           5       0.98      1.00      0.99       251\n",
            "           6       0.99      0.99      0.99       436\n",
            "\n",
            "    accuracy                           0.99      5360\n",
            "   macro avg       0.99      0.96      0.97      5360\n",
            "weighted avg       0.99      0.99      0.99      5360\n",
            "\n"
          ]
        },
        {
          "data": {
            "image/png": "[encoded data removed]",
            "text/plain": [
              "<Figure size 500x500 with 2 Axes>"
            ]
          },
          "metadata": {},
          "output_type": "display_data"
        }
      ],
      "source": [
        "et = ExtraTreesClassifier(random_state = 0)\n",
        "et.fit(X_train,y_train)\n",
        "et_score=et.score(X_test,y_test)\n",
        "y_predict=et.predict(X_test)\n",
        "y_true=y_test\n",
        "print('Accuracy of ET: '+ str(et_score))\n",
        "precision,recall,fscore,none= precision_recall_fscore_support(y_true, y_predict, average='weighted')\n",
        "print('Precision of ET: '+(str(precision)))\n",
        "print('Recall of ET: '+(str(recall)))\n",
        "print('F1-score of ET: '+(str(fscore)))\n",
        "print(classification_report(y_true,y_predict))\n",
        "cm=confusion_matrix(y_true,y_predict)\n",
        "f,ax=plt.subplots(figsize=(5,5))\n",
        "sns.heatmap(cm,annot=True,linewidth=0.5,linecolor=\"red\",fmt=\".0f\",ax=ax)\n",
        "plt.xlabel(\"y_pred\")\n",
        "plt.ylabel(\"y_true\")\n",
        "plt.show()"
      ]
    },
    {
      "cell_type": "markdown",
      "metadata": {},
      "source": [
        "#### Hyperparameter optimization (HPO) of extra trees using Bayesian optimization with tree-based Parzen estimator (BO-TPE)\n",
        "Based on the GitHub repo for HPO: https://github.com/LiYangHart/Hyperparameter-Optimization-of-Machine-Learning-Algorithms"
      ]
    },
    {
      "cell_type": "code",
      "execution_count": null,
      "metadata": {},
      "outputs": [
        {
          "name": "stdout",
          "output_type": "stream",
          "text": [
            "  0%|          | 0/20 [00:00<?, ?trial/s, best loss=?]"
          ]
        },
        {
          "name": "stdout",
          "output_type": "stream",
          "text": [
            "100%|██████████| 20/20 [01:24<00:00,  4.22s/trial, best loss: -0.9955223880597015]\n",
            "Random Forest: Hyperopt estimated optimum {'criterion': 1, 'max_depth': 35.0, 'max_features': 20.0, 'min_samples_leaf': 1.0, 'min_samples_split': 8.0, 'n_estimators': 64.0}\n"
          ]
        }
      ],
      "source": [
        "# Hyperparameter optimization of extra trees\n",
        "from hyperopt import hp, fmin, tpe, STATUS_OK, Trials\n",
        "from sklearn.model_selection import cross_val_score, StratifiedKFold\n",
        "# Define the objective function\n",
        "def objective(params):\n",
        "    params = {\n",
        "        'n_estimators': int(params['n_estimators']),\n",
        "        'max_depth': int(params['max_depth']),\n",
        "        'max_features': int(params['max_features']),\n",
        "        \"min_samples_split\":int(params['min_samples_split']),\n",
        "        \"min_samples_leaf\":int(params['min_samples_leaf']),\n",
        "        \"criterion\":str(params['criterion'])\n",
        "    }\n",
        "    clf = ExtraTreesClassifier( **params)\n",
        "    clf.fit(X_train,y_train)\n",
        "    score=clf.score(X_test,y_test)\n",
        "\n",
        "    return {'loss':-score, 'status': STATUS_OK }\n",
        "# Define the hyperparameter configuration space\n",
        "space = {\n",
        "    'n_estimators': hp.quniform('n_estimators', 10, 200, 1),\n",
        "    'max_depth': hp.quniform('max_depth', 5, 50, 1),\n",
        "    \"max_features\":hp.quniform('max_features', 1, 20, 1),\n",
        "    \"min_samples_split\":hp.quniform('min_samples_split',2,11,1),\n",
        "    \"min_samples_leaf\":hp.quniform('min_samples_leaf',1,11,1),\n",
        "    \"criterion\":hp.choice('criterion',['gini','entropy'])\n",
        "}\n",
        "\n",
        "best = fmin(fn=objective,\n",
        "            space=space,\n",
        "            algo=tpe.suggest,\n",
        "            max_evals=20)\n",
        "print(\"Random Forest: Hyperopt estimated optimum {}\".format(best))"
      ]
    },
    {
      "cell_type": "code",
      "execution_count": null,
      "metadata": {},
      "outputs": [
        {
          "name": "stdout",
          "output_type": "stream",
          "text": [
            "Accuracy of ET: 0.9957089552238806\n",
            "Precision of ET: 0.9957225563328196\n",
            "Recall of ET: 0.9957089552238806\n",
            "F1-score of ET: 0.995680540721405\n",
            "              precision    recall  f1-score   support\n",
            "\n",
            "           0       1.00      1.00      1.00      3645\n",
            "           1       0.99      1.00      1.00       393\n",
            "           2       1.00      1.00      1.00        19\n",
            "           3       0.99      1.00      0.99       609\n",
            "           4       1.00      0.71      0.83         7\n",
            "           5       0.98      1.00      0.99       251\n",
            "           6       1.00      0.99      0.99       436\n",
            "\n",
            "    accuracy                           1.00      5360\n",
            "   macro avg       0.99      0.96      0.97      5360\n",
            "weighted avg       1.00      1.00      1.00      5360\n",
            "\n"
          ]
        },
        {
          "data": {
            "image/png": "[encoded data removed]",
            "text/plain": [
              "<Figure size 500x500 with 2 Axes>"
            ]
          },
          "metadata": {},
          "output_type": "display_data"
        }
      ],
      "source": [
        "et_hpo = ExtraTreesClassifier(n_estimators = 53, min_samples_leaf = 1, max_depth = 31, min_samples_split = 5, max_features = 20, criterion = 'entropy')\n",
        "et_hpo.fit(X_train,y_train)\n",
        "et_score=et_hpo.score(X_test,y_test)\n",
        "y_predict=et_hpo.predict(X_test)\n",
        "y_true=y_test\n",
        "print('Accuracy of ET: '+ str(et_score))\n",
        "precision,recall,fscore,none= precision_recall_fscore_support(y_true, y_predict, average='weighted')\n",
        "print('Precision of ET: '+(str(precision)))\n",
        "print('Recall of ET: '+(str(recall)))\n",
        "print('F1-score of ET: '+(str(fscore)))\n",
        "print(classification_report(y_true,y_predict))\n",
        "cm=confusion_matrix(y_true,y_predict)\n",
        "f,ax=plt.subplots(figsize=(5,5))\n",
        "sns.heatmap(cm,annot=True,linewidth=0.5,linecolor=\"red\",fmt=\".0f\",ax=ax)\n",
        "plt.xlabel(\"y_pred\")\n",
        "plt.ylabel(\"y_true\")\n",
        "plt.show()"
      ]
    },
    {
      "cell_type": "code",
      "execution_count": null,
      "metadata": {},
      "outputs": [],
      "source": [
        "et_train=et_hpo.predict(X_train)\n",
        "et_test=et_hpo.predict(X_test)"
      ]
    },
    {
      "cell_type": "markdown",
      "metadata": {},
      "source": [
        "### Apply Stacking\n",
        "The ensemble model that combines the four ML models (DT, RF, ET, XGBoost)"
      ]
    },
    {
      "cell_type": "code",
      "execution_count": null,
      "metadata": {},
      "outputs": [
        {
          "data": {
            "text/html": [
              "<div>\n",
              "<style scoped>\n",
              "    .dataframe tbody tr th:only-of-type {\n",
              "        vertical-align: middle;\n",
              "    }\n",
              "\n",
              "    .dataframe tbody tr th {\n",
              "        vertical-align: top;\n",
              "    }\n",
              "\n",
              "    .dataframe thead th {\n",
              "        text-align: right;\n",
              "    }\n",
              "</style>\n",
              "<table border=\"1\" class=\"dataframe\">\n",
              "  <thead>\n",
              "    <tr style=\"text-align: right;\">\n",
              "      <th></th>\n",
              "      <th>DecisionTree</th>\n",
              "      <th>RandomForest</th>\n",
              "      <th>ExtraTrees</th>\n",
              "      <th>XgBoost</th>\n",
              "    </tr>\n",
              "  </thead>\n",
              "  <tbody>\n",
              "    <tr>\n",
              "      <th>0</th>\n",
              "      <td>0</td>\n",
              "      <td>0</td>\n",
              "      <td>0</td>\n",
              "      <td>0</td>\n",
              "    </tr>\n",
              "    <tr>\n",
              "      <th>1</th>\n",
              "      <td>0</td>\n",
              "      <td>0</td>\n",
              "      <td>0</td>\n",
              "      <td>0</td>\n",
              "    </tr>\n",
              "    <tr>\n",
              "      <th>2</th>\n",
              "      <td>1</td>\n",
              "      <td>1</td>\n",
              "      <td>1</td>\n",
              "      <td>1</td>\n",
              "    </tr>\n",
              "    <tr>\n",
              "      <th>3</th>\n",
              "      <td>0</td>\n",
              "      <td>0</td>\n",
              "      <td>0</td>\n",
              "      <td>0</td>\n",
              "    </tr>\n",
              "    <tr>\n",
              "      <th>4</th>\n",
              "      <td>3</td>\n",
              "      <td>3</td>\n",
              "      <td>3</td>\n",
              "      <td>3</td>\n",
              "    </tr>\n",
              "  </tbody>\n",
              "</table>\n",
              "</div>"
            ],
            "text/plain": [
              "   DecisionTree  RandomForest  ExtraTrees  XgBoost\n",
              "0             0             0           0        0\n",
              "1             0             0           0        0\n",
              "2             1             1           1        1\n",
              "3             0             0           0        0\n",
              "4             3             3           3        3"
            ]
          },
          "metadata": {},
          "output_type": "display_data"
        }
      ],
      "source": [
        "base_predictions_train = pd.DataFrame( {\n",
        "    'DecisionTree': dt_train.ravel(),\n",
        "        'RandomForest': rf_train.ravel(),\n",
        "     'ExtraTrees': et_train.ravel(),\n",
        "     'XgBoost': xg_train.ravel(),\n",
        "    })\n",
        "base_predictions_train.head(5)"
      ]
    },
    {
      "cell_type": "code",
      "execution_count": null,
      "metadata": {},
      "outputs": [],
      "source": [
        "dt_train=dt_train.reshape(-1, 1)\n",
        "et_train=et_train.reshape(-1, 1)\n",
        "rf_train=rf_train.reshape(-1, 1)\n",
        "xg_train=xg_train.reshape(-1, 1)\n",
        "dt_test=dt_test.reshape(-1, 1)\n",
        "et_test=et_test.reshape(-1, 1)\n",
        "rf_test=rf_test.reshape(-1, 1)\n",
        "xg_test=xg_test.reshape(-1, 1)"
      ]
    },
    {
      "cell_type": "code",
      "execution_count": null,
      "metadata": {},
      "outputs": [
        {
          "data": {
            "text/plain": [
              "(23334, 1)"
            ]
          },
          "metadata": {},
          "output_type": "display_data"
        }
      ],
      "source": [
        "dt_train.shape"
      ]
    },
    {
      "cell_type": "code",
      "execution_count": null,
      "metadata": {},
      "outputs": [],
      "source": [
        "x_train = np.concatenate(( dt_train, et_train, rf_train, xg_train), axis=1)\n",
        "x_test = np.concatenate(( dt_test, et_test, rf_test, xg_test), axis=1)"
      ]
    },
    {
      "cell_type": "code",
      "execution_count": null,
      "metadata": {},
      "outputs": [
        {
          "name": "stdout",
          "output_type": "stream",
          "text": [
            "Accuracy of Stacking: 0.9955223880597015\n",
            "Precision of Stacking: 0.9955044325882573\n",
            "Recall of Stacking: 0.9955223880597015\n",
            "F1-score of Stacking: 0.9955031695093179\n",
            "              precision    recall  f1-score   support\n",
            "\n",
            "           0       1.00      1.00      1.00      3645\n",
            "           1       0.99      1.00      1.00       393\n",
            "           2       1.00      1.00      1.00        19\n",
            "           3       0.99      1.00      0.99       609\n",
            "           4       0.83      0.71      0.77         7\n",
            "           5       0.98      1.00      0.99       251\n",
            "           6       1.00      0.99      0.99       436\n",
            "\n",
            "    accuracy                           1.00      5360\n",
            "   macro avg       0.97      0.96      0.96      5360\n",
            "weighted avg       1.00      1.00      1.00      5360\n",
            "\n"
          ]
        },
        {
          "data": {
            "image/png": "[encoded data removed]",
            "text/plain": [
              "<Figure size 500x500 with 2 Axes>"
            ]
          },
          "metadata": {},
          "output_type": "display_data"
        }
      ],
      "source": [
        "stk = xgb.XGBClassifier().fit(x_train, y_train)\n",
        "y_predict=stk.predict(x_test)\n",
        "y_true=y_test\n",
        "stk_score=accuracy_score(y_true,y_predict)\n",
        "print('Accuracy of Stacking: '+ str(stk_score))\n",
        "precision,recall,fscore,none= precision_recall_fscore_support(y_true, y_predict, average='weighted')\n",
        "print('Precision of Stacking: '+(str(precision)))\n",
        "print('Recall of Stacking: '+(str(recall)))\n",
        "print('F1-score of Stacking: '+(str(fscore)))\n",
        "print(classification_report(y_true,y_predict))\n",
        "cm=confusion_matrix(y_true,y_predict)\n",
        "f,ax=plt.subplots(figsize=(5,5))\n",
        "sns.heatmap(cm,annot=True,linewidth=0.5,linecolor=\"red\",fmt=\".0f\",ax=ax)\n",
        "plt.xlabel(\"y_pred\")\n",
        "plt.ylabel(\"y_true\")\n",
        "plt.show()"
      ]
    },
    {
      "cell_type": "markdown",
      "metadata": {},
      "source": [
        "#### Hyperparameter optimization (HPO) of the stacking ensemble model (XGBoost) using Bayesian optimization with tree-based Parzen estimator (BO-TPE)\n",
        "Based on the GitHub repo for HPO: https://github.com/LiYangHart/Hyperparameter-Optimization-of-Machine-Learning-Algorithms"
      ]
    },
    {
      "cell_type": "code",
      "execution_count": null,
      "metadata": {},
      "outputs": [
        {
          "name": "stdout",
          "output_type": "stream",
          "text": [
            "100%|██████████| 20/20 [00:09<00:00,  2.04trial/s, best loss: -0.9955223880597015]\n",
            "XGBoost: Hyperopt estimated optimum {'learning_rate': -0.5727516932698997, 'max_depth': 16.0, 'n_estimators': 50.0}\n"
          ]
        }
      ],
      "source": [
        "from hyperopt import hp, fmin, tpe, STATUS_OK, Trials\n",
        "from sklearn.model_selection import cross_val_score, StratifiedKFold\n",
        "def objective(params):\n",
        "    params = {\n",
        "        'n_estimators': int(params['n_estimators']),\n",
        "        'max_depth': int(params['max_depth']),\n",
        "        'learning_rate':  abs(float(params['learning_rate'])),\n",
        "\n",
        "    }\n",
        "    clf = xgb.XGBClassifier( **params)\n",
        "    clf.fit(x_train, y_train)\n",
        "    y_pred = clf.predict(x_test)\n",
        "    score = accuracy_score(y_test, y_pred)\n",
        "\n",
        "    return {'loss':-score, 'status': STATUS_OK }\n",
        "\n",
        "space = {\n",
        "    'n_estimators': hp.quniform('n_estimators', 10, 100, 5),\n",
        "    'max_depth': hp.quniform('max_depth', 4, 100, 1),\n",
        "    'learning_rate': hp.normal('learning_rate', 0.01, 0.9),\n",
        "}\n",
        "\n",
        "best = fmin(fn=objective,\n",
        "            space=space,\n",
        "            algo=tpe.suggest,\n",
        "            max_evals=20)\n",
        "print(\"XGBoost: Hyperopt estimated optimum {}\".format(best))"
      ]
    },
    {
      "cell_type": "code",
      "execution_count": null,
      "metadata": {},
      "outputs": [
        {
          "name": "stdout",
          "output_type": "stream",
          "text": [
            "Accuracy of XGBoost: 0.9955223880597015\n",
            "Precision of XGBoost: 0.9955044325882573\n",
            "Recall of XGBoost: 0.9955223880597015\n",
            "F1-score of XGBoost: 0.9955031695093179\n",
            "              precision    recall  f1-score   support\n",
            "\n",
            "           0       1.00      1.00      1.00      3645\n",
            "           1       0.99      1.00      1.00       393\n",
            "           2       1.00      1.00      1.00        19\n",
            "           3       0.99      1.00      0.99       609\n",
            "           4       0.83      0.71      0.77         7\n",
            "           5       0.98      1.00      0.99       251\n",
            "           6       1.00      0.99      0.99       436\n",
            "\n",
            "    accuracy                           1.00      5360\n",
            "   macro avg       0.97      0.96      0.96      5360\n",
            "weighted avg       1.00      1.00      1.00      5360\n",
            "\n"
          ]
        },
        {
          "data": {
            "image/png": "[encoded data removed]",
            "text/plain": [
              "<Figure size 500x500 with 2 Axes>"
            ]
          },
          "metadata": {},
          "output_type": "display_data"
        }
      ],
      "source": [
        "xg = xgb.XGBClassifier(learning_rate= 0.19229249758051492, n_estimators = 30, max_depth = 36)\n",
        "xg.fit(x_train,y_train)\n",
        "xg_score=xg.score(x_test,y_test)\n",
        "y_predict=xg.predict(x_test)\n",
        "y_true=y_test\n",
        "print('Accuracy of XGBoost: '+ str(xg_score))\n",
        "precision,recall,fscore,none= precision_recall_fscore_support(y_true, y_predict, average='weighted')\n",
        "print('Precision of XGBoost: '+(str(precision)))\n",
        "print('Recall of XGBoost: '+(str(recall)))\n",
        "print('F1-score of XGBoost: '+(str(fscore)))\n",
        "print(classification_report(y_true,y_predict))\n",
        "cm=confusion_matrix(y_true,y_predict)\n",
        "f,ax=plt.subplots(figsize=(5,5))\n",
        "sns.heatmap(cm,annot=True,linewidth=0.5,linecolor=\"red\",fmt=\".0f\",ax=ax)\n",
        "plt.xlabel(\"y_pred\")\n",
        "plt.ylabel(\"y_true\")\n",
        "plt.show()"
      ]
    },
    {
      "cell_type": "markdown",
      "metadata": {},
      "source": [
        "## Anomaly-based IDS"
      ]
    },
    {
      "cell_type": "markdown",
      "metadata": {},
      "source": [
        "### Generate the port-scan datasets for unknown attack detection"
      ]
    },
    {
      "cell_type": "code",
      "execution_count": null,
      "metadata": {},
      "outputs": [],
      "source": [
        "df=pd.read_csv('./data/CICIDS2017_sample_km.csv')"
      ]
    },
    {
      "cell_type": "code",
      "execution_count": null,
      "metadata": {},
      "outputs": [
        {
          "data": {
            "text/plain": [
              "Label\n",
              "0    18225\n",
              "3     3042\n",
              "6     2180\n",
              "1     1966\n",
              "5     1255\n",
              "2       96\n",
              "4       36\n",
              "Name: count, dtype: int64"
            ]
          },
          "metadata": {},
          "output_type": "display_data"
        }
      ],
      "source": [
        "df.Label.value_counts()"
      ]
    },
    {
      "cell_type": "code",
      "execution_count": null,
      "metadata": {},
      "outputs": [],
      "source": [
        "df1 = df[df['Label'] != 5]\n",
        "df1['Label'][df1['Label'] > 0] = 1\n",
        "df1.to_csv('./data/CICIDS2017_sample_km_without_portscan.csv',index=0)"
      ]
    },
    {
      "cell_type": "code",
      "execution_count": null,
      "metadata": {},
      "outputs": [],
      "source": [
        "df2 = df[df['Label'] == 5]\n",
        "df2['Label'][df2['Label'] == 5] = 1\n",
        "df2.to_csv('./data/CICIDS2017_sample_km_portscan.csv',index=0)"
      ]
    },
    {
      "cell_type": "markdown",
      "metadata": {},
      "source": [
        "### Read the generated datasets for unknown attack detection"
      ]
    },
    {
      "cell_type": "code",
      "execution_count": null,
      "metadata": {},
      "outputs": [],
      "source": [
        "df1 = pd.read_csv('./data/CICIDS2017_sample_km_without_portscan.csv')\n",
        "df2 = pd.read_csv('./data/CICIDS2017_sample_km_portscan.csv')"
      ]
    },
    {
      "cell_type": "code",
      "execution_count": null,
      "metadata": {},
      "outputs": [],
      "source": [
        "features = df1.drop(['Label'],axis=1).dtypes[df1.dtypes != 'object'].index\n",
        "df1[features] = df1[features].apply(\n",
        "    lambda x: (x - x.mean()) / (x.std()))\n",
        "df2[features] = df2[features].apply(\n",
        "    lambda x: (x - x.mean()) / (x.std()))\n",
        "df1 = df1.fillna(0)\n",
        "df2 = df2.fillna(0)"
      ]
    },
    {
      "cell_type": "code",
      "execution_count": null,
      "metadata": {},
      "outputs": [
        {
          "data": {
            "text/plain": [
              "Label\n",
              "0    18225\n",
              "1     7320\n",
              "Name: count, dtype: int64"
            ]
          },
          "metadata": {},
          "output_type": "display_data"
        }
      ],
      "source": [
        "df1.Label.value_counts()"
      ]
    },
    {
      "cell_type": "code",
      "execution_count": null,
      "metadata": {},
      "outputs": [
        {
          "data": {
            "text/plain": [
              "Label\n",
              "1    1255\n",
              "Name: count, dtype: int64"
            ]
          },
          "metadata": {},
          "output_type": "display_data"
        }
      ],
      "source": [
        "df2.Label.value_counts()"
      ]
    },
    {
      "cell_type": "code",
      "execution_count": null,
      "metadata": {},
      "outputs": [],
      "source": [
        "df2p=df1[df1['Label']==0]\n",
        "df2pp=df2p.sample(n=None, frac=1255/18225, replace=False, weights=None, random_state=None, axis=0)\n",
        "df2=pd.concat([df2, df2pp])"
      ]
    },
    {
      "cell_type": "code",
      "execution_count": null,
      "metadata": {},
      "outputs": [
        {
          "data": {
            "text/plain": [
              "Label\n",
              "1    1255\n",
              "0    1255\n",
              "Name: count, dtype: int64"
            ]
          },
          "metadata": {},
          "output_type": "display_data"
        }
      ],
      "source": [
        "df2.Label.value_counts()"
      ]
    },
    {
      "cell_type": "code",
      "execution_count": null,
      "metadata": {},
      "outputs": [],
      "source": [
        "df = pd.concat([df1, df2], ignore_index=True)"
      ]
    },
    {
      "cell_type": "code",
      "execution_count": null,
      "metadata": {},
      "outputs": [
        {
          "data": {
            "text/plain": [
              "0    19480\n",
              "1     8575\n",
              "Name: count, dtype: int64"
            ]
          },
          "metadata": {},
          "output_type": "display_data"
        }
      ],
      "source": [
        "X = df.drop(['Label'],axis=1) .values\n",
        "y = df.iloc[:, -1].values.reshape(-1,1)\n",
        "y=np.ravel(y)\n",
        "pd.Series(y).value_counts()"
      ]
    },
    {
      "cell_type": "markdown",
      "metadata": {},
      "source": [
        "### Feature engineering (IG, FCBF, and KPCA)"
      ]
    },
    {
      "cell_type": "markdown",
      "metadata": {},
      "source": [
        "#### Feature selection by information gain (IG)"
      ]
    },
    {
      "cell_type": "code",
      "execution_count": null,
      "metadata": {},
      "outputs": [],
      "source": [
        "from sklearn.feature_selection import mutual_info_classif\n",
        "importances = mutual_info_classif(X, y)"
      ]
    },
    {
      "cell_type": "code",
      "execution_count": null,
      "metadata": {},
      "outputs": [],
      "source": [
        "# calculate the sum of importance scores\n",
        "f_list = sorted(zip(map(lambda x: round(x, 4), importances), features), reverse=True)\n",
        "Sum = 0\n",
        "fs = []\n",
        "for i in range(0, len(f_list)):\n",
        "    Sum = Sum + f_list[i][0]\n",
        "    fs.append(f_list[i][1])"
      ]
    },
    {
      "cell_type": "code",
      "execution_count": null,
      "metadata": {},
      "outputs": [],
      "source": [
        "# select the important features from top to bottom until the accumulated importance reaches 90%\n",
        "f_list2 = sorted(zip(map(lambda x: round(x, 4), importances/Sum), features), reverse=True)\n",
        "Sum2 = 0\n",
        "fs = []\n",
        "for i in range(0, len(f_list2)):\n",
        "    Sum2 = Sum2 + f_list2[i][0]\n",
        "    fs.append(f_list2[i][1])\n",
        "    if Sum2>=0.9:\n",
        "        break"
      ]
    },
    {
      "cell_type": "code",
      "execution_count": null,
      "metadata": {},
      "outputs": [],
      "source": [
        "X_fs = df[fs].values"
      ]
    },
    {
      "cell_type": "code",
      "execution_count": null,
      "metadata": {},
      "outputs": [
        {
          "data": {
            "text/plain": [
              "(28055, 50)"
            ]
          },
          "metadata": {},
          "output_type": "display_data"
        }
      ],
      "source": [
        "X_fs.shape"
      ]
    },
    {
      "cell_type": "code",
      "execution_count": null,
      "metadata": {},
      "outputs": [
        {
          "data": {
            "text/plain": [
              "array([[-0.34612159, -0.51326791, -0.44364535, ..., -0.11333586,\n",
              "        -0.13353417, -0.05349902],\n",
              "       [-0.3443274 , -0.51326791, -0.44364535, ..., -0.11333586,\n",
              "        -0.13353417, -0.05349902],\n",
              "       [-0.3443274 , -0.51326791, -0.44364535, ..., -0.11333586,\n",
              "        -0.13353417, -0.05349902],\n",
              "       ...,\n",
              "       [-0.36859622, -0.35362781, -0.42933282, ..., -0.11333586,\n",
              "        -0.13353417, -0.04188076],\n",
              "       [-0.36859622, -0.51326791, -0.44364535, ..., -0.11333586,\n",
              "        -0.13353417, -0.04188076],\n",
              "       [-0.36859622, -0.46387153, -0.4144148 , ..., -0.11333586,\n",
              "        -0.13353417, -0.05349902]])"
            ]
          },
          "metadata": {},
          "output_type": "display_data"
        }
      ],
      "source": [
        "X_fs"
      ]
    },
    {
      "cell_type": "markdown",
      "metadata": {},
      "source": [
        "#### Feature selection by Fast Correlation Based Filter (FCBF)\n",
        "\n",
        "The module is imported from the GitHub repo: https://github.com/SantiagoEG/FCBF_module"
      ]
    },
    {
      "cell_type": "code",
      "execution_count": null,
      "metadata": {},
      "outputs": [],
      "source": [
        "from FCBF_module import FCBF, FCBFK, FCBFiP, get_i\n",
        "fcbf = FCBFK(k = 20)\n",
        "#fcbf.fit(X_fs, y)"
      ]
    },
    {
      "cell_type": "code",
      "execution_count": null,
      "metadata": {},
      "outputs": [],
      "source": [
        "X_fss = fcbf.fit_transform(X_fs,y)"
      ]
    },
    {
      "cell_type": "code",
      "execution_count": null,
      "metadata": {},
      "outputs": [
        {
          "data": {
            "text/plain": [
              "(28055, 20)"
            ]
          },
          "metadata": {},
          "output_type": "display_data"
        }
      ],
      "source": [
        "X_fss.shape"
      ]
    },
    {
      "cell_type": "code",
      "execution_count": null,
      "metadata": {},
      "outputs": [
        {
          "data": {
            "text/plain": [
              "array([[-0.34612159, -0.53319222, -0.34935843, ..., -0.42229765,\n",
              "        -0.2803002 , -0.41947688],\n",
              "       [-0.3443274 , -0.54906516, -0.34935843, ..., -0.42229765,\n",
              "        -0.2803002 , -0.41947688],\n",
              "       [-0.3443274 , -0.55544206, -0.34935843, ..., -0.42229765,\n",
              "        -0.2803002 , -0.41947688],\n",
              "       ...,\n",
              "       [-0.36859622, -0.56375976, -0.34935843, ..., -0.42229753,\n",
              "        -0.28029976, -0.3887417 ],\n",
              "       [-0.36859622, -0.54615396, -0.34935843, ..., -0.42228533,\n",
              "        -0.28025659, -0.42271216],\n",
              "       [-0.36859622, -0.49250481, -0.34935843, ..., -0.42229759,\n",
              "        -0.28029998, -0.42271216]])"
            ]
          },
          "metadata": {},
          "output_type": "display_data"
        }
      ],
      "source": [
        "X_fss"
      ]
    },
    {
      "cell_type": "markdown",
      "metadata": {},
      "source": [
        "####  kernel principal component analysis (KPCA)"
      ]
    },
    {
      "cell_type": "code",
      "execution_count": null,
      "metadata": {},
      "outputs": [],
      "source": [
        "from sklearn.decomposition import PCA\n",
        "kpca = PCA(n_components = 10)\n",
        "kpca.fit(X_fss, y)\n",
        "X_kpca = kpca.transform(X_fss)"
      ]
    },
    {
      "cell_type": "markdown",
      "metadata": {},
      "source": [
        "### Train-test split after feature selection"
      ]
    },
    {
      "cell_type": "code",
      "execution_count": null,
      "metadata": {},
      "outputs": [],
      "source": [
        "from sklearn.decomposition import PCA\n",
        "kpca = PCA(n_components = 10)\n",
        "kpca.fit(X_fss, y)\n",
        "X_kpca = kpca.transform(X_fss)"
      ]
    },
    {
      "cell_type": "code",
      "execution_count": null,
      "metadata": {},
      "outputs": [],
      "source": [
        "X_train = X_kpca[:len(df1)]\n",
        "y_train = y[:len(df1)]\n",
        "X_test = X_kpca[len(df1):]\n",
        "y_test = y[len(df1):]"
      ]
    },
    {
      "cell_type": "markdown",
      "metadata": {},
      "source": [
        "### Solve class-imbalance by SMOTE"
      ]
    },
    {
      "cell_type": "code",
      "execution_count": null,
      "metadata": {},
      "outputs": [
        {
          "data": {
            "text/plain": [
              "0    18225\n",
              "1     7320\n",
              "Name: count, dtype: int64"
            ]
          },
          "metadata": {},
          "output_type": "display_data"
        }
      ],
      "source": [
        "pd.Series(y_train).value_counts()"
      ]
    },
    {
      "cell_type": "code",
      "execution_count": null,
      "metadata": {},
      "outputs": [],
      "source": [
        "from imblearn.over_sampling import SMOTE\n",
        "smote=SMOTE(n_jobs=-1,sampling_strategy={1:18225})\n",
        "X_train, y_train = smote.fit_resample(X_train, y_train)"
      ]
    },
    {
      "cell_type": "code",
      "execution_count": null,
      "metadata": {},
      "outputs": [
        {
          "data": {
            "text/plain": [
              "0    18225\n",
              "1    18225\n",
              "Name: count, dtype: int64"
            ]
          },
          "metadata": {},
          "output_type": "display_data"
        }
      ],
      "source": [
        "pd.Series(y_train).value_counts()"
      ]
    },
    {
      "cell_type": "code",
      "execution_count": null,
      "metadata": {},
      "outputs": [
        {
          "data": {
            "text/plain": [
              "1    1255\n",
              "0    1255\n",
              "Name: count, dtype: int64"
            ]
          },
          "metadata": {},
          "output_type": "display_data"
        }
      ],
      "source": [
        "pd.Series(y_test).value_counts()"
      ]
    },
    {
      "cell_type": "markdown",
      "metadata": {},
      "source": [
        "### Apply the cluster labeling (CL) k-means method"
      ]
    },
    {
      "cell_type": "code",
      "execution_count": null,
      "metadata": {},
      "outputs": [],
      "source": [
        "from sklearn.cluster import KMeans\n",
        "from sklearn.cluster import DBSCAN,MeanShift\n",
        "from sklearn.cluster import SpectralClustering,AgglomerativeClustering,AffinityPropagation,Birch,MiniBatchKMeans,MeanShift\n",
        "from sklearn.mixture import GaussianMixture, BayesianGaussianMixture\n",
        "from sklearn.metrics import classification_report\n",
        "from sklearn import metrics\n",
        "from sklearn.preprocessing import StandardScaler\n"
      ]
    },
    {
      "cell_type": "code",
      "execution_count": null,
      "metadata": {},
      "outputs": [],
      "source": [
        "\n",
        "scaler = StandardScaler()\n",
        "X_train_scaled = scaler.fit_transform(X_train)\n",
        "X_test_scaled  = scaler.transform(X_test)\n"
      ]
    },
    {
      "cell_type": "code",
      "execution_count": null,
      "metadata": {},
      "outputs": [],
      "source": [
        "def CL_kmeans(X_train, X_test, y_train, y_test,n,b=100):\n",
        "    km_cluster = MiniBatchKMeans(n_clusters=n,batch_size=b)\n",
        "    result = km_cluster.fit_predict(X_train)\n",
        "    result2 = km_cluster.predict(X_test)\n",
        "\n",
        "    count=0\n",
        "    a=np.zeros(n)\n",
        "    b=np.zeros(n)\n",
        "    for v in range(0,n):\n",
        "        for i in range(0,len(y_train)):\n",
        "            if result[i]==v:\n",
        "                if y_train[i]==1:\n",
        "                    a[v]=a[v]+1\n",
        "                else:\n",
        "                    b[v]=b[v]+1\n",
        "    list1=[]\n",
        "    list2=[]\n",
        "    for v in range(0,n):\n",
        "        if a[v]<=b[v]:\n",
        "            list1.append(v)\n",
        "        else:\n",
        "            list2.append(v)\n",
        "    for v in range(0,len(y_test)):\n",
        "        if result2[v] in list1:\n",
        "            result2[v]=0\n",
        "        elif result2[v] in list2:\n",
        "            result2[v]=1\n",
        "        else:\n",
        "            print(\"-1\")\n",
        "    print(classification_report(y_test, result2))\n",
        "    cm=confusion_matrix(y_test,result2)\n",
        "    acc=metrics.accuracy_score(y_test,result2)\n",
        "    print(str(acc))\n",
        "    print(cm)"
      ]
    },
    {
      "cell_type": "code",
      "execution_count": null,
      "metadata": {},
      "outputs": [
        {
          "name": "stdout",
          "output_type": "stream",
          "text": [
            "              precision    recall  f1-score   support\n",
            "\n",
            "           0       0.45      0.81      0.58      1255\n",
            "           1       0.01      0.00      0.00      1255\n",
            "\n",
            "    accuracy                           0.40      2510\n",
            "   macro avg       0.23      0.40      0.29      2510\n",
            "weighted avg       0.23      0.40      0.29      2510\n",
            "\n",
            "0.4047808764940239\n",
            "[[1014  241]\n",
            " [1253    2]]\n"
          ]
        }
      ],
      "source": [
        "CL_kmeans(X_train, X_test, y_train, y_test, 40)"
      ]
    },
    {
      "cell_type": "markdown",
      "metadata": {},
      "source": [
        "### Hyperparameter optimization of CL-k-means\n",
        "Tune \"k\""
      ]
    },
    {
      "cell_type": "code",
      "execution_count": null,
      "metadata": {},
      "outputs": [
        {
          "name": "stdout",
          "output_type": "stream",
          "text": [
            "30 0.6286852589641434\n",
            "43 0.44183266932270915\n",
            "43 0.6756972111553785\n",
            "43 0.43306772908366536\n",
            "32 0.4306772908366534\n",
            "20 0.850199203187251\n",
            "16 0.3422310756972112\n",
            "5 0.43824701195219123\n",
            "15 0.9247011952191235\n",
            "25 0.7035856573705179\n",
            "42 0.4593625498007968\n",
            "8 0.7079681274900398\n",
            "21 0.7195219123505976\n",
            "22 0.5832669322709163\n",
            "12 0.9282868525896414\n",
            "14 0.7075697211155378\n",
            "2 0.48406374501992033\n",
            "13 0.698406374501992\n",
            "50 0.4346613545816733\n",
            "11 0.6992031872509961\n",
            "31.79222869873047\n",
            "Best score=0.9283\n",
            "Best parameters: n_clusters=12\n"
          ]
        }
      ],
      "source": [
        "#Hyperparameter optimization by BO-GP\n",
        "from skopt.space import Real, Integer\n",
        "from skopt.utils import use_named_args\n",
        "from sklearn import metrics\n",
        "\n",
        "space  = [Integer(2, 50, name='n_clusters')]\n",
        "@use_named_args(space)\n",
        "def objective(**params):\n",
        "    km_cluster = MiniBatchKMeans(batch_size=100, **params)\n",
        "    n=params['n_clusters']\n",
        "\n",
        "    result = km_cluster.fit_predict(X_train)\n",
        "    result2 = km_cluster.predict(X_test)\n",
        "\n",
        "    count=0\n",
        "    a=np.zeros(n)\n",
        "    b=np.zeros(n)\n",
        "    for v in range(0,n):\n",
        "        for i in range(0,len(y_train)):\n",
        "            if result[i]==v:\n",
        "                if y_train[i]==1:\n",
        "                    a[v]=a[v]+1\n",
        "                else:\n",
        "                    b[v]=b[v]+1\n",
        "    list1=[]\n",
        "    list2=[]\n",
        "    for v in range(0,n):\n",
        "        if a[v]<=b[v]:\n",
        "            list1.append(v)\n",
        "        else:\n",
        "            list2.append(v)\n",
        "    for v in range(0,len(y_test)):\n",
        "        if result2[v] in list1:\n",
        "            result2[v]=0\n",
        "        elif result2[v] in list2:\n",
        "            result2[v]=1\n",
        "        else:\n",
        "            print(\"-1\")\n",
        "    cm=metrics.accuracy_score(y_test,result2)\n",
        "    print(str(n)+\" \"+str(cm))\n",
        "    return (1-cm)\n",
        "from skopt import gp_minimize\n",
        "import time\n",
        "t1=time.time()\n",
        "res_gp = gp_minimize(objective, space, n_calls=20, random_state=0)\n",
        "t2=time.time()\n",
        "print(t2-t1)\n",
        "print(\"Best score=%.4f\" % (1-res_gp.fun))\n",
        "print(\"\"\"Best parameters: n_clusters=%d\"\"\" % (res_gp.x[0]))"
      ]
    },
    {
      "cell_type": "code",
      "execution_count": null,
      "metadata": {},
      "outputs": [
        {
          "name": "stdout",
          "output_type": "stream",
          "text": [
            "37 0.4199203187250996                                 \n",
            "21 0.7175298804780876                                                           \n",
            "7 0.46215139442231074                                                            \n",
            "41 0.6274900398406374                                                            \n",
            "7 0.4545816733067729                                                             \n",
            "35 0.6729083665338645                                                            \n",
            "38 0.6410358565737052                                                            \n",
            "8 0.46613545816733065                                                            \n",
            "47 0.6354581673306773                                                            \n",
            "12 0.902788844621514                                                             \n",
            "16 0.9509960159362549                                                             \n",
            "39 0.6752988047808764                                                              \n",
            "17 0.44262948207171315                                                             \n",
            "36 0.6370517928286853                                                              \n",
            "48 0.4306772908366534                                                              \n",
            "31 0.3565737051792829                                                              \n",
            "9 0.6788844621513944                                                               \n",
            "33 0.4792828685258964                                                              \n",
            "16 0.6916334661354582                                                              \n",
            "41 0.38605577689243026                                                             \n",
            "100%|██████████| 20/20 [00:06<00:00,  3.33trial/s, best loss: 0.049003984063745065]\n",
            "Random Forest: Hyperopt estimated optimum {'n_clusters': 16.0}\n"
          ]
        }
      ],
      "source": [
        "#Hyperparameter optimization by BO-TPE\n",
        "from hyperopt import hp, fmin, tpe, STATUS_OK, Trials\n",
        "from sklearn.model_selection import cross_val_score, StratifiedKFold\n",
        "from sklearn.cluster import MiniBatchKMeans\n",
        "from sklearn import metrics\n",
        "\n",
        "def objective(params):\n",
        "    params = {\n",
        "        'n_clusters': int(params['n_clusters']),\n",
        "    }\n",
        "    km_cluster = MiniBatchKMeans(batch_size=100, **params)\n",
        "    n=params['n_clusters']\n",
        "\n",
        "    result = km_cluster.fit_predict(X_train)\n",
        "    result2 = km_cluster.predict(X_test)\n",
        "\n",
        "    count=0\n",
        "    a=np.zeros(n)\n",
        "    b=np.zeros(n)\n",
        "    for v in range(0,n):\n",
        "        for i in range(0,len(y_train)):\n",
        "            if result[i]==v:\n",
        "                if y_train[i]==1:\n",
        "                    a[v]=a[v]+1\n",
        "                else:\n",
        "                    b[v]=b[v]+1\n",
        "    list1=[]\n",
        "    list2=[]\n",
        "    for v in range(0,n):\n",
        "        if a[v]<=b[v]:\n",
        "            list1.append(v)\n",
        "        else:\n",
        "            list2.append(v)\n",
        "    for v in range(0,len(y_test)):\n",
        "        if result2[v] in list1:\n",
        "            result2[v]=0\n",
        "        elif result2[v] in list2:\n",
        "            result2[v]=1\n",
        "        else:\n",
        "            print(\"-1\")\n",
        "    score=metrics.accuracy_score(y_test,result2)\n",
        "    print(str(params['n_clusters'])+\" \"+str(score))\n",
        "    return {'loss':1-score, 'status': STATUS_OK }\n",
        "space = {\n",
        "    'n_clusters': hp.quniform('n_clusters', 2, 50, 1),\n",
        "}\n",
        "\n",
        "best = fmin(fn=objective,\n",
        "            space=space,\n",
        "            algo=tpe.suggest,\n",
        "            max_evals=20)\n",
        "print(\"Random Forest: Hyperopt estimated optimum {}\".format(best))"
      ]
    },
    {
      "cell_type": "code",
      "execution_count": null,
      "metadata": {},
      "outputs": [
        {
          "name": "stdout",
          "output_type": "stream",
          "text": [
            "              precision    recall  f1-score   support\n",
            "\n",
            "           0       1.00      0.89      0.94      1255\n",
            "           1       0.90      1.00      0.95      1255\n",
            "\n",
            "    accuracy                           0.95      2510\n",
            "   macro avg       0.95      0.95      0.94      2510\n",
            "weighted avg       0.95      0.95      0.94      2510\n",
            "\n",
            "0.9450199203187251\n",
            "[[1120  135]\n",
            " [   3 1252]]\n"
          ]
        }
      ],
      "source": [
        "CL_kmeans(X_train, X_test, y_train, y_test, 17)"
      ]
    },
    {
      "cell_type": "markdown",
      "metadata": {},
      "source": [
        "## **Modified Binary Grey Wolf Optimization**"
      ]
    },
    {
      "cell_type": "code",
      "execution_count": null,
      "metadata": {},
      "outputs": [
        {
          "name": "stderr",
          "output_type": "stream",
          "text": [
            "\n",
            "[notice] A new release of pip is available: 24.0 -> 25.2\n",
            "[notice] To update, run: python.exe -m pip install --upgrade pip\n",
            "2025/08/31 07:41:18 PM, INFO, mealpy.swarm_based.GWO.OriginalGWO: OriginalGWO(epoch=1, pop_size=5)\n",
            "2025/08/31 07:41:18 PM, INFO, mealpy.swarm_based.GWO.OriginalGWO: >>>Problem: P, Epoch: 1, Current best: 1.0, Global best: 1.0, Runtime: 0.00227 seconds\n"
          ]
        },
        {
          "name": "stdout",
          "output_type": "stream",
          "text": [
            " Grey Wolf Optimization ran successfully!\n",
            "Best solution found: [0. 1. 1. 1. 0.]\n",
            "Best score: Objectives: [1.], Fitness: 1.0\n"
          ]
        }
      ],
      "source": [
        "## Grey Wolf optimization basic logic\n",
        "\n",
        "!pip install -q --upgrade mealpy\n",
        "\n",
        "from mealpy.swarm_based.GWO import OriginalGWO\n",
        "from mealpy.utils.problem import Problem\n",
        "from mealpy.utils.space import BinaryVar\n",
        "\n",
        "class MySimpleProblem(Problem):\n",
        "    def __init__(self):\n",
        "        bounds = [BinaryVar() for _ in range(5)]\n",
        "        super().__init__(fit_func=None, bounds=bounds, minmax=\"min\")\n",
        "\n",
        "    def obj_func(self, solution):\n",
        "        return 1.0\n",
        "problem = MySimpleProblem()\n",
        "\n",
        "# Run Grey Wolf Optimizer\n",
        "model = OriginalGWO(epoch=1, pop_size=5)\n",
        "best_agent = model.solve(problem)\n",
        "\n",
        "print(\" Grey Wolf Optimization ran successfully!\")\n",
        "print(\"Best solution found:\", best_agent.solution)\n",
        "print(\"Best score:\", best_agent.target)\n"
      ]
    },
    {
      "cell_type": "code",
      "execution_count": null,
      "metadata": {},
      "outputs": [],
      "source": [
        "# ==========================================\n",
        "# IDS – Baseline RF vs MBGWO + RF (CICIDS2017)\n",
        "# ==========================================\n",
        "# Requirements:\n",
        "# pip install mealpy scikit-learn seaborn matplotlib pandas numpy\n",
        "\n",
        "import numpy as np\n",
        "import pandas as pd\n",
        "import warnings\n",
        "warnings.filterwarnings(\"ignore\")\n",
        "\n",
        "# ----------------------------\n",
        "# 0) CONFIG\n",
        "# ----------------------------\n",
        "CSV_PATH = \"./data/CICIDS2017_sample_km.csv\"    \n",
        "TARGET   = \"Label\"\n",
        "RANDOM_SEED = 42\n",
        "\n",
        "# MBGWO hyperparams\n",
        "EPOCHS   = 20\n",
        "POP_SIZE = 20\n",
        "ALPHA    = 0.99   # weight on accuracy vs (1 - feature_ratio)\n"
      ]
    },
    {
      "cell_type": "code",
      "execution_count": null,
      "metadata": {},
      "outputs": [],
      "source": [
        "# ----------------------------\n",
        "# 1) LOAD / PREP DATAFRAME\n",
        "# ----------------------------\n",
        "if \"df\" not in globals():\n",
        "    if CSV_PATH is None:\n",
        "        raise RuntimeError(\"Set CSV_PATH to your dataset path, or define `df` beforehand.\")\n",
        "    df = pd.read_csv(CSV_PATH)\n",
        "\n",
        "# Keep only numeric + target, handle categorical target\n",
        "from sklearn.preprocessing import LabelEncoder\n",
        "df = df.copy()\n",
        "\n",
        "# Clean inf/nan\n",
        "df = df.replace([np.inf, -np.inf], np.nan).dropna()\n",
        "\n",
        "# Ensure target exists\n",
        "if TARGET not in df.columns:\n",
        "    raise ValueError(f\"TARGET '{TARGET}' not found in columns: {list(df.columns)[:10]}...\")\n",
        "\n",
        "# If target not numeric, encode to ints but preserve original labels for display\n",
        "y_raw = df[TARGET]\n",
        "if not np.issubdtype(df[TARGET].dtype, np.number):\n",
        "    le = LabelEncoder()\n",
        "    y = le.fit_transform(y_raw)\n",
        "    class_names = le.classes_\n",
        "else:\n",
        "    y = df[TARGET].astype(int).values\n",
        "    class_names = np.unique(y).astype(str)\n",
        "\n",
        "X_df = df.drop(columns=[TARGET])\n",
        "# Ensure all features are numeric\n",
        "X_df = X_df.select_dtypes(include=[np.number])\n",
        "feature_names = X_df.columns.to_list()\n",
        "X = X_df.values"
      ]
    },
    {
      "cell_type": "code",
      "execution_count": null,
      "metadata": {},
      "outputs": [],
      "source": [
        "# ----------------------------\n",
        "# 2) TRAIN / TEST SPLIT + SCALING\n",
        "# ----------------------------\n",
        "from sklearn.model_selection import train_test_split\n",
        "from sklearn.preprocessing import StandardScaler\n",
        "\n",
        "X_train, X_test, y_train, y_test = train_test_split(\n",
        "    X, y, test_size=0.2, stratify=y, random_state=RANDOM_SEED\n",
        ")\n",
        "\n",
        "scaler = StandardScaler()\n",
        "X_train = scaler.fit_transform(X_train)\n",
        "X_test  = scaler.transform(X_test)"
      ]
    },
    {
      "cell_type": "code",
      "execution_count": null,
      "metadata": {},
      "outputs": [],
      "source": [
        "# ----------------------------\n",
        "# Helpers: metrics & plots\n",
        "# ----------------------------\n",
        "from sklearn.metrics import (accuracy_score, precision_score, recall_score, f1_score, \n",
        "                             roc_auc_score, confusion_matrix, ConfusionMatrixDisplay)\n",
        "import matplotlib.pyplot as plt\n",
        "import seaborn as sns\n",
        "\n",
        "def eval_metrics(clf, X_tr, y_tr, X_te, y_te, model_name=\"Model\", plot_cm=True):\n",
        "    y_pred = clf.predict(X_te)\n",
        "    acc = accuracy_score(y_te, y_pred)\n",
        "    prec = precision_score(y_te, y_pred, average=\"weighted\", zero_division=0)\n",
        "    rec = recall_score(y_te, y_pred, average=\"weighted\", zero_division=0)\n",
        "    f1 = f1_score(y_te, y_pred, average=\"weighted\")\n",
        "\n",
        "    # AUC (robust for binary / multiclass)\n",
        "    if hasattr(clf, \"predict_proba\"):\n",
        "        y_proba = clf.predict_proba(X_te)\n",
        "        if len(np.unique(y_te)) > 2:\n",
        "            auc_val = roc_auc_score(y_te, y_proba, multi_class=\"ovr\", average=\"weighted\")\n",
        "        else:\n",
        "            auc_val = roc_auc_score(y_te, y_proba[:, 1])\n",
        "    else:\n",
        "        auc_val = np.nan\n",
        "\n",
        "    print(f\"\\n=== {model_name} ===\")\n",
        "    from sklearn.metrics import classification_report\n",
        "    print(classification_report(y_te, y_pred, target_names=[str(c) for c in np.unique(y_te)]))\n",
        "    print({ \"Accuracy\": acc, \"Precision\": prec, \"Recall\": rec, \"F1\": f1, \"AUC\": auc_val })\n",
        "\n",
        "    if plot_cm:\n",
        "        cm = confusion_matrix(y_te, y_pred)\n",
        "        fig, ax = plt.subplots(figsize=(5,5))\n",
        "        ConfusionMatrixDisplay(cm, display_labels=np.unique(y_te)).plot(ax=ax, cmap=\"Blues\", colorbar=False)\n",
        "        ax.set_title(f\"Confusion Matrix – {model_name}\")\n",
        "        plt.tight_layout()\n",
        "        plt.show()\n",
        "\n",
        "    return {\"Accuracy\": acc, \"Precision\": prec, \"Recall\": rec, \"F1\": f1, \"AUC\": auc_val, \"y_pred\": y_pred}\n",
        "\n",
        "def plot_roc_curves(clf, X_te, y_te, title=\"ROC Curves\"):\n",
        "    if not hasattr(clf, \"predict_proba\"):\n",
        "        return\n",
        "    y_score = clf.predict_proba(X_te)\n",
        "    classes = np.unique(y_te)\n",
        "\n",
        "    plt.figure(figsize=(6,5))\n",
        "    if len(classes) > 2:\n",
        "        # Multiclass OvR\n",
        "        from sklearn.preprocessing import label_binarize\n",
        "        y_bin = label_binarize(y_te, classes=classes)\n",
        "        for i, c in enumerate(classes):\n",
        "            from sklearn.metrics import roc_curve, auc\n",
        "            fpr, tpr, _ = roc_curve(y_bin[:, i], y_score[:, i])\n",
        "            roc_auc = auc(fpr, tpr)\n",
        "            plt.plot(fpr, tpr, lw=2, label=f\"Class {c} (AUC={roc_auc:.2f})\")\n",
        "    else:\n",
        "        from sklearn.metrics import roc_curve, auc\n",
        "        fpr, tpr, _ = roc_curve(y_te, y_score[:, 1])\n",
        "        roc_auc = auc(fpr, tpr)\n",
        "        plt.plot(fpr, tpr, lw=2, label=f\"AUC={roc_auc:.2f}\")\n",
        "\n",
        "    plt.plot([0,1], [0,1], 'k--', lw=1)\n",
        "    plt.xlabel(\"False Positive Rate\")\n",
        "    plt.ylabel(\"True Positive Rate\")\n",
        "    plt.title(title)\n",
        "    plt.legend(loc=\"lower right\")\n",
        "    plt.tight_layout()\n",
        "    plt.show()"
      ]
    },
    {
      "cell_type": "code",
      "execution_count": null,
      "metadata": {},
      "outputs": [
        {
          "name": "stdout",
          "output_type": "stream",
          "text": [
            "\n",
            "=== Random Forest (All Features) ===\n",
            "              precision    recall  f1-score   support\n",
            "\n",
            "           0       0.99      1.00      1.00      3896\n",
            "           1       0.99      0.99      0.99      1715\n",
            "\n",
            "    accuracy                           0.99      5611\n",
            "   macro avg       0.99      0.99      0.99      5611\n",
            "weighted avg       0.99      0.99      0.99      5611\n",
            "\n",
            "{'Accuracy': 0.9937622527178755, 'Precision': 0.9937587393132624, 'Recall': 0.9937622527178755, 'F1': 0.9937586740012259, 'AUC': 0.9983824330553577}\n"
          ]
        },
        {
          "data": {
            "image/png": "[encoded data removed]",
            "text/plain": [
              "<Figure size 500x500 with 1 Axes>"
            ]
          },
          "metadata": {},
          "output_type": "display_data"
        }
      ],
      "source": [
        "# ----------------------------\n",
        "# 3) BASELINE RF (ALL FEATURES)\n",
        "# ----------------------------\n",
        "from sklearn.ensemble import RandomForestClassifier\n",
        "\n",
        "rf_base = RandomForestClassifier(n_estimators=100, random_state=RANDOM_SEED)\n",
        "rf_base.fit(X_train, y_train)\n",
        "\n",
        "baseline_res = eval_metrics(rf_base, X_train, y_train, X_test, y_test, \n",
        "                            model_name=\"Random Forest (All Features)\", plot_cm=True)\n",
        "\n"
      ]
    },
    {
      "cell_type": "code",
      "execution_count": null,
      "metadata": {},
      "outputs": [
        {
          "name": "stderr",
          "output_type": "stream",
          "text": [
            "2025/08/31 07:41:28 PM, INFO, mealpy.swarm_based.GWO.OriginalGWO: OriginalGWO(epoch=20, pop_size=20)\n"
          ]
        },
        {
          "name": "stdout",
          "output_type": "stream",
          "text": [
            "Running MBGWO: epoch=20, pop_size=20, alpha=0.99\n"
          ]
        },
        {
          "name": "stderr",
          "output_type": "stream",
          "text": [
            "2025/08/31 07:42:05 PM, INFO, mealpy.swarm_based.GWO.OriginalGWO: >>>Problem: FS-IDS, Epoch: 1, Current best: 0.9890709562257066, Global best: 0.9890709562257066, Runtime: 0.00881 seconds\n",
            "2025/08/31 07:42:05 PM, INFO, mealpy.swarm_based.GWO.OriginalGWO: >>>Problem: FS-IDS, Epoch: 2, Current best: 0.9890709562257066, Global best: 0.9890709562257066, Runtime: 0.01620 seconds\n",
            "2025/08/31 07:42:05 PM, INFO, mealpy.swarm_based.GWO.OriginalGWO: >>>Problem: FS-IDS, Epoch: 3, Current best: 0.9890709562257066, Global best: 0.9890709562257066, Runtime: 0.02258 seconds\n",
            "2025/08/31 07:42:05 PM, INFO, mealpy.swarm_based.GWO.OriginalGWO: >>>Problem: FS-IDS, Epoch: 4, Current best: 0.9890709562257066, Global best: 0.9890709562257066, Runtime: 0.01117 seconds\n",
            "2025/08/31 07:42:05 PM, INFO, mealpy.swarm_based.GWO.OriginalGWO: >>>Problem: FS-IDS, Epoch: 5, Current best: 0.9890709562257066, Global best: 0.9890709562257066, Runtime: 0.01226 seconds\n",
            "2025/08/31 07:42:05 PM, INFO, mealpy.swarm_based.GWO.OriginalGWO: >>>Problem: FS-IDS, Epoch: 6, Current best: 0.9890709562257066, Global best: 0.9890709562257066, Runtime: 0.01124 seconds\n",
            "2025/08/31 07:42:05 PM, INFO, mealpy.swarm_based.GWO.OriginalGWO: >>>Problem: FS-IDS, Epoch: 7, Current best: 0.9890709562257066, Global best: 0.9890709562257066, Runtime: 0.01355 seconds\n",
            "2025/08/31 07:42:05 PM, INFO, mealpy.swarm_based.GWO.OriginalGWO: >>>Problem: FS-IDS, Epoch: 8, Current best: 0.9890709562257066, Global best: 0.9890709562257066, Runtime: 0.01094 seconds\n",
            "2025/08/31 07:42:05 PM, INFO, mealpy.swarm_based.GWO.OriginalGWO: >>>Problem: FS-IDS, Epoch: 9, Current best: 0.9890709562257066, Global best: 0.9890709562257066, Runtime: 0.01184 seconds\n",
            "2025/08/31 07:42:05 PM, INFO, mealpy.swarm_based.GWO.OriginalGWO: >>>Problem: FS-IDS, Epoch: 10, Current best: 0.9890709562257066, Global best: 0.9890709562257066, Runtime: 0.01012 seconds\n",
            "2025/08/31 07:42:05 PM, INFO, mealpy.swarm_based.GWO.OriginalGWO: >>>Problem: FS-IDS, Epoch: 11, Current best: 0.9890709562257066, Global best: 0.9890709562257066, Runtime: 0.01106 seconds\n",
            "2025/08/31 07:42:05 PM, INFO, mealpy.swarm_based.GWO.OriginalGWO: >>>Problem: FS-IDS, Epoch: 12, Current best: 0.9890709562257066, Global best: 0.9890709562257066, Runtime: 0.01231 seconds\n",
            "2025/08/31 07:42:05 PM, INFO, mealpy.swarm_based.GWO.OriginalGWO: >>>Problem: FS-IDS, Epoch: 13, Current best: 0.9890709562257066, Global best: 0.9890709562257066, Runtime: 0.01498 seconds\n",
            "2025/08/31 07:42:05 PM, INFO, mealpy.swarm_based.GWO.OriginalGWO: >>>Problem: FS-IDS, Epoch: 14, Current best: 0.9890709562257066, Global best: 0.9890709562257066, Runtime: 0.01689 seconds\n",
            "2025/08/31 07:42:05 PM, INFO, mealpy.swarm_based.GWO.OriginalGWO: >>>Problem: FS-IDS, Epoch: 15, Current best: 0.9890709562257066, Global best: 0.9890709562257066, Runtime: 0.01731 seconds\n",
            "2025/08/31 07:42:05 PM, INFO, mealpy.swarm_based.GWO.OriginalGWO: >>>Problem: FS-IDS, Epoch: 16, Current best: 0.9890709562257066, Global best: 0.9890709562257066, Runtime: 0.01869 seconds\n",
            "2025/08/31 07:42:05 PM, INFO, mealpy.swarm_based.GWO.OriginalGWO: >>>Problem: FS-IDS, Epoch: 17, Current best: 0.9890709562257066, Global best: 0.9890709562257066, Runtime: 0.01482 seconds\n",
            "2025/08/31 07:42:05 PM, INFO, mealpy.swarm_based.GWO.OriginalGWO: >>>Problem: FS-IDS, Epoch: 18, Current best: 0.9890709562257066, Global best: 0.9890709562257066, Runtime: 0.01937 seconds\n",
            "2025/08/31 07:42:05 PM, INFO, mealpy.swarm_based.GWO.OriginalGWO: >>>Problem: FS-IDS, Epoch: 19, Current best: 0.9890709562257066, Global best: 0.9890709562257066, Runtime: 0.01638 seconds\n",
            "2025/08/31 07:42:31 PM, INFO, mealpy.swarm_based.GWO.OriginalGWO: >>>Problem: FS-IDS, Epoch: 20, Current best: 0.9914281675545994, Global best: 0.9914281675545994, Runtime: 26.33625 seconds\n"
          ]
        },
        {
          "name": "stdout",
          "output_type": "stream",
          "text": [
            "✅ MBGWO Finished!\n",
            "Best Fitness Score: id: 5798, target: Objectives: [0.99142817], Fitness: 0.9914281675545994, solution: [1.         1.         0.         1.         1.         0.\n",
            " 0.66666667 0.         0.33333333 0.33333333 0.33333333 0.66666667\n",
            " 0.66666667 0.33333333 0.66666667 0.33333333 1.         0.33333333\n",
            " 0.66666667 0.66666667 1.         1.         0.33333333 1.\n",
            " 0.         0.66666667 0.33333333 0.33333333 1.         0.33333333\n",
            " 0.33333333 0.66666667 0.66666667 0.66666667 0.66666667 0.\n",
            " 0.         0.66666667 0.         0.66666667 1.         0.66666667\n",
            " 0.33333333 0.         1.         0.         0.         0.33333333\n",
            " 0.66666667 0.33333333 0.33333333 0.66666667 0.66666667 0.66666667\n",
            " 0.         0.66666667 0.33333333 0.         0.66666667 0.66666667\n",
            " 0.66666667 0.33333333 0.33333333 0.33333333 0.33333333 1.\n",
            " 0.66666667 0.66666667 0.         0.33333333 0.66666667 0.\n",
            " 0.66666667 0.         0.         0.         0.66666667]\n",
            "Number of Selected Features: 12\n",
            "Selected Feature Indexes: [0, 1, 3, 4, 16, 20, 21, 23, 28, 40, 44, 65]\n"
          ]
        }
      ],
      "source": [
        "# ----------------------------\n",
        "# 4) MBGWO FEATURE SELECTION (mealpy)\n",
        "# ----------------------------\n",
        "from mealpy.swarm_based.GWO import OriginalGWO\n",
        "from mealpy.utils.problem import Problem\n",
        "from mealpy.utils.space import BinaryVar\n",
        "from sklearn.model_selection import StratifiedKFold, cross_val_score\n",
        "\n",
        "class FeatureSelectionProblem(Problem):\n",
        "    def __init__(self, X, y, alpha=0.99, seed=RANDOM_SEED):\n",
        "        self.X = X\n",
        "        self.y = y\n",
        "        self.alpha = alpha\n",
        "        bounds = [BinaryVar() for _ in range(X.shape[1])]   # binary variables\n",
        "        super().__init__(bounds=bounds, minmax=\"max\", name=\"FS-IDS\", seed=seed)\n",
        "\n",
        "    def obj_func(self, sol):\n",
        "        cols = [i for i, bit in enumerate(sol) if bit == 1]\n",
        "        if len(cols) == 0:\n",
        "            return 0.0\n",
        "        Xs = self.X[:, cols]\n",
        "        # lightweight RF + 3-fold CV to avoid overfitting during selection\n",
        "        clf = RandomForestClassifier(n_estimators=50, random_state=RANDOM_SEED, n_jobs=-1)\n",
        "        cv = StratifiedKFold(n_splits=3, shuffle=True, random_state=RANDOM_SEED)\n",
        "        acc = cross_val_score(clf, Xs, self.y, cv=cv, scoring='accuracy').mean()\n",
        "        size_term = 1.0 - (len(cols) / self.X.shape[1])\n",
        "        return self.alpha * acc + (1 - self.alpha) * size_term\n",
        "\n",
        "print(f\"Running MBGWO: epoch={EPOCHS}, pop_size={POP_SIZE}, alpha={ALPHA}\")\n",
        "problem = FeatureSelectionProblem(X_train, y_train, alpha=ALPHA, seed=RANDOM_SEED)\n",
        "gwo = OriginalGWO(epoch=EPOCHS, pop_size=POP_SIZE)\n",
        "best_agent = gwo.solve(problem)\n",
        "\n",
        "mask = np.array(best_agent.solution).astype(int)\n",
        "selected_features = np.where(mask == 1)[0].tolist()\n",
        "print(\"✅ MBGWO Finished!\")\n",
        "print(f\"Best Fitness Score: {best_agent}\")\n",
        "print(f\"Number of Selected Features: {len(selected_features)}\")\n",
        "print(f\"Selected Feature Indexes: {selected_features}\")"
      ]
    },
    {
      "cell_type": "code",
      "execution_count": null,
      "metadata": {},
      "outputs": [
        {
          "name": "stdout",
          "output_type": "stream",
          "text": [
            "\n",
            "=== Random Forest + MBGWO ===\n",
            "              precision    recall  f1-score   support\n",
            "\n",
            "           0       0.99      1.00      1.00      3896\n",
            "           1       1.00      0.99      0.99      1715\n",
            "\n",
            "    accuracy                           0.99      5611\n",
            "   macro avg       0.99      0.99      0.99      5611\n",
            "weighted avg       0.99      0.99      0.99      5611\n",
            "\n",
            "{'Accuracy': 0.994475138121547, 'Precision': 0.9944782791833937, 'Recall': 0.994475138121547, 'F1': 0.9944683120610559, 'AUC': 0.9990929622068834}\n"
          ]
        },
        {
          "data": {
            "image/png": "[encoded data removed]",
            "text/plain": [
              "<Figure size 500x500 with 1 Axes>"
            ]
          },
          "metadata": {},
          "output_type": "display_data"
        }
      ],
      "source": [
        "# ----------------------------\n",
        "# 5) RF on MBGWO-SELECTED FEATURES\n",
        "# ----------------------------\n",
        "if len(selected_features) == 0:\n",
        "    raise RuntimeError(\"MBGWO selected 0 features. Consider lowering ALPHA or increasing EPOCHS/POP_SIZE.\")\n",
        "\n",
        "X_train_sel = X_train[:, selected_features]\n",
        "X_test_sel  = X_test[:, selected_features]\n",
        "\n",
        "rf_sel = RandomForestClassifier(n_estimators=100, random_state=RANDOM_SEED)\n",
        "rf_sel.fit(X_train_sel, y_train)\n",
        "\n",
        "mbgwo_res = eval_metrics(rf_sel, X_train_sel, y_train, X_test_sel, y_test, \n",
        "                         model_name=\"Random Forest + MBGWO\", plot_cm=True)\n"
      ]
    },
    {
      "cell_type": "code",
      "execution_count": null,
      "metadata": {},
      "outputs": [
        {
          "name": "stdout",
          "output_type": "stream",
          "text": [
            "\n",
            "=== Comparison ===\n",
            "                          Model  Accuracy  Precision    Recall        F1  \\\n",
            "0  Random Forest (All Features)  0.993762   0.993759  0.993762  0.993759   \n",
            "1         Random Forest + MBGWO  0.994475   0.994478  0.994475  0.994468   \n",
            "\n",
            "        AUC  \n",
            "0  0.998382  \n",
            "1  0.999093  \n"
          ]
        }
      ],
      "source": [
        "# ----------------------------\n",
        "# 6) COMPARISON TABLE\n",
        "# ----------------------------\n",
        "comparison = pd.DataFrame([\n",
        "    {\"Model\": \"Random Forest (All Features)\",\n",
        "     \"Accuracy\": baseline_res[\"Accuracy\"],\n",
        "     \"Precision\": baseline_res[\"Precision\"],\n",
        "     \"Recall\": baseline_res[\"Recall\"],\n",
        "     \"F1\": baseline_res[\"F1\"],\n",
        "     \"AUC\": baseline_res[\"AUC\"]},\n",
        "    {\"Model\": \"Random Forest + MBGWO\",\n",
        "     \"Accuracy\": mbgwo_res[\"Accuracy\"],\n",
        "     \"Precision\": mbgwo_res[\"Precision\"],\n",
        "     \"Recall\": mbgwo_res[\"Recall\"],\n",
        "     \"F1\": mbgwo_res[\"F1\"],\n",
        "     \"AUC\": mbgwo_res[\"AUC\"]}\n",
        "])\n",
        "print(\"\\n=== Comparison ===\")\n",
        "print(comparison)"
      ]
    },
    {
      "cell_type": "markdown",
      "metadata": {},
      "source": [
        "### Logistic Regression + PCA"
      ]
    },
    {
      "cell_type": "code",
      "execution_count": null,
      "metadata": {},
      "outputs": [],
      "source": [
        "from sklearn.decomposition import PCA\n",
        "from sklearn.linear_model import LogisticRegression\n",
        "pca = PCA(n_components=10)\n",
        "X_train_pca = pca.fit_transform(X_train)\n",
        "X_test_pca = pca.transform(X_test)\n",
        "\n",
        "lr = LogisticRegression(max_iter=2000, random_state=42)\n",
        "lr.fit(X_train_pca, y_train)\n",
        "y_pred_lr = lr.predict(X_test_pca)\n",
        "y_prob_lr = lr.predict_proba(X_test_pca)[:,1]\n",
        "\n",
        "lr_results = {\n",
        "    \"Accuracy\": accuracy_score(y_test, y_pred_lr),\n",
        "    \"Precision\": precision_score(y_test, y_pred_lr, average=\"weighted\"),\n",
        "    \"Recall\": recall_score(y_test, y_pred_lr, average=\"weighted\"),\n",
        "    \"F1\": f1_score(y_test, y_pred_lr, average=\"weighted\"),\n",
        "    \"AUC\": roc_auc_score(y_test, y_prob_lr, multi_class=\"ovr\")\n",
        "}"
      ]
    },
    {
      "cell_type": "code",
      "execution_count": null,
      "metadata": {},
      "outputs": [
        {
          "name": "stdout",
          "output_type": "stream",
          "text": [
            "\n",
            "=== Comparison ===\n",
            "                          Model  Accuracy  Precision    Recall        F1  \\\n",
            "0  Random Forest (All Features)  0.993762   0.993759  0.993762  0.993759   \n",
            "1     Logistic Regression + PCA  0.826234   0.822862  0.826234  0.817692   \n",
            "2         Random Forest + MBGWO  0.994475   0.994478  0.994475  0.994468   \n",
            "\n",
            "        AUC  \n",
            "0  0.998382  \n",
            "1  0.848745  \n",
            "2  0.999093  \n"
          ]
        }
      ],
      "source": [
        "# ----------------------------\n",
        "#  COMPARISON TABLE FOR ALL MODELS\n",
        "# ----------------------------\n",
        "comparison = pd.DataFrame([\n",
        "    {\"Model\": \"Random Forest (All Features)\",\n",
        "     \"Accuracy\": baseline_res[\"Accuracy\"],\n",
        "     \"Precision\": baseline_res[\"Precision\"],\n",
        "     \"Recall\": baseline_res[\"Recall\"],\n",
        "     \"F1\": baseline_res[\"F1\"],\n",
        "     \"AUC\": baseline_res[\"AUC\"]},\n",
        "     {\"Model\": \"Logistic Regression + PCA\",\n",
        "     \"Accuracy\": lr_results[\"Accuracy\"],\n",
        "     \"Precision\": lr_results[\"Precision\"],\n",
        "     \"Recall\": lr_results[\"Recall\"],\n",
        "     \"F1\": lr_results[\"F1\"],\n",
        "     \"AUC\": lr_results[\"AUC\"]},\n",
        "    {\"Model\": \"Random Forest + MBGWO\",\n",
        "     \"Accuracy\": mbgwo_res[\"Accuracy\"],\n",
        "     \"Precision\": mbgwo_res[\"Precision\"],\n",
        "     \"Recall\": mbgwo_res[\"Recall\"],\n",
        "     \"F1\": mbgwo_res[\"F1\"],\n",
        "     \"AUC\": mbgwo_res[\"AUC\"]}\n",
        "])\n",
        "print(\"\\n=== Comparison ===\")\n",
        "print(comparison)"
      ]
    }
  ],
  "metadata": {
    "anaconda-cloud": {},
    "colab": {
      "provenance": []
    },
    "kernelspec": {
      "display_name": "Python 3",
      "language": "python",
      "name": "python3"
    },
    "language_info": {
      "codemirror_mode": {
        "name": "ipython",
        "version": 3
      },
      "file_extension": ".py",
      "mimetype": "text/x-python",
      "name": "python",
      "nbconvert_exporter": "python",
      "pygments_lexer": "ipython3",
      "version": "3.11.9"
    }
  },
  "nbformat": 4,
  "nbformat_minor": 0
}
