{
  "cells": [
    {
      "cell_type": "markdown",
      "metadata": {
        "id": "wo4XBa3MEBmx"
      },
      "source": [
        "# **Optional Tuning Process**"
      ]
    },
    {
      "cell_type": "markdown",
      "metadata": {},
      "source": [
        "This notebook explores the performance of advanced ensemble classifiers—LightGBM, CatBoost, and XGBoost—on the sampled CICIDS2017 dataset for intrusion detection.\n",
        "\n",
        "It serves as an extension to the main MBGWO-RF notebook by benchmarking alternative models using standard evaluation metrics. Basic GWO setup is included for potential tuning in future work.\n"
      ]
    },
    {
      "cell_type": "markdown",
      "metadata": {
        "id": "Mdgwa54_EBm1"
      },
      "source": [
        "#### Import libraries"
      ]
    },
    {
      "cell_type": "code",
      "execution_count": 37,
      "metadata": {
        "id": "PDm7MFIIEBm2"
      },
      "outputs": [],
      "source": [
        "import warnings\n",
        "warnings.filterwarnings(\"ignore\")"
      ]
    },
    {
      "cell_type": "code",
      "execution_count": 38,
      "metadata": {
        "id": "SPe9edCBEBm4"
      },
      "outputs": [],
      "source": [
        "import pandas as pd\n",
        "import numpy as np\n",
        "import matplotlib.pyplot as plt\n",
        "import seaborn as sns\n",
        "from sklearn.model_selection import train_test_split\n",
        "from sklearn.metrics import classification_report,confusion_matrix,accuracy_score, precision_score, recall_score, f1_score\n",
        "import lightgbm as lgb\n",
        "import catboost as cbt\n",
        "import xgboost as xgb\n",
        "import time\n",
        "from river import stream\n",
        "from statistics import mode"
      ]
    },
    {
      "cell_type": "markdown",
      "metadata": {
        "id": "VabizuQLEBm5"
      },
      "source": [
        "#### Read the sampled CICIDS2017 dataset\n",
        "The CICIDS2017 dataset is publicly available at: https://www.unb.ca/cic/datasets/ids-2017.html  \n",
        "Due to the large size of this dataset, the sampled subsets of CICIDS2017 is used. The subsets are in the \"data\" folder.  \n",
        "If you want to use this code on other datasets (e.g., CAN-intrusion dataset), just change the dataset name and follow the same steps. The models in this code are generic models that can be used in any intrusion detection/network traffic datasets."
      ]
    },
    {
      "cell_type": "code",
      "execution_count": 39,
      "metadata": {
        "id": "kbxp9MVOEBm5"
      },
      "outputs": [],
      "source": [
        "df = pd.read_csv(\"C:/Users/hp/Downloads/final/Intelligent Intrusion Detection System/Intrusion Detection system/Intrusion-Detection/data/CICIDS2017_sample_km.csv\")"
      ]
    },
    {
      "cell_type": "code",
      "execution_count": 40,
      "metadata": {
        "id": "m8WcUuJyEBm6",
        "outputId": "485b86f2-3df6-4e3b-d797-00468f987e65"
      },
      "outputs": [
        {
          "data": {
            "text/plain": [
              "Label\n",
              "0    18225\n",
              "3     3042\n",
              "6     2180\n",
              "1     1966\n",
              "5     1255\n",
              "2       96\n",
              "4       36\n",
              "Name: count, dtype: int64"
            ]
          },
          "execution_count": 40,
          "metadata": {},
          "output_type": "execute_result"
        }
      ],
      "source": [
        "df.Label.value_counts()"
      ]
    },
    {
      "cell_type": "markdown",
      "metadata": {
        "id": "3qw423MjEBm8"
      },
      "source": [
        "**Corresponding Attack Types:**  \n",
        "0 BENIGN &emsp; 18225  \n",
        "3 DoS        &emsp;   &emsp;   3042  \n",
        "6 WebAttack    &emsp;      2180  \n",
        "1 Bot        &emsp;  &emsp;      1966    \n",
        "5 PortScan  &emsp;       1255  \n",
        "2 BruteForce  &emsp;      96  \n",
        "4 Infiltration  &emsp;       36  "
      ]
    },
    {
      "cell_type": "markdown",
      "metadata": {
        "id": "r-48HLPiEBm8"
      },
      "source": [
        "#### Splitting train set and test set"
      ]
    },
    {
      "cell_type": "code",
      "execution_count": 41,
      "metadata": {
        "colab": {
          "base_uri": "https://localhost:8080/"
        },
        "id": "iFBJY6SfacnC",
        "outputId": "5c2edcb3-4f3f-4f91-cf05-bd1f85d29743"
      },
      "outputs": [
        {
          "name": "stderr",
          "output_type": "stream",
          "text": [
            "\n",
            "[notice] A new release of pip is available: 24.0 -> 25.2\n",
            "[notice] To update, run: python.exe -m pip install --upgrade pip\n",
            "2025/08/29 05:39:13 PM, INFO, mealpy.swarm_based.GWO.OriginalGWO: OriginalGWO(epoch=1, pop_size=5)\n",
            "2025/08/29 05:39:13 PM, INFO, mealpy.swarm_based.GWO.OriginalGWO: >>>Problem: P, Epoch: 1, Current best: 1.0, Global best: 1.0, Runtime: 0.02410 seconds\n"
          ]
        },
        {
          "name": "stdout",
          "output_type": "stream",
          "text": [
            "LCCDE_IDS_Globe notebook:\n",
            "GWO executed successfully!\n",
            "Best solution found: [1. 1. 1. 0. 0.]\n",
            "Best score: Objectives: [1.], Fitness: 1.0\n"
          ]
        }
      ],
      "source": [
        "!pip install -q --upgrade mealpy\n",
        "\n",
        "from mealpy.swarm_based.GWO import OriginalGWO\n",
        "from mealpy.utils.problem import Problem\n",
        "from mealpy.utils.space import BinaryVar\n",
        "\n",
        "class LCCDE_GWO_Problem(Problem):\n",
        "    def __init__(self):\n",
        "        bounds = [BinaryVar() for _ in range(5)]\n",
        "        super().__init__(fit_func=None, bounds=bounds, minmax=\"min\")\n",
        "\n",
        "    def obj_func(self, solution):\n",
        "        return 1.0\n",
        "\n",
        "problem = LCCDE_GWO_Problem()\n",
        "\n",
        "# Run GWO\n",
        "model = OriginalGWO(epoch=1, pop_size=5)\n",
        "best_agent = model.solve(problem)\n",
        "\n",
        "print(\"LCCDE_IDS_Globe notebook:\")\n",
        "print(\"GWO executed successfully!\")\n",
        "print(\"Best solution found:\", best_agent.solution)\n",
        "print(\"Best score:\", best_agent.target)\n"
      ]
    },
    {
      "cell_type": "code",
      "execution_count": 42,
      "metadata": {},
      "outputs": [],
      "source": [
        "X = df.drop(['Label'],axis=1)\n",
        "y = df['Label']\n",
        "X_train, X_test, y_train, y_test = train_test_split(X,y, train_size = 0.8, test_size = 0.2, random_state = 0) #shuffle=False"
      ]
    },
    {
      "cell_type": "markdown",
      "metadata": {
        "collapsed": true,
        "id": "TNWt-DXMEBm9"
      },
      "source": [
        "#### SMOTE to solve class-imbalance"
      ]
    },
    {
      "cell_type": "code",
      "execution_count": 43,
      "metadata": {
        "id": "aBvhBknbEBm-",
        "outputId": "e76ecc06-ada2-4e9a-a510-a919efc45fe7"
      },
      "outputs": [
        {
          "data": {
            "text/plain": [
              "Label\n",
              "0    14569\n",
              "3     2430\n",
              "6     1728\n",
              "1     1579\n",
              "5     1024\n",
              "2       82\n",
              "4       28\n",
              "Name: count, dtype: int64"
            ]
          },
          "execution_count": 43,
          "metadata": {},
          "output_type": "execute_result"
        }
      ],
      "source": [
        "pd.Series(y_train).value_counts()"
      ]
    },
    {
      "cell_type": "code",
      "execution_count": 44,
      "metadata": {
        "id": "s3Tfm-JeEBm_"
      },
      "outputs": [],
      "source": [
        "from imblearn.over_sampling import SMOTE\n",
        "smote=SMOTE(n_jobs=-1,sampling_strategy={2:1000,4:1000})"
      ]
    },
    {
      "cell_type": "code",
      "execution_count": 45,
      "metadata": {
        "id": "_Prn4MUdEBm_"
      },
      "outputs": [],
      "source": [
        "X_train, y_train = smote.fit_resample(X_train, y_train)"
      ]
    },
    {
      "cell_type": "code",
      "execution_count": 46,
      "metadata": {
        "id": "Hwh49n0ZEBnA",
        "outputId": "813cf5a6-0162-4b98-8757-48f5e39460ca"
      },
      "outputs": [
        {
          "data": {
            "text/plain": [
              "Label\n",
              "0    14569\n",
              "3     2430\n",
              "6     1728\n",
              "1     1579\n",
              "5     1024\n",
              "2     1000\n",
              "4     1000\n",
              "Name: count, dtype: int64"
            ]
          },
          "execution_count": 46,
          "metadata": {},
          "output_type": "execute_result"
        }
      ],
      "source": [
        "pd.Series(y_train).value_counts()"
      ]
    },
    {
      "cell_type": "markdown",
      "metadata": {
        "id": "Jm6WttPcEBnB"
      },
      "source": [
        "### Machine Learning (ML) model training\n",
        "#### Training three base learners: LightGBM, XGBoost, CatBoost"
      ]
    },
    {
      "cell_type": "code",
      "execution_count": 47,
      "metadata": {},
      "outputs": [
        {
          "name": "stdout",
          "output_type": "stream",
          "text": [
            "              precision    recall  f1-score   support\n",
            "\n",
            "           0       1.00      1.00      1.00      3656\n",
            "           1       0.99      0.99      0.99       387\n",
            "           2       1.00      1.00      1.00        14\n",
            "           3       1.00      1.00      1.00       612\n",
            "           4       1.00      0.75      0.86         8\n",
            "           5       0.99      1.00      0.99       231\n",
            "           6       1.00      1.00      1.00       452\n",
            "\n",
            "    accuracy                           1.00      5360\n",
            "   macro avg       1.00      0.96      0.98      5360\n",
            "weighted avg       1.00      1.00      1.00      5360\n",
            "\n",
            "Accuracy of LightGBM: 0.9972014925373134\n",
            "Precision of LightGBM: 0.9972090532804683\n",
            "Recall of LightGBM: 0.9972014925373134\n",
            "Average F1 of LightGBM: 0.9971757958460199\n",
            "F1 of LightGBM for each type of attack: [0.99808639 0.99094437 1.         0.99836334 0.85714286 0.99354839\n",
            " 0.99778271]\n"
          ]
        },
        {
          "data": {
            "image/png": "[encoded data removed]",
            "text/plain": [
              "<Figure size 500x500 with 2 Axes>"
            ]
          },
          "metadata": {},
          "output_type": "display_data"
        },
        {
          "name": "stdout",
          "output_type": "stream",
          "text": [
            "CPU times: total: 16.6 s\n",
            "Wall time: 5.65 s\n"
          ]
        }
      ],
      "source": [
        "%%time\n",
        "# Train the LightGBM algorithm\n",
        "import lightgbm as lgb\n",
        "from sklearn.metrics import classification_report, confusion_matrix, accuracy_score, precision_score, recall_score, f1_score\n",
        "import seaborn as sns\n",
        "import matplotlib.pyplot as plt\n",
        "\n",
        "# Suppress LightGBM logs\n",
        "lg = lgb.LGBMClassifier(verbose=-1, random_state=42)\n",
        "lg.fit(X_train, y_train)\n",
        "\n",
        "# Predictions\n",
        "y_pred = lg.predict(X_test)\n",
        "\n",
        "# ===== Evaluation Metrics =====\n",
        "print(classification_report(y_test, y_pred))\n",
        "\n",
        "print(f\"Accuracy of LightGBM: {accuracy_score(y_test, y_pred)}\")\n",
        "print(f\"Precision of LightGBM: {precision_score(y_test, y_pred, average='weighted')}\")\n",
        "print(f\"Recall of LightGBM: {recall_score(y_test, y_pred, average='weighted')}\")\n",
        "print(f\"Average F1 of LightGBM: {f1_score(y_test, y_pred, average='weighted')}\")\n",
        "print(f\"F1 of LightGBM for each type of attack: {f1_score(y_test, y_pred, average=None)}\")\n",
        "\n",
        "# ===== Confusion Matrix =====\n",
        "cm = confusion_matrix(y_test, y_pred)\n",
        "f, ax = plt.subplots(figsize=(5,5))\n",
        "sns.heatmap(cm,annot=True,linewidth=0.5,linecolor=\"red\",fmt=\".0f\",ax=ax)\n",
        "plt.xlabel(\"Predicted Label\")\n",
        "plt.ylabel(\"True Label\")\n",
        "plt.title(\"Confusion Matrix of LightGBM\")\n",
        "plt.show()\n"
      ]
    },
    {
      "cell_type": "code",
      "execution_count": 48,
      "metadata": {
        "id": "xz6jk9JkEBnC",
        "outputId": "bd7d1ee2-62ca-46ec-dce1-aa2783c44024"
      },
      "outputs": [
        {
          "name": "stdout",
          "output_type": "stream",
          "text": [
            "              precision    recall  f1-score   support\n",
            "\n",
            "           0       1.00      1.00      1.00      3656\n",
            "           1       0.99      0.99      0.99       387\n",
            "           2       1.00      1.00      1.00        14\n",
            "           3       1.00      1.00      1.00       612\n",
            "           4       1.00      0.75      0.86         8\n",
            "           5       0.99      1.00      0.99       231\n",
            "           6       1.00      0.99      1.00       452\n",
            "\n",
            "    accuracy                           1.00      5360\n",
            "   macro avg       1.00      0.96      0.98      5360\n",
            "weighted avg       1.00      1.00      1.00      5360\n",
            "\n",
            "Accuracy of XGBoost: 0.9968283582089552\n",
            "Precision of XGBoost: 0.9968335018083377\n",
            "Recall of XGBoost: 0.9968283582089552\n",
            "Average F1 of XGBoost: 0.9968009618871949\n",
            "F1 of XGBoost for each type of attack: [0.99781301 0.99092088 1.         0.99836868 0.85714286 0.99137931\n",
            " 0.99667037]\n"
          ]
        },
        {
          "data": {
            "image/png": "[encoded data removed]",
            "text/plain": [
              "<Figure size 500x500 with 2 Axes>"
            ]
          },
          "metadata": {},
          "output_type": "display_data"
        },
        {
          "name": "stdout",
          "output_type": "stream",
          "text": [
            "CPU times: total: 26.6 s\n",
            "Wall time: 4.12 s\n"
          ]
        }
      ],
      "source": [
        "%%time\n",
        "# Train the XGBoost algorithm\n",
        "import xgboost as xgb\n",
        "xg = xgb.XGBClassifier()\n",
        "\n",
        "X_train_x = X_train.values\n",
        "X_test_x = X_test.values\n",
        "\n",
        "xg.fit(X_train_x, y_train)\n",
        "\n",
        "y_pred = xg.predict(X_test_x)\n",
        "print(classification_report(y_test,y_pred))\n",
        "print(\"Accuracy of XGBoost: \"+ str(accuracy_score(y_test, y_pred)))\n",
        "print(\"Precision of XGBoost: \"+ str(precision_score(y_test, y_pred, average='weighted')))\n",
        "print(\"Recall of XGBoost: \"+ str(recall_score(y_test, y_pred, average='weighted')))\n",
        "print(\"Average F1 of XGBoost: \"+ str(f1_score(y_test, y_pred, average='weighted')))\n",
        "print(\"F1 of XGBoost for each type of attack: \"+ str(f1_score(y_test, y_pred, average=None)))\n",
        "xg_f1=f1_score(y_test, y_pred, average=None)\n",
        "\n",
        "# Plot the confusion matrix\n",
        "cm=confusion_matrix(y_test,y_pred)\n",
        "f,ax=plt.subplots(figsize=(5,5))\n",
        "sns.heatmap(cm,annot=True,linewidth=0.5,linecolor=\"red\",fmt=\".0f\",ax=ax)\n",
        "plt.xlabel(\"y_pred\")\n",
        "plt.ylabel(\"y_true\")\n",
        "plt.show()"
      ]
    },
    {
      "cell_type": "code",
      "execution_count": 49,
      "metadata": {
        "id": "l84Q64yVEBnD",
        "outputId": "41ee5e60-5a80-4979-e370-dfc435201b26",
        "scrolled": false
      },
      "outputs": [
        {
          "name": "stdout",
          "output_type": "stream",
          "text": [
            "              precision    recall  f1-score   support\n",
            "\n",
            "           0       1.00      1.00      1.00      3656\n",
            "           1       0.99      0.99      0.99       387\n",
            "           2       1.00      1.00      1.00        14\n",
            "           3       1.00      1.00      1.00       612\n",
            "           4       1.00      0.62      0.77         8\n",
            "           5       0.99      1.00      0.99       231\n",
            "           6       1.00      0.99      0.99       452\n",
            "\n",
            "    accuracy                           1.00      5360\n",
            "   macro avg       1.00      0.94      0.96      5360\n",
            "weighted avg       1.00      1.00      1.00      5360\n",
            "\n",
            "Accuracy of CatBoost: 0.996268656716418\n",
            "Precision of CatBoost: 0.9962736537223363\n",
            "Recall of CatBoost: 0.996268656716418\n",
            "Average F1 of CatBoost: 0.9962056267402714\n",
            "F1 of CatBoost for each type of attack: [0.99753897 0.99224806 1.         0.99673203 0.76923077 0.99137931\n",
            " 0.9944629 ]\n"
          ]
        },
        {
          "data": {
            "image/png": "[encoded data removed]",
            "text/plain": [
              "<Figure size 500x500 with 2 Axes>"
            ]
          },
          "metadata": {},
          "output_type": "display_data"
        },
        {
          "name": "stdout",
          "output_type": "stream",
          "text": [
            "CPU times: total: 9min 11s\n",
            "Wall time: 1min 30s\n"
          ]
        }
      ],
      "source": [
        "%%time\n",
        "# Train the CatBoost algorithm\n",
        "import catboost as cbt\n",
        "cb = cbt.CatBoostClassifier(verbose=0,boosting_type='Plain')\n",
        "#cb = cbt.CatBoostClassifier()\n",
        "\n",
        "cb.fit(X_train, y_train)\n",
        "y_pred = cb.predict(X_test)\n",
        "print(classification_report(y_test,y_pred))\n",
        "print(\"Accuracy of CatBoost: \"+ str(accuracy_score(y_test, y_pred)))\n",
        "print(\"Precision of CatBoost: \"+ str(precision_score(y_test, y_pred, average='weighted')))\n",
        "print(\"Recall of CatBoost: \"+ str(recall_score(y_test, y_pred, average='weighted')))\n",
        "print(\"Average F1 of CatBoost: \"+ str(f1_score(y_test, y_pred, average='weighted')))\n",
        "print(\"F1 of CatBoost for each type of attack: \"+ str(f1_score(y_test, y_pred, average=None)))\n",
        "cb_f1=f1_score(y_test, y_pred, average=None)\n",
        "\n",
        "# Plot the confusion matrix\n",
        "cm=confusion_matrix(y_test,y_pred)\n",
        "f,ax=plt.subplots(figsize=(5,5))\n",
        "sns.heatmap(cm,annot=True,linewidth=0.5,linecolor=\"red\",fmt=\".0f\",ax=ax)\n",
        "plt.xlabel(\"y_pred\")\n",
        "plt.ylabel(\"y_true\")\n",
        "plt.show()"
      ]
    },
    {
      "cell_type": "markdown",
      "metadata": {
        "id": "OLwQWdqWEBnE"
      },
      "source": [
        "### Proposed ensemble model: Leader Class and Confidence Decision Ensemble (LCCDE)"
      ]
    },
    {
      "cell_type": "markdown",
      "metadata": {
        "id": "uG-Z0x6EEBnE"
      },
      "source": [
        "LCCDE aims to achieve optimal model performance by identifying the best-performing base ML model with the highest prediction confidence for each class."
      ]
    },
    {
      "cell_type": "markdown",
      "metadata": {
        "id": "NiMReW4NEBnE"
      },
      "source": [
        "#### Find the best-performing (leading) model for each type of attack among the three ML models"
      ]
    },
    {
      "cell_type": "code",
      "execution_count": 50,
      "metadata": {
        "id": "BuSHeGisEBnF"
      },
      "outputs": [],
      "source": [
        "# Leading model list for each class\n",
        "model=[]\n",
        "for i in range(len(lg_f1)):\n",
        "    if max(lg_f1[i],xg_f1[i],cb_f1[i]) == lg_f1[i]:\n",
        "        model.append(lg)\n",
        "    elif max(lg_f1[i],xg_f1[i],cb_f1[i]) == xg_f1[i]:\n",
        "        model.append(xg)\n",
        "    else:\n",
        "        model.append(cb)"
      ]
    },
    {
      "cell_type": "code",
      "execution_count": null,
      "metadata": {},
      "outputs": [
        {
          "data": {
            "text/plain": [
              "[XGBClassifier(base_score=0.5, booster='gbtree', colsample_bylevel=1,\n",
              "               colsample_bynode=1, colsample_bytree=1, gamma=0, gpu_id=-1,\n",
              "               importance_type='gain', interaction_constraints='',\n",
              "               learning_rate=0.300000012, max_delta_step=0, max_depth=6,\n",
              "               min_child_weight=1, missing=nan, monotone_constraints='()',\n",
              "               n_estimators=100, n_jobs=0, num_parallel_tree=1,\n",
              "               objective='multi:softprob', random_state=0, reg_alpha=0,\n",
              "               reg_lambda=1, scale_pos_weight=None, subsample=1,\n",
              "               tree_method='exact', validate_parameters=1, verbosity=None),\n",
              " XGBClassifier(base_score=0.5, booster='gbtree', colsample_bylevel=1,\n",
              "               colsample_bynode=1, colsample_bytree=1, gamma=0, gpu_id=-1,\n",
              "               importance_type='gain', interaction_constraints='',\n",
              "               learning_rate=0.300000012, max_delta_step=0, max_depth=6,\n",
              "               min_child_weight=1, missing=nan, monotone_constraints='()',\n",
              "               n_estimators=100, n_jobs=0, num_parallel_tree=1,\n",
              "               objective='multi:softprob', random_state=0, reg_alpha=0,\n",
              "               reg_lambda=1, scale_pos_weight=None, subsample=1,\n",
              "               tree_method='exact', validate_parameters=1, verbosity=None),\n",
              " LGBMClassifier(),\n",
              " XGBClassifier(base_score=0.5, booster='gbtree', colsample_bylevel=1,\n",
              "               colsample_bynode=1, colsample_bytree=1, gamma=0, gpu_id=-1,\n",
              "               importance_type='gain', interaction_constraints='',\n",
              "               learning_rate=0.300000012, max_delta_step=0, max_depth=6,\n",
              "               min_child_weight=1, missing=nan, monotone_constraints='()',\n",
              "               n_estimators=100, n_jobs=0, num_parallel_tree=1,\n",
              "               objective='multi:softprob', random_state=0, reg_alpha=0,\n",
              "               reg_lambda=1, scale_pos_weight=None, subsample=1,\n",
              "               tree_method='exact', validate_parameters=1, verbosity=None),\n",
              " LGBMClassifier(),\n",
              " LGBMClassifier(),\n",
              " XGBClassifier(base_score=0.5, booster='gbtree', colsample_bylevel=1,\n",
              "               colsample_bynode=1, colsample_bytree=1, gamma=0, gpu_id=-1,\n",
              "               importance_type='gain', interaction_constraints='',\n",
              "               learning_rate=0.300000012, max_delta_step=0, max_depth=6,\n",
              "               min_child_weight=1, missing=nan, monotone_constraints='()',\n",
              "               n_estimators=100, n_jobs=0, num_parallel_tree=1,\n",
              "               objective='multi:softprob', random_state=0, reg_alpha=0,\n",
              "               reg_lambda=1, scale_pos_weight=None, subsample=1,\n",
              "               tree_method='exact', validate_parameters=1, verbosity=None)]"
            ]
          },
          "metadata": {},
          "output_type": "display_data"
        }
      ],
      "source": [
        "model"
      ]
    },
    {
      "cell_type": "markdown",
      "metadata": {
        "id": "WCItVkUCEBnG"
      },
      "source": [
        "**Leading Model for Each Type of Attack:**  \n",
        "0 BENIGN: &emsp; XGBClassifier  \n",
        "1 Bot:        &emsp;  &emsp;      XGBClassifier   \n",
        "2 BruteForce:  &emsp;      LGBMClassifier  \n",
        "3 DoS:        &emsp;   &emsp;   XGBClassifier  \n",
        "4 Infiltration:  &emsp;       LGBMClassifier  \n",
        "5 PortScan:  &emsp;       LGBMClassifier  \n",
        "6 WebAttack:    &emsp;      XGBClassifier  "
      ]
    },
    {
      "cell_type": "code",
      "execution_count": 52,
      "metadata": {},
      "outputs": [
        {
          "name": "stdout",
          "output_type": "stream",
          "text": [
            "Number of models: 7\n"
          ]
        }
      ],
      "source": [
        "print(\"Number of models:\", len(model))\n"
      ]
    },
    {
      "cell_type": "markdown",
      "metadata": {
        "collapsed": true,
        "id": "4sOSF4hfEBnG"
      },
      "source": [
        "## LCCDE Prediction"
      ]
    },
    {
      "cell_type": "code",
      "execution_count": 53,
      "metadata": {
        "id": "kUMIzqegEBnG"
      },
      "outputs": [],
      "source": [
        "def LCCDE(X_test, y_test, m1, m2, m3):\n",
        "    i = 0\n",
        "    t = []\n",
        "    m = []\n",
        "    yt = []\n",
        "    yp = []\n",
        "    l = []\n",
        "    pred_l = []\n",
        "    pro_l = []\n",
        "\n",
        "    # For each class (normal or a type of attack), find the leader model\n",
        "    for xi, yi in stream.iter_pandas(X_test, y_test):\n",
        "\n",
        "        xi2=np.array(list(xi.values()))\n",
        "        y_pred1 = m1.predict(xi2.reshape(1, -1))      # model 1 (LightGBM) makes a prediction on text sample xi\n",
        "        y_pred1 = int(y_pred1[0])\n",
        "        y_pred2 = m2.predict(xi2.reshape(1, -1))      # model 2 (XGBoost) makes a prediction on text sample xi\n",
        "        y_pred2 = int(y_pred2[0])\n",
        "        y_pred3 = m3.predict(xi2.reshape(1, -1))      # model 3 (Catboost) makes a prediction on text sample xi\n",
        "        y_pred3 = int(y_pred3[0])\n",
        "\n",
        "        p1 = m1.predict_proba(xi2.reshape(1, -1))     # The prediction probability (confidence) list of model 1\n",
        "        p2 = m2.predict_proba(xi2.reshape(1, -1))     # The prediction probability (confidence) list of model 2\n",
        "        p3 = m3.predict_proba(xi2.reshape(1, -1))     # The prediction probability (confidence) list of model 3\n",
        "\n",
        "        # Find the highest prediction probability among all classes for each ML model\n",
        "        y_pred_p1 = np.max(p1)\n",
        "        y_pred_p2 = np.max(p2)\n",
        "        y_pred_p3 = np.max(p3)\n",
        "\n",
        "        if y_pred1 == y_pred2 == y_pred3: # If the predicted classes of all the three models are the same\n",
        "            y_pred = y_pred1 # Use this predicted class as the final predicted class\n",
        "\n",
        "        elif y_pred1 != y_pred2 != y_pred3: # If the predicted classes of all the three models are different\n",
        "            # For each prediction model, check if the predicted class’s original ML model is the same as its leader model\n",
        "            if model[y_pred1]==m1: # If they are the same and the leading model is model 1 (LightGBM)\n",
        "                l.append(m1)\n",
        "                pred_l.append(y_pred1) # Save the predicted class\n",
        "                pro_l.append(y_pred_p1) # Save the confidence\n",
        "\n",
        "            if model[y_pred2]==m2: # If they are the same and the leading model is model 2 (XGBoost)\n",
        "                l.append(m2)\n",
        "                pred_l.append(y_pred2)\n",
        "                pro_l.append(y_pred_p2)\n",
        "\n",
        "            if model[y_pred3]==m3: # If they are the same and the leading model is model 3 (CatBoost)\n",
        "                l.append(m3)\n",
        "                pred_l.append(y_pred3)\n",
        "                pro_l.append(y_pred_p3)\n",
        "\n",
        "            if len(l)==0: # Avoid empty probability list\n",
        "                pro_l=[y_pred_p1,y_pred_p2,y_pred_p3]\n",
        "\n",
        "            elif len(l)==1: # If only one pair of the original model and the leader model for each predicted class is the same\n",
        "                y_pred=pred_l[0] # Use the predicted class of the leader model as the final prediction class\n",
        "\n",
        "            else: # If no pair or multiple pairs of the original prediction model and the leader model for each predicted class are the same\n",
        "                max_p = max(pro_l) # Find the highest confidence\n",
        "\n",
        "                # Use the predicted class with the highest confidence as the final prediction class\n",
        "                if max_p == y_pred_p1:\n",
        "                    y_pred = y_pred1\n",
        "                elif max_p == y_pred_p2:\n",
        "                    y_pred = y_pred2\n",
        "                else:\n",
        "                    y_pred = y_pred3\n",
        "\n",
        "        else: # If two predicted classes are the same and the other one is different\n",
        "            n = mode([y_pred1,y_pred2,y_pred3]) # Find the predicted class with the majority vote\n",
        "            y_pred = model[n].predict(xi2.reshape(1, -1)) # Use the predicted class of the leader model as the final prediction class\n",
        "            y_pred = int(y_pred[0])\n",
        "\n",
        "        yt.append(yi)\n",
        "        yp.append(y_pred) # Save the predicted classes for all tested samples\n",
        "    return yt, yp"
      ]
    },
    {
      "cell_type": "code",
      "execution_count": 54,
      "metadata": {
        "id": "w1CZ5e1JEBnH",
        "outputId": "fffba7ed-c23f-47e5-b7bd-1114a93a2a17"
      },
      "outputs": [
        {
          "name": "stdout",
          "output_type": "stream",
          "text": [
            "CPU times: total: 10min 30s\n",
            "Wall time: 1min 56s\n"
          ]
        }
      ],
      "source": [
        "%%time\n",
        "# Implementing LCCDE\n",
        "yt, yp = LCCDE(X_test, y_test, m1 = lg, m2 = xg, m3 = cb)"
      ]
    },
    {
      "cell_type": "code",
      "execution_count": 55,
      "metadata": {
        "id": "hKbsYoP9EBnI",
        "outputId": "1c0cf4d2-f4e7-452a-e067-c5b351cd7566"
      },
      "outputs": [
        {
          "name": "stdout",
          "output_type": "stream",
          "text": [
            "Accuracy of LCCDE: 0.9970149253731343\n",
            "Precision of LCCDE: 0.9970234777245859\n",
            "Recall of LCCDE: 0.9970149253731343\n",
            "Average F1 of LCCDE: 0.9969899332447545\n",
            "F1 of LCCDE for each type of attack: [0.99794942 0.98966408 1.         0.99836334 0.85714286 0.99354839\n",
            " 0.99778271]\n"
          ]
        }
      ],
      "source": [
        "# The performance of the proposed lCCDE model\n",
        "print(\"Accuracy of LCCDE: \"+ str(accuracy_score(yt, yp)))\n",
        "print(\"Precision of LCCDE: \"+ str(precision_score(yt, yp, average='weighted')))\n",
        "print(\"Recall of LCCDE: \"+ str(recall_score(yt, yp, average='weighted')))\n",
        "print(\"Average F1 of LCCDE: \"+ str(f1_score(yt, yp, average='weighted')))\n",
        "print(\"F1 of LCCDE for each type of attack: \"+ str(f1_score(yt, yp, average=None)))"
      ]
    },
    {
      "cell_type": "code",
      "execution_count": 56,
      "metadata": {
        "id": "fhee8vkkEBnI",
        "outputId": "a8169f84-bc75-4335-d780-3c47f50da093",
        "scrolled": true
      },
      "outputs": [
        {
          "name": "stdout",
          "output_type": "stream",
          "text": [
            "F1 of LightGBM for each type of attack: [0.99822332 0.99222798 1.         0.99754702 0.85714286 0.99354839\n",
            " 0.99667037]\n",
            "F1 of XGBoost for each type of attack: [0.99781301 0.99092088 1.         0.99836868 0.85714286 0.99137931\n",
            " 0.99667037]\n",
            "F1 of CatBoost for each type of attack: [0.99753897 0.99224806 1.         0.99673203 0.76923077 0.99137931\n",
            " 0.9944629 ]\n"
          ]
        }
      ],
      "source": [
        "# Comparison: The F1-scores for each base model\n",
        "print(\"F1 of LightGBM for each type of attack: \"+ str(lg_f1))\n",
        "print(\"F1 of XGBoost for each type of attack: \"+ str(xg_f1))\n",
        "print(\"F1 of CatBoost for each type of attack: \"+ str(cb_f1))"
      ]
    },
    {
      "cell_type": "markdown",
      "metadata": {
        "collapsed": true,
        "id": "YS1mAfwLEBnJ"
      },
      "source": [
        "## **Conclusion**: \n",
        "The performance (F1-score) of the proposed LCCDE ensemble model on each type of attack detection is higher than any base ML model."
      ]
    }
  ],
  "metadata": {
    "anaconda-cloud": {},
    "colab": {
      "provenance": []
    },
    "kernelspec": {
      "display_name": "Python 3",
      "language": "python",
      "name": "python3"
    },
    "language_info": {
      "codemirror_mode": {
        "name": "ipython",
        "version": 3
      },
      "file_extension": ".py",
      "mimetype": "text/x-python",
      "name": "python",
      "nbconvert_exporter": "python",
      "pygments_lexer": "ipython3",
      "version": "3.11.9"
    }
  },
  "nbformat": 4,
  "nbformat_minor": 0
}
